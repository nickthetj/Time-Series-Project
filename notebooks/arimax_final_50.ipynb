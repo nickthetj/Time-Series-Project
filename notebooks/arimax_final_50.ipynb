{
 "cells": [
  {
   "cell_type": "markdown",
   "id": "d7613042-8637-448a-b09d-c03a35601d79",
   "metadata": {},
   "source": [
    "# Arima: Forecasting the Next 50 States"
   ]
  },
  {
   "cell_type": "markdown",
   "id": "97ce01e0-df29-45e0-89eb-e624921b0c26",
   "metadata": {},
   "source": [
    "### Import Packages"
   ]
  },
  {
   "cell_type": "code",
   "execution_count": 1,
   "id": "db24c77f-bd40-4379-94c8-530aa4101968",
   "metadata": {},
   "outputs": [],
   "source": [
    "import re\n",
    "import pandas as pd\n",
    "import pmdarima as pmd\n",
    "import matplotlib\n",
    "import matplotlib.pyplot as plt\n",
    "import numpy as np\n",
    "import math\n",
    "from sklearn.metrics import classification_report"
   ]
  },
  {
   "cell_type": "markdown",
   "id": "b8b70e2e-208d-4427-bcbe-682c8883045c",
   "metadata": {},
   "source": [
    "### Prepare Data"
   ]
  },
  {
   "cell_type": "code",
   "execution_count": 2,
   "id": "f4554e7c-efad-4fa2-a77b-ee4e088386e5",
   "metadata": {
    "tags": []
   },
   "outputs": [],
   "source": [
    "# file names\n",
    "## training\n",
    "### subjects 1-30\n",
    "train_subject_f = \"UCI_HAR_Dataset/train/subject_train.txt\"\n",
    "### features\n",
    "x_train_f = \"UCI_HAR_Dataset/train/X_train.txt\"\n",
    "### classification \n",
    "y_train_f = \"UCI_HAR_Dataset/train/y_train.txt\"\n",
    "\n",
    "## testing\n",
    "### subjects 1-30\n",
    "test_subject_f = \"UCI_HAR_Dataset/test/subject_test.txt\"\n",
    "### features\n",
    "x_test_f = \"UCI_HAR_Dataset/test/X_test.txt\"\n",
    "### classification \n",
    "y_test_f = \"UCI_HAR_Dataset/test/y_test.txt\""
   ]
  },
  {
   "cell_type": "code",
   "execution_count": 3,
   "id": "324d0b13-e350-4c9b-aa09-5fc7e3bcdc4f",
   "metadata": {
    "tags": []
   },
   "outputs": [],
   "source": [
    "# training data frames\n",
    "train_subject_df = pd.read_csv(train_subject_f, sep=' ', header=None)\n",
    "x_train_df = pd.read_fwf(x_train_f, header=None)\n",
    "y_train_df = pd.read_csv(y_train_f, sep=' ', header=None)\n",
    "\n",
    "# testing dataframes\n",
    "test_subject_df = pd.read_csv(test_subject_f, sep=' ', header=None)\n",
    "x_test_df = pd.read_fwf(x_test_f, header=None)\n",
    "y_test_df = pd.read_csv(y_test_f, sep=' ', header=None)"
   ]
  },
  {
   "cell_type": "code",
   "execution_count": 4,
   "id": "bd485030-713b-41cd-ac13-4489f893394d",
   "metadata": {
    "tags": []
   },
   "outputs": [],
   "source": [
    "# combine subject information with training/testing data frames\n",
    "x_train_df.insert(0, \"Subject\", train_subject_df)\n",
    "y_train_df.insert(0, \"Subject\", train_subject_df)\n",
    "x_test_df.insert(0, \"Subject\", test_subject_df)\n",
    "y_test_df.insert(0, \"Subject\", test_subject_df)"
   ]
  },
  {
   "cell_type": "code",
   "execution_count": 5,
   "id": "29d22eba-f202-436a-be98-de4e6a6344c8",
   "metadata": {},
   "outputs": [],
   "source": [
    "# get list of features\n",
    "# read the file \n",
    "features_file = open(\"UCI_HAR_Dataset/features.txt\", \"r\") \n",
    "features_txt = features_file.read() \n",
    "  \n",
    "# create list - one entry for each new line in file \n",
    "features_list = features_txt.split(\"\\n\") \n",
    "features_file.close() \n",
    "\n",
    "# remove last entry ' '\n",
    "features_list.pop();"
   ]
  },
  {
   "cell_type": "code",
   "execution_count": 6,
   "id": "0c924c08-4a9b-41fc-91f5-39e2046c4a89",
   "metadata": {
    "tags": []
   },
   "outputs": [
    {
     "name": "stderr",
     "output_type": "stream",
     "text": [
      "<>:2: SyntaxWarning: invalid escape sequence '\\s'\n",
      "<>:2: SyntaxWarning: invalid escape sequence '\\s'\n",
      "/var/folders/6g/lht9tm8x1bz3sdrs0xk_d2m00000gn/T/ipykernel_38350/3421664769.py:2: SyntaxWarning: invalid escape sequence '\\s'\n",
      "  features_fixed = [re.split(\"\\s\", elem, 1)[1] for elem in features_list]\n"
     ]
    }
   ],
   "source": [
    "# clean the strings, add in first column (subject)\n",
    "features_fixed = [re.split(\"\\s\", elem, 1)[1] for elem in features_list]\n",
    "features_fixed.insert(0, \"Subject\")"
   ]
  },
  {
   "cell_type": "code",
   "execution_count": 7,
   "id": "40d808ba-1535-4a55-b849-0b72aec127e8",
   "metadata": {
    "tags": []
   },
   "outputs": [],
   "source": [
    "# remove fourier transform columns, and keep only mean measurements + subject column\n",
    "indices = [((elem[0] != 'f') and (('mean' in elem) or ('ubject' in elem))) \n",
    "           for elem in features_fixed]\n",
    "x_train_df = x_train_df[x_train_df.columns[indices]]\n",
    "x_test_df = x_test_df[x_test_df.columns[indices]]"
   ]
  },
  {
   "cell_type": "code",
   "execution_count": 8,
   "id": "08f36369-733e-4c18-b133-85122b566b3b",
   "metadata": {},
   "outputs": [],
   "source": [
    "# combine testing and training data frames into one\n",
    "y_all_data = pd.concat([y_train_df, y_test_df], axis=0)\n",
    "x_all_data = pd.concat([x_train_df, x_test_df], axis=0)"
   ]
  },
  {
   "cell_type": "markdown",
   "id": "83f24e9c-d213-4721-9e6a-7f580304fd92",
   "metadata": {},
   "source": [
    "### Building an Optimized Arima Model Per Subject"
   ]
  },
  {
   "cell_type": "code",
   "execution_count": 9,
   "id": "0aa60e8d-6846-4bd0-85ea-b6c4e81a885d",
   "metadata": {},
   "outputs": [],
   "source": [
    "# function to build arima model with optimized p,d,q parameters\n",
    "def arimamodel(timeseries_array, exog_vars):\n",
    "    autoarima_model = pmd.auto_arima(timeseries_array,\n",
    "                                     exog_vars,\n",
    "                                     start_p=1, \n",
    "                                     start_q=1,\n",
    "                                     test=\"adf\",\n",
    "                                     trace=True)\n",
    "    return autoarima_model"
   ]
  },
  {
   "cell_type": "code",
   "execution_count": 10,
   "id": "68564341-d71a-4592-83f7-132a4a97a954",
   "metadata": {},
   "outputs": [],
   "source": [
    "# empty dataframe for predictions, original results, and AIC\n",
    "predictions = pd.DataFrame()\n",
    "testing = pd.DataFrame()\n",
    "aic = pd.DataFrame()"
   ]
  },
  {
   "cell_type": "code",
   "execution_count": 11,
   "id": "17c8a517-69f6-43d3-8850-fd7a853fcb1d",
   "metadata": {},
   "outputs": [
    {
     "name": "stdout",
     "output_type": "stream",
     "text": [
      "Performing stepwise search to minimize aic\n",
      " ARIMA(1,1,1)(0,0,0)[0] intercept   : AIC=39.094, Time=0.92 sec\n",
      " ARIMA(0,1,0)(0,0,0)[0] intercept   : AIC=39.959, Time=0.09 sec\n",
      " ARIMA(1,1,0)(0,0,0)[0] intercept   : AIC=38.010, Time=0.60 sec\n",
      " ARIMA(0,1,1)(0,0,0)[0] intercept   : AIC=37.428, Time=0.96 sec\n",
      " ARIMA(0,1,0)(0,0,0)[0]             : AIC=37.998, Time=0.31 sec\n",
      " ARIMA(0,1,2)(0,0,0)[0] intercept   : AIC=38.889, Time=1.05 sec\n",
      " ARIMA(1,1,2)(0,0,0)[0] intercept   : AIC=41.053, Time=1.07 sec\n",
      " ARIMA(0,1,1)(0,0,0)[0]             : AIC=35.439, Time=0.82 sec\n",
      " ARIMA(1,1,1)(0,0,0)[0]             : AIC=37.110, Time=0.85 sec\n",
      " ARIMA(0,1,2)(0,0,0)[0]             : AIC=36.902, Time=0.97 sec\n",
      " ARIMA(1,1,0)(0,0,0)[0]             : AIC=36.022, Time=0.59 sec\n",
      " ARIMA(1,1,2)(0,0,0)[0]             : AIC=39.009, Time=1.11 sec\n",
      "\n",
      "Best model:  ARIMA(0,1,1)(0,0,0)[0]          \n",
      "Total fit time: 9.393 seconds\n",
      "Performing stepwise search to minimize aic\n",
      " ARIMA(1,1,1)(0,0,0)[0] intercept   : AIC=22.610, Time=0.79 sec\n",
      " ARIMA(0,1,0)(0,0,0)[0] intercept   : AIC=20.605, Time=0.45 sec\n",
      " ARIMA(1,1,0)(0,0,0)[0] intercept   : AIC=20.615, Time=0.58 sec\n",
      " ARIMA(0,1,1)(0,0,0)[0] intercept   : AIC=20.658, Time=0.74 sec\n",
      " ARIMA(0,1,0)(0,0,0)[0]             : AIC=19.120, Time=0.28 sec\n",
      "\n",
      "Best model:  ARIMA(0,1,0)(0,0,0)[0]          \n",
      "Total fit time: 2.868 seconds\n",
      "Performing stepwise search to minimize aic\n",
      " ARIMA(1,0,1)(0,0,0)[0] intercept   : AIC=85.512, Time=0.72 sec\n",
      " ARIMA(0,0,0)(0,0,0)[0] intercept   : AIC=642.509, Time=0.49 sec\n",
      " ARIMA(1,0,0)(0,0,0)[0] intercept   : AIC=87.228, Time=0.54 sec\n",
      " ARIMA(0,0,1)(0,0,0)[0] intercept   : AIC=408.274, Time=0.88 sec\n",
      " ARIMA(0,0,0)(0,0,0)[0]             : AIC=641.483, Time=0.28 sec\n",
      " ARIMA(2,0,1)(0,0,0)[0] intercept   : AIC=82.590, Time=0.85 sec\n",
      " ARIMA(2,0,0)(0,0,0)[0] intercept   : AIC=84.466, Time=1.09 sec\n",
      " ARIMA(3,0,1)(0,0,0)[0] intercept   : AIC=88.366, Time=1.45 sec\n",
      " ARIMA(2,0,2)(0,0,0)[0] intercept   : AIC=88.288, Time=1.10 sec\n",
      " ARIMA(1,0,2)(0,0,0)[0] intercept   : AIC=88.017, Time=1.04 sec\n",
      " ARIMA(3,0,0)(0,0,0)[0] intercept   : AIC=84.904, Time=1.29 sec\n",
      " ARIMA(3,0,2)(0,0,0)[0] intercept   : AIC=89.085, Time=1.26 sec\n",
      " ARIMA(2,0,1)(0,0,0)[0]             : AIC=91.409, Time=0.84 sec\n",
      "\n",
      "Best model:  ARIMA(2,0,1)(0,0,0)[0] intercept\n",
      "Total fit time: 11.872 seconds\n",
      "Performing stepwise search to minimize aic\n"
     ]
    },
    {
     "name": "stderr",
     "output_type": "stream",
     "text": [
      "/Library/Frameworks/Python.framework/Versions/3.12/lib/python3.12/site-packages/statsmodels/tsa/base/tsa_model.py:836: ValueWarning: No supported index is available. Prediction results will be given with an integer index beginning at `start`.\n",
      "  return get_prediction_index(\n",
      "/Library/Frameworks/Python.framework/Versions/3.12/lib/python3.12/site-packages/statsmodels/tsa/base/tsa_model.py:836: FutureWarning: No supported index is available. In the next version, calling this method in a model without a supported index will result in an exception.\n",
      "  return get_prediction_index(\n"
     ]
    },
    {
     "name": "stdout",
     "output_type": "stream",
     "text": [
      " ARIMA(1,0,1)(0,0,0)[0] intercept   : AIC=15.264, Time=0.74 sec\n",
      " ARIMA(0,0,0)(0,0,0)[0] intercept   : AIC=512.640, Time=0.55 sec\n",
      " ARIMA(1,0,0)(0,0,0)[0] intercept   : AIC=12.177, Time=0.53 sec\n",
      " ARIMA(0,0,1)(0,0,0)[0] intercept   : AIC=333.117, Time=0.71 sec\n",
      " ARIMA(0,0,0)(0,0,0)[0]             : AIC=530.983, Time=0.23 sec\n",
      " ARIMA(2,0,0)(0,0,0)[0] intercept   : AIC=14.129, Time=0.73 sec\n",
      " ARIMA(2,0,1)(0,0,0)[0] intercept   : AIC=179.085, Time=0.89 sec\n",
      " ARIMA(1,0,0)(0,0,0)[0]             : AIC=inf, Time=0.63 sec\n",
      "\n",
      "Best model:  ARIMA(1,0,0)(0,0,0)[0] intercept\n",
      "Total fit time: 5.031 seconds\n",
      "Performing stepwise search to minimize aic\n"
     ]
    },
    {
     "name": "stderr",
     "output_type": "stream",
     "text": [
      "/Library/Frameworks/Python.framework/Versions/3.12/lib/python3.12/site-packages/statsmodels/tsa/base/tsa_model.py:836: ValueWarning: No supported index is available. Prediction results will be given with an integer index beginning at `start`.\n",
      "  return get_prediction_index(\n",
      "/Library/Frameworks/Python.framework/Versions/3.12/lib/python3.12/site-packages/statsmodels/tsa/base/tsa_model.py:836: FutureWarning: No supported index is available. In the next version, calling this method in a model without a supported index will result in an exception.\n",
      "  return get_prediction_index(\n"
     ]
    },
    {
     "name": "stdout",
     "output_type": "stream",
     "text": [
      " ARIMA(1,0,1)(0,0,0)[0] intercept   : AIC=63.618, Time=0.80 sec\n",
      " ARIMA(0,0,0)(0,0,0)[0] intercept   : AIC=465.424, Time=0.53 sec\n",
      " ARIMA(1,0,0)(0,0,0)[0] intercept   : AIC=67.395, Time=0.54 sec\n",
      " ARIMA(0,0,1)(0,0,0)[0] intercept   : AIC=306.283, Time=0.71 sec\n",
      " ARIMA(0,0,0)(0,0,0)[0]             : AIC=473.346, Time=0.24 sec\n",
      " ARIMA(2,0,1)(0,0,0)[0] intercept   : AIC=52.442, Time=0.73 sec\n",
      " ARIMA(2,0,0)(0,0,0)[0] intercept   : AIC=56.459, Time=0.76 sec\n",
      " ARIMA(3,0,1)(0,0,0)[0] intercept   : AIC=71.224, Time=1.03 sec\n",
      " ARIMA(2,0,2)(0,0,0)[0] intercept   : AIC=110.789, Time=1.10 sec\n",
      " ARIMA(1,0,2)(0,0,0)[0] intercept   : AIC=64.019, Time=0.94 sec\n",
      " ARIMA(3,0,0)(0,0,0)[0] intercept   : AIC=61.887, Time=0.90 sec\n",
      " ARIMA(3,0,2)(0,0,0)[0] intercept   : AIC=inf, Time=1.08 sec\n",
      " ARIMA(2,0,1)(0,0,0)[0]             : AIC=58.314, Time=0.79 sec\n",
      "\n",
      "Best model:  ARIMA(2,0,1)(0,0,0)[0] intercept\n",
      "Total fit time: 10.208 seconds\n",
      "Performing stepwise search to minimize aic\n"
     ]
    },
    {
     "name": "stderr",
     "output_type": "stream",
     "text": [
      "/Library/Frameworks/Python.framework/Versions/3.12/lib/python3.12/site-packages/statsmodels/tsa/base/tsa_model.py:836: ValueWarning: No supported index is available. Prediction results will be given with an integer index beginning at `start`.\n",
      "  return get_prediction_index(\n",
      "/Library/Frameworks/Python.framework/Versions/3.12/lib/python3.12/site-packages/statsmodels/tsa/base/tsa_model.py:836: FutureWarning: No supported index is available. In the next version, calling this method in a model without a supported index will result in an exception.\n",
      "  return get_prediction_index(\n"
     ]
    },
    {
     "name": "stdout",
     "output_type": "stream",
     "text": [
      " ARIMA(1,0,1)(0,0,0)[0] intercept   : AIC=-11.779, Time=0.77 sec\n",
      " ARIMA(0,0,0)(0,0,0)[0] intercept   : AIC=526.818, Time=0.52 sec\n",
      " ARIMA(1,0,0)(0,0,0)[0] intercept   : AIC=-16.705, Time=0.58 sec\n",
      " ARIMA(0,0,1)(0,0,0)[0] intercept   : AIC=327.567, Time=0.74 sec\n",
      " ARIMA(0,0,0)(0,0,0)[0]             : AIC=544.323, Time=0.25 sec\n",
      " ARIMA(2,0,0)(0,0,0)[0] intercept   : AIC=-5.398, Time=0.76 sec\n",
      " ARIMA(2,0,1)(0,0,0)[0] intercept   : AIC=-7.578, Time=0.83 sec\n",
      " ARIMA(1,0,0)(0,0,0)[0]             : AIC=inf, Time=0.53 sec\n",
      "\n",
      "Best model:  ARIMA(1,0,0)(0,0,0)[0] intercept\n",
      "Total fit time: 5.003 seconds\n",
      "Performing stepwise search to minimize aic\n"
     ]
    },
    {
     "name": "stderr",
     "output_type": "stream",
     "text": [
      "/Library/Frameworks/Python.framework/Versions/3.12/lib/python3.12/site-packages/statsmodels/tsa/base/tsa_model.py:836: ValueWarning: No supported index is available. Prediction results will be given with an integer index beginning at `start`.\n",
      "  return get_prediction_index(\n",
      "/Library/Frameworks/Python.framework/Versions/3.12/lib/python3.12/site-packages/statsmodels/tsa/base/tsa_model.py:836: FutureWarning: No supported index is available. In the next version, calling this method in a model without a supported index will result in an exception.\n",
      "  return get_prediction_index(\n"
     ]
    },
    {
     "name": "stdout",
     "output_type": "stream",
     "text": [
      " ARIMA(1,0,1)(0,0,0)[0] intercept   : AIC=-101.929, Time=0.74 sec\n",
      " ARIMA(0,0,0)(0,0,0)[0] intercept   : AIC=531.389, Time=0.51 sec\n",
      " ARIMA(1,0,0)(0,0,0)[0] intercept   : AIC=-92.868, Time=0.50 sec\n",
      " ARIMA(0,0,1)(0,0,0)[0] intercept   : AIC=338.383, Time=0.80 sec\n",
      " ARIMA(0,0,0)(0,0,0)[0]             : AIC=529.418, Time=0.21 sec\n",
      " ARIMA(2,0,1)(0,0,0)[0] intercept   : AIC=188.097, Time=0.75 sec\n",
      " ARIMA(1,0,2)(0,0,0)[0] intercept   : AIC=-99.770, Time=0.93 sec\n",
      " ARIMA(0,0,2)(0,0,0)[0] intercept   : AIC=233.799, Time=0.92 sec\n",
      " ARIMA(2,0,0)(0,0,0)[0] intercept   : AIC=-94.193, Time=0.73 sec\n",
      " ARIMA(2,0,2)(0,0,0)[0] intercept   : AIC=-99.719, Time=0.98 sec\n",
      " ARIMA(1,0,1)(0,0,0)[0]             : AIC=-124.129, Time=0.72 sec\n",
      " ARIMA(0,0,1)(0,0,0)[0]             : AIC=337.120, Time=0.69 sec\n",
      " ARIMA(1,0,0)(0,0,0)[0]             : AIC=inf, Time=0.47 sec\n",
      " ARIMA(2,0,1)(0,0,0)[0]             : AIC=-56.209, Time=0.79 sec\n",
      " ARIMA(1,0,2)(0,0,0)[0]             : AIC=-98.102, Time=0.98 sec\n",
      " ARIMA(0,0,2)(0,0,0)[0]             : AIC=245.538, Time=1.03 sec\n",
      " ARIMA(2,0,0)(0,0,0)[0]             : AIC=inf, Time=0.73 sec\n",
      " ARIMA(2,0,2)(0,0,0)[0]             : AIC=-102.671, Time=1.06 sec\n",
      "\n",
      "Best model:  ARIMA(1,0,1)(0,0,0)[0]          \n",
      "Total fit time: 13.607 seconds\n",
      "Performing stepwise search to minimize aic\n"
     ]
    },
    {
     "name": "stderr",
     "output_type": "stream",
     "text": [
      "/Library/Frameworks/Python.framework/Versions/3.12/lib/python3.12/site-packages/statsmodels/tsa/base/tsa_model.py:836: ValueWarning: No supported index is available. Prediction results will be given with an integer index beginning at `start`.\n",
      "  return get_prediction_index(\n",
      "/Library/Frameworks/Python.framework/Versions/3.12/lib/python3.12/site-packages/statsmodels/tsa/base/tsa_model.py:836: FutureWarning: No supported index is available. In the next version, calling this method in a model without a supported index will result in an exception.\n",
      "  return get_prediction_index(\n"
     ]
    },
    {
     "name": "stdout",
     "output_type": "stream",
     "text": [
      " ARIMA(1,1,1)(0,0,0)[0] intercept   : AIC=-7.357, Time=0.76 sec\n",
      " ARIMA(0,1,0)(0,0,0)[0] intercept   : AIC=-5.283, Time=0.43 sec\n",
      " ARIMA(1,1,0)(0,0,0)[0] intercept   : AIC=-7.493, Time=0.52 sec\n",
      " ARIMA(0,1,1)(0,0,0)[0] intercept   : AIC=-7.975, Time=0.68 sec\n",
      " ARIMA(0,1,0)(0,0,0)[0]             : AIC=-6.300, Time=0.30 sec\n",
      " ARIMA(0,1,2)(0,0,0)[0] intercept   : AIC=-6.493, Time=0.91 sec\n",
      " ARIMA(1,1,2)(0,0,0)[0] intercept   : AIC=-5.720, Time=0.94 sec\n",
      " ARIMA(0,1,1)(0,0,0)[0]             : AIC=-9.254, Time=0.69 sec\n",
      " ARIMA(1,1,1)(0,0,0)[0]             : AIC=-8.629, Time=0.77 sec\n",
      " ARIMA(0,1,2)(0,0,0)[0]             : AIC=-7.719, Time=0.98 sec\n",
      " ARIMA(1,1,0)(0,0,0)[0]             : AIC=-8.777, Time=0.42 sec\n",
      " ARIMA(1,1,2)(0,0,0)[0]             : AIC=-7.004, Time=0.97 sec\n",
      "\n",
      "Best model:  ARIMA(0,1,1)(0,0,0)[0]          \n",
      "Total fit time: 8.418 seconds\n",
      "Performing stepwise search to minimize aic\n"
     ]
    },
    {
     "name": "stderr",
     "output_type": "stream",
     "text": [
      "/Library/Frameworks/Python.framework/Versions/3.12/lib/python3.12/site-packages/statsmodels/tsa/base/tsa_model.py:836: ValueWarning: No supported index is available. Prediction results will be given with an integer index beginning at `start`.\n",
      "  return get_prediction_index(\n",
      "/Library/Frameworks/Python.framework/Versions/3.12/lib/python3.12/site-packages/statsmodels/tsa/base/tsa_model.py:836: FutureWarning: No supported index is available. In the next version, calling this method in a model without a supported index will result in an exception.\n",
      "  return get_prediction_index(\n"
     ]
    },
    {
     "name": "stdout",
     "output_type": "stream",
     "text": [
      " ARIMA(1,0,1)(0,0,0)[0] intercept   : AIC=57.342, Time=0.70 sec\n",
      " ARIMA(0,0,0)(0,0,0)[0] intercept   : AIC=444.138, Time=0.49 sec\n",
      " ARIMA(1,0,0)(0,0,0)[0] intercept   : AIC=52.226, Time=0.50 sec\n",
      " ARIMA(0,0,1)(0,0,0)[0] intercept   : AIC=281.584, Time=0.66 sec\n",
      " ARIMA(0,0,0)(0,0,0)[0]             : AIC=456.877, Time=0.25 sec\n",
      " ARIMA(2,0,0)(0,0,0)[0] intercept   : AIC=54.097, Time=0.71 sec\n",
      " ARIMA(2,0,1)(0,0,0)[0] intercept   : AIC=51.915, Time=0.77 sec\n",
      " ARIMA(3,0,1)(0,0,0)[0] intercept   : AIC=58.642, Time=0.98 sec\n",
      " ARIMA(2,0,2)(0,0,0)[0] intercept   : AIC=58.835, Time=1.00 sec\n",
      " ARIMA(1,0,2)(0,0,0)[0] intercept   : AIC=55.307, Time=0.96 sec\n",
      " ARIMA(3,0,0)(0,0,0)[0] intercept   : AIC=57.863, Time=0.97 sec\n",
      " ARIMA(3,0,2)(0,0,0)[0] intercept   : AIC=56.846, Time=1.09 sec\n",
      " ARIMA(2,0,1)(0,0,0)[0]             : AIC=53.227, Time=0.71 sec\n",
      "\n",
      "Best model:  ARIMA(2,0,1)(0,0,0)[0] intercept\n",
      "Total fit time: 9.847 seconds\n",
      "Performing stepwise search to minimize aic\n"
     ]
    },
    {
     "name": "stderr",
     "output_type": "stream",
     "text": [
      "/Library/Frameworks/Python.framework/Versions/3.12/lib/python3.12/site-packages/statsmodels/tsa/base/tsa_model.py:836: ValueWarning: No supported index is available. Prediction results will be given with an integer index beginning at `start`.\n",
      "  return get_prediction_index(\n",
      "/Library/Frameworks/Python.framework/Versions/3.12/lib/python3.12/site-packages/statsmodels/tsa/base/tsa_model.py:836: FutureWarning: No supported index is available. In the next version, calling this method in a model without a supported index will result in an exception.\n",
      "  return get_prediction_index(\n"
     ]
    },
    {
     "name": "stdout",
     "output_type": "stream",
     "text": [
      " ARIMA(1,1,1)(0,0,0)[0] intercept   : AIC=63.123, Time=0.84 sec\n",
      " ARIMA(0,1,0)(0,0,0)[0] intercept   : AIC=60.489, Time=0.29 sec\n",
      " ARIMA(1,1,0)(0,0,0)[0] intercept   : AIC=62.270, Time=0.65 sec\n",
      " ARIMA(0,1,1)(0,0,0)[0] intercept   : AIC=62.222, Time=1.15 sec\n",
      " ARIMA(0,1,0)(0,0,0)[0]             : AIC=58.735, Time=0.28 sec\n",
      "\n",
      "Best model:  ARIMA(0,1,0)(0,0,0)[0]          \n",
      "Total fit time: 3.245 seconds\n",
      "Performing stepwise search to minimize aic\n"
     ]
    },
    {
     "name": "stderr",
     "output_type": "stream",
     "text": [
      "/Library/Frameworks/Python.framework/Versions/3.12/lib/python3.12/site-packages/statsmodels/tsa/base/tsa_model.py:836: ValueWarning: No supported index is available. Prediction results will be given with an integer index beginning at `start`.\n",
      "  return get_prediction_index(\n",
      "/Library/Frameworks/Python.framework/Versions/3.12/lib/python3.12/site-packages/statsmodels/tsa/base/tsa_model.py:836: FutureWarning: No supported index is available. In the next version, calling this method in a model without a supported index will result in an exception.\n",
      "  return get_prediction_index(\n"
     ]
    },
    {
     "name": "stdout",
     "output_type": "stream",
     "text": [
      " ARIMA(1,0,1)(0,0,0)[0] intercept   : AIC=86.051, Time=0.79 sec\n",
      " ARIMA(0,0,0)(0,0,0)[0] intercept   : AIC=446.629, Time=0.58 sec\n",
      " ARIMA(1,0,0)(0,0,0)[0] intercept   : AIC=95.008, Time=0.52 sec\n",
      " ARIMA(0,0,1)(0,0,0)[0] intercept   : AIC=296.443, Time=0.65 sec\n",
      " ARIMA(0,0,0)(0,0,0)[0]             : AIC=536.285, Time=0.23 sec\n",
      " ARIMA(2,0,1)(0,0,0)[0] intercept   : AIC=89.992, Time=0.74 sec\n",
      " ARIMA(1,0,2)(0,0,0)[0] intercept   : AIC=96.122, Time=0.95 sec\n",
      " ARIMA(0,0,2)(0,0,0)[0] intercept   : AIC=225.296, Time=0.99 sec\n",
      " ARIMA(2,0,0)(0,0,0)[0] intercept   : AIC=88.777, Time=0.77 sec\n",
      " ARIMA(2,0,2)(0,0,0)[0] intercept   : AIC=96.709, Time=1.06 sec\n",
      " ARIMA(1,0,1)(0,0,0)[0]             : AIC=72.068, Time=0.75 sec\n",
      " ARIMA(0,0,1)(0,0,0)[0]             : AIC=335.559, Time=0.69 sec\n",
      " ARIMA(1,0,0)(0,0,0)[0]             : AIC=81.206, Time=0.47 sec\n",
      " ARIMA(2,0,1)(0,0,0)[0]             : AIC=76.448, Time=0.95 sec\n",
      " ARIMA(1,0,2)(0,0,0)[0]             : AIC=75.713, Time=0.96 sec\n",
      " ARIMA(0,0,2)(0,0,0)[0]             : AIC=237.689, Time=1.09 sec\n",
      " ARIMA(2,0,0)(0,0,0)[0]             : AIC=77.904, Time=1.07 sec\n",
      " ARIMA(2,0,2)(0,0,0)[0]             : AIC=85.631, Time=1.68 sec\n",
      "\n",
      "Best model:  ARIMA(1,0,1)(0,0,0)[0]          \n",
      "Total fit time: 15.043 seconds\n",
      "Performing stepwise search to minimize aic\n"
     ]
    },
    {
     "name": "stderr",
     "output_type": "stream",
     "text": [
      "/Library/Frameworks/Python.framework/Versions/3.12/lib/python3.12/site-packages/statsmodels/tsa/base/tsa_model.py:836: ValueWarning: No supported index is available. Prediction results will be given with an integer index beginning at `start`.\n",
      "  return get_prediction_index(\n",
      "/Library/Frameworks/Python.framework/Versions/3.12/lib/python3.12/site-packages/statsmodels/tsa/base/tsa_model.py:836: FutureWarning: No supported index is available. In the next version, calling this method in a model without a supported index will result in an exception.\n",
      "  return get_prediction_index(\n"
     ]
    },
    {
     "name": "stdout",
     "output_type": "stream",
     "text": [
      " ARIMA(1,1,1)(0,0,0)[0] intercept   : AIC=-103.868, Time=0.87 sec\n",
      " ARIMA(0,1,0)(0,0,0)[0] intercept   : AIC=-104.060, Time=0.33 sec\n",
      " ARIMA(1,1,0)(0,0,0)[0] intercept   : AIC=-105.401, Time=0.61 sec\n",
      " ARIMA(0,1,1)(0,0,0)[0] intercept   : AIC=-105.127, Time=0.82 sec\n",
      " ARIMA(0,1,0)(0,0,0)[0]             : AIC=-105.764, Time=0.28 sec\n",
      "\n",
      "Best model:  ARIMA(0,1,0)(0,0,0)[0]          \n",
      "Total fit time: 2.950 seconds\n",
      "Performing stepwise search to minimize aic\n"
     ]
    },
    {
     "name": "stderr",
     "output_type": "stream",
     "text": [
      "/Library/Frameworks/Python.framework/Versions/3.12/lib/python3.12/site-packages/statsmodels/tsa/base/tsa_model.py:836: ValueWarning: No supported index is available. Prediction results will be given with an integer index beginning at `start`.\n",
      "  return get_prediction_index(\n",
      "/Library/Frameworks/Python.framework/Versions/3.12/lib/python3.12/site-packages/statsmodels/tsa/base/tsa_model.py:836: FutureWarning: No supported index is available. In the next version, calling this method in a model without a supported index will result in an exception.\n",
      "  return get_prediction_index(\n"
     ]
    },
    {
     "name": "stdout",
     "output_type": "stream",
     "text": [
      " ARIMA(1,0,1)(0,0,0)[0] intercept   : AIC=-26.537, Time=0.76 sec\n",
      " ARIMA(0,0,0)(0,0,0)[0] intercept   : AIC=439.792, Time=0.51 sec\n",
      " ARIMA(1,0,0)(0,0,0)[0] intercept   : AIC=-28.899, Time=0.53 sec\n",
      " ARIMA(0,0,1)(0,0,0)[0] intercept   : AIC=240.246, Time=0.76 sec\n",
      " ARIMA(0,0,0)(0,0,0)[0]             : AIC=532.649, Time=0.24 sec\n",
      " ARIMA(2,0,0)(0,0,0)[0] intercept   : AIC=-26.802, Time=0.71 sec\n",
      " ARIMA(2,0,1)(0,0,0)[0] intercept   : AIC=-19.946, Time=0.80 sec\n",
      " ARIMA(1,0,0)(0,0,0)[0]             : AIC=inf, Time=0.52 sec\n",
      "\n",
      "Best model:  ARIMA(1,0,0)(0,0,0)[0] intercept\n",
      "Total fit time: 4.864 seconds\n",
      "Performing stepwise search to minimize aic\n"
     ]
    },
    {
     "name": "stderr",
     "output_type": "stream",
     "text": [
      "/Library/Frameworks/Python.framework/Versions/3.12/lib/python3.12/site-packages/statsmodels/tsa/base/tsa_model.py:836: ValueWarning: No supported index is available. Prediction results will be given with an integer index beginning at `start`.\n",
      "  return get_prediction_index(\n",
      "/Library/Frameworks/Python.framework/Versions/3.12/lib/python3.12/site-packages/statsmodels/tsa/base/tsa_model.py:836: FutureWarning: No supported index is available. In the next version, calling this method in a model without a supported index will result in an exception.\n",
      "  return get_prediction_index(\n"
     ]
    },
    {
     "name": "stdout",
     "output_type": "stream",
     "text": [
      " ARIMA(1,1,1)(0,0,0)[0] intercept   : AIC=-9.327, Time=0.94 sec\n",
      " ARIMA(0,1,0)(0,0,0)[0] intercept   : AIC=-12.152, Time=0.43 sec\n",
      " ARIMA(1,1,0)(0,0,0)[0] intercept   : AIC=-11.261, Time=0.58 sec\n",
      " ARIMA(0,1,1)(0,0,0)[0] intercept   : AIC=-11.309, Time=0.83 sec\n",
      " ARIMA(0,1,0)(0,0,0)[0]             : AIC=-13.688, Time=0.31 sec\n",
      "\n",
      "Best model:  ARIMA(0,1,0)(0,0,0)[0]          \n",
      "Total fit time: 3.105 seconds\n",
      "Performing stepwise search to minimize aic\n"
     ]
    },
    {
     "name": "stderr",
     "output_type": "stream",
     "text": [
      "/Library/Frameworks/Python.framework/Versions/3.12/lib/python3.12/site-packages/statsmodels/tsa/base/tsa_model.py:836: ValueWarning: No supported index is available. Prediction results will be given with an integer index beginning at `start`.\n",
      "  return get_prediction_index(\n",
      "/Library/Frameworks/Python.framework/Versions/3.12/lib/python3.12/site-packages/statsmodels/tsa/base/tsa_model.py:836: FutureWarning: No supported index is available. In the next version, calling this method in a model without a supported index will result in an exception.\n",
      "  return get_prediction_index(\n"
     ]
    },
    {
     "name": "stdout",
     "output_type": "stream",
     "text": [
      " ARIMA(1,0,1)(0,0,0)[0] intercept   : AIC=30.762, Time=0.75 sec\n",
      " ARIMA(0,0,0)(0,0,0)[0] intercept   : AIC=501.509, Time=0.52 sec\n",
      " ARIMA(1,0,0)(0,0,0)[0] intercept   : AIC=32.097, Time=0.52 sec\n",
      " ARIMA(0,0,1)(0,0,0)[0] intercept   : AIC=284.842, Time=0.83 sec\n",
      " ARIMA(0,0,0)(0,0,0)[0]             : AIC=506.512, Time=0.27 sec\n",
      " ARIMA(2,0,1)(0,0,0)[0] intercept   : AIC=36.388, Time=0.88 sec\n",
      " ARIMA(1,0,2)(0,0,0)[0] intercept   : AIC=35.652, Time=1.04 sec\n",
      " ARIMA(0,0,2)(0,0,0)[0] intercept   : AIC=170.108, Time=1.04 sec\n",
      " ARIMA(2,0,0)(0,0,0)[0] intercept   : AIC=32.898, Time=0.78 sec\n",
      " ARIMA(2,0,2)(0,0,0)[0] intercept   : AIC=34.600, Time=0.96 sec\n",
      " ARIMA(1,0,1)(0,0,0)[0]             : AIC=35.943, Time=0.75 sec\n",
      "\n",
      "Best model:  ARIMA(1,0,1)(0,0,0)[0] intercept\n",
      "Total fit time: 8.372 seconds\n",
      "Performing stepwise search to minimize aic\n"
     ]
    },
    {
     "name": "stderr",
     "output_type": "stream",
     "text": [
      "/Library/Frameworks/Python.framework/Versions/3.12/lib/python3.12/site-packages/statsmodels/tsa/base/tsa_model.py:836: ValueWarning: No supported index is available. Prediction results will be given with an integer index beginning at `start`.\n",
      "  return get_prediction_index(\n",
      "/Library/Frameworks/Python.framework/Versions/3.12/lib/python3.12/site-packages/statsmodels/tsa/base/tsa_model.py:836: FutureWarning: No supported index is available. In the next version, calling this method in a model without a supported index will result in an exception.\n",
      "  return get_prediction_index(\n"
     ]
    },
    {
     "name": "stdout",
     "output_type": "stream",
     "text": [
      " ARIMA(1,1,1)(0,0,0)[0] intercept   : AIC=-24.551, Time=0.88 sec\n",
      " ARIMA(0,1,0)(0,0,0)[0] intercept   : AIC=-27.722, Time=0.53 sec\n",
      " ARIMA(1,1,0)(0,0,0)[0] intercept   : AIC=-26.499, Time=0.63 sec\n",
      " ARIMA(0,1,1)(0,0,0)[0] intercept   : AIC=-26.529, Time=0.89 sec\n",
      " ARIMA(0,1,0)(0,0,0)[0]             : AIC=-29.022, Time=0.28 sec\n",
      "\n",
      "Best model:  ARIMA(0,1,0)(0,0,0)[0]          \n",
      "Total fit time: 3.229 seconds\n",
      "Performing stepwise search to minimize aic\n"
     ]
    },
    {
     "name": "stderr",
     "output_type": "stream",
     "text": [
      "/Library/Frameworks/Python.framework/Versions/3.12/lib/python3.12/site-packages/statsmodels/tsa/base/tsa_model.py:836: ValueWarning: No supported index is available. Prediction results will be given with an integer index beginning at `start`.\n",
      "  return get_prediction_index(\n",
      "/Library/Frameworks/Python.framework/Versions/3.12/lib/python3.12/site-packages/statsmodels/tsa/base/tsa_model.py:836: FutureWarning: No supported index is available. In the next version, calling this method in a model without a supported index will result in an exception.\n",
      "  return get_prediction_index(\n"
     ]
    },
    {
     "name": "stdout",
     "output_type": "stream",
     "text": [
      " ARIMA(1,0,1)(0,0,0)[0] intercept   : AIC=-86.059, Time=0.77 sec\n",
      " ARIMA(0,0,0)(0,0,0)[0] intercept   : AIC=532.399, Time=0.56 sec\n",
      " ARIMA(1,0,0)(0,0,0)[0] intercept   : AIC=-79.008, Time=0.56 sec\n",
      " ARIMA(0,0,1)(0,0,0)[0] intercept   : AIC=347.333, Time=0.79 sec\n",
      " ARIMA(0,0,0)(0,0,0)[0]             : AIC=530.645, Time=0.28 sec\n",
      " ARIMA(2,0,1)(0,0,0)[0] intercept   : AIC=-73.755, Time=0.84 sec\n",
      " ARIMA(1,0,2)(0,0,0)[0] intercept   : AIC=-103.214, Time=1.14 sec\n",
      " ARIMA(0,0,2)(0,0,0)[0] intercept   : AIC=220.803, Time=1.09 sec\n",
      " ARIMA(2,0,2)(0,0,0)[0] intercept   : AIC=-100.851, Time=1.12 sec\n",
      " ARIMA(1,0,3)(0,0,0)[0] intercept   : AIC=-100.798, Time=1.39 sec\n",
      " ARIMA(0,0,3)(0,0,0)[0] intercept   : AIC=142.109, Time=1.33 sec\n",
      " ARIMA(2,0,3)(0,0,0)[0] intercept   : AIC=-105.565, Time=1.41 sec\n",
      " ARIMA(3,0,3)(0,0,0)[0] intercept   : AIC=-105.609, Time=1.42 sec\n",
      " ARIMA(3,0,2)(0,0,0)[0] intercept   : AIC=-75.088, Time=1.17 sec\n",
      " ARIMA(4,0,3)(0,0,0)[0] intercept   : AIC=-83.350, Time=1.52 sec\n",
      " ARIMA(3,0,4)(0,0,0)[0] intercept   : AIC=-102.304, Time=1.93 sec\n",
      " ARIMA(2,0,4)(0,0,0)[0] intercept   : AIC=-107.277, Time=2.62 sec\n",
      " ARIMA(1,0,4)(0,0,0)[0] intercept   : AIC=-95.998, Time=2.33 sec\n",
      " ARIMA(2,0,5)(0,0,0)[0] intercept   : AIC=-104.168, Time=3.52 sec\n",
      " ARIMA(1,0,5)(0,0,0)[0] intercept   : AIC=-103.170, Time=2.77 sec\n",
      " ARIMA(3,0,5)(0,0,0)[0] intercept   : AIC=-97.265, Time=2.91 sec\n",
      " ARIMA(2,0,4)(0,0,0)[0]             : AIC=-100.737, Time=2.04 sec\n",
      "\n",
      "Best model:  ARIMA(2,0,4)(0,0,0)[0] intercept\n",
      "Total fit time: 33.583 seconds\n",
      "Performing stepwise search to minimize aic\n"
     ]
    },
    {
     "name": "stderr",
     "output_type": "stream",
     "text": [
      "/Library/Frameworks/Python.framework/Versions/3.12/lib/python3.12/site-packages/statsmodels/tsa/base/tsa_model.py:836: ValueWarning: No supported index is available. Prediction results will be given with an integer index beginning at `start`.\n",
      "  return get_prediction_index(\n",
      "/Library/Frameworks/Python.framework/Versions/3.12/lib/python3.12/site-packages/statsmodels/tsa/base/tsa_model.py:836: FutureWarning: No supported index is available. In the next version, calling this method in a model without a supported index will result in an exception.\n",
      "  return get_prediction_index(\n"
     ]
    },
    {
     "name": "stdout",
     "output_type": "stream",
     "text": [
      " ARIMA(1,0,1)(0,0,0)[0] intercept   : AIC=5.060, Time=0.96 sec\n",
      " ARIMA(0,0,0)(0,0,0)[0] intercept   : AIC=441.757, Time=0.65 sec\n",
      " ARIMA(1,0,0)(0,0,0)[0] intercept   : AIC=5.576, Time=0.58 sec\n",
      " ARIMA(0,0,1)(0,0,0)[0] intercept   : AIC=234.906, Time=0.81 sec\n",
      " ARIMA(0,0,0)(0,0,0)[0]             : AIC=457.877, Time=0.32 sec\n",
      " ARIMA(2,0,1)(0,0,0)[0] intercept   : AIC=6.729, Time=0.80 sec\n",
      " ARIMA(1,0,2)(0,0,0)[0] intercept   : AIC=11.162, Time=1.07 sec\n",
      " ARIMA(0,0,2)(0,0,0)[0] intercept   : AIC=173.773, Time=1.05 sec\n",
      " ARIMA(2,0,0)(0,0,0)[0] intercept   : AIC=6.431, Time=0.84 sec\n",
      " ARIMA(2,0,2)(0,0,0)[0] intercept   : AIC=10.170, Time=1.06 sec\n",
      " ARIMA(1,0,1)(0,0,0)[0]             : AIC=1.369, Time=0.74 sec\n",
      " ARIMA(0,0,1)(0,0,0)[0]             : AIC=232.214, Time=0.78 sec\n",
      " ARIMA(1,0,0)(0,0,0)[0]             : AIC=2.207, Time=0.50 sec\n",
      " ARIMA(2,0,1)(0,0,0)[0]             : AIC=3.288, Time=0.81 sec\n",
      " ARIMA(1,0,2)(0,0,0)[0]             : AIC=-0.523, Time=0.97 sec\n",
      " ARIMA(0,0,2)(0,0,0)[0]             : AIC=170.326, Time=0.97 sec\n",
      " ARIMA(2,0,2)(0,0,0)[0]             : AIC=-0.425, Time=1.04 sec\n",
      " ARIMA(1,0,3)(0,0,0)[0]             : AIC=6.846, Time=1.31 sec\n",
      " ARIMA(0,0,3)(0,0,0)[0]             : AIC=97.583, Time=1.27 sec\n",
      " ARIMA(2,0,3)(0,0,0)[0]             : AIC=7.778, Time=1.24 sec\n",
      "\n",
      "Best model:  ARIMA(1,0,2)(0,0,0)[0]          \n",
      "Total fit time: 17.801 seconds\n",
      "Performing stepwise search to minimize aic\n"
     ]
    },
    {
     "name": "stderr",
     "output_type": "stream",
     "text": [
      "/Library/Frameworks/Python.framework/Versions/3.12/lib/python3.12/site-packages/statsmodels/tsa/base/tsa_model.py:836: ValueWarning: No supported index is available. Prediction results will be given with an integer index beginning at `start`.\n",
      "  return get_prediction_index(\n",
      "/Library/Frameworks/Python.framework/Versions/3.12/lib/python3.12/site-packages/statsmodels/tsa/base/tsa_model.py:836: FutureWarning: No supported index is available. In the next version, calling this method in a model without a supported index will result in an exception.\n",
      "  return get_prediction_index(\n"
     ]
    },
    {
     "name": "stdout",
     "output_type": "stream",
     "text": [
      " ARIMA(1,0,1)(0,0,0)[0] intercept   : AIC=153.394, Time=0.84 sec\n",
      " ARIMA(0,0,0)(0,0,0)[0] intercept   : AIC=558.658, Time=0.56 sec\n",
      " ARIMA(1,0,0)(0,0,0)[0] intercept   : AIC=156.578, Time=0.54 sec\n",
      " ARIMA(0,0,1)(0,0,0)[0] intercept   : AIC=358.289, Time=0.76 sec\n",
      " ARIMA(0,0,0)(0,0,0)[0]             : AIC=615.771, Time=0.28 sec\n",
      " ARIMA(2,0,1)(0,0,0)[0] intercept   : AIC=186.260, Time=0.76 sec\n",
      " ARIMA(1,0,2)(0,0,0)[0] intercept   : AIC=160.314, Time=1.09 sec\n",
      " ARIMA(0,0,2)(0,0,0)[0] intercept   : AIC=275.488, Time=1.01 sec\n",
      " ARIMA(2,0,0)(0,0,0)[0] intercept   : AIC=154.074, Time=0.77 sec\n",
      " ARIMA(2,0,2)(0,0,0)[0] intercept   : AIC=171.408, Time=1.18 sec\n",
      " ARIMA(1,0,1)(0,0,0)[0]             : AIC=167.478, Time=0.72 sec\n",
      "\n",
      "Best model:  ARIMA(1,0,1)(0,0,0)[0] intercept\n",
      "Total fit time: 8.567 seconds\n",
      "Performing stepwise search to minimize aic\n"
     ]
    },
    {
     "name": "stderr",
     "output_type": "stream",
     "text": [
      "/Library/Frameworks/Python.framework/Versions/3.12/lib/python3.12/site-packages/statsmodels/tsa/base/tsa_model.py:836: ValueWarning: No supported index is available. Prediction results will be given with an integer index beginning at `start`.\n",
      "  return get_prediction_index(\n",
      "/Library/Frameworks/Python.framework/Versions/3.12/lib/python3.12/site-packages/statsmodels/tsa/base/tsa_model.py:836: FutureWarning: No supported index is available. In the next version, calling this method in a model without a supported index will result in an exception.\n",
      "  return get_prediction_index(\n"
     ]
    },
    {
     "name": "stdout",
     "output_type": "stream",
     "text": [
      " ARIMA(1,0,1)(0,0,0)[0] intercept   : AIC=-19.984, Time=0.78 sec\n",
      " ARIMA(0,0,0)(0,0,0)[0] intercept   : AIC=525.149, Time=0.53 sec\n",
      " ARIMA(1,0,0)(0,0,0)[0] intercept   : AIC=-16.717, Time=0.55 sec\n",
      " ARIMA(0,0,1)(0,0,0)[0] intercept   : AIC=291.034, Time=0.73 sec\n",
      " ARIMA(0,0,0)(0,0,0)[0]             : AIC=585.121, Time=0.28 sec\n",
      " ARIMA(2,0,1)(0,0,0)[0] intercept   : AIC=-12.900, Time=0.87 sec\n",
      " ARIMA(1,0,2)(0,0,0)[0] intercept   : AIC=-15.041, Time=0.98 sec\n",
      " ARIMA(0,0,2)(0,0,0)[0] intercept   : AIC=176.448, Time=1.05 sec\n",
      " ARIMA(2,0,0)(0,0,0)[0] intercept   : AIC=-15.404, Time=0.78 sec\n",
      " ARIMA(2,0,2)(0,0,0)[0] intercept   : AIC=-6.912, Time=1.07 sec\n",
      " ARIMA(1,0,1)(0,0,0)[0]             : AIC=-2.184, Time=0.78 sec\n",
      "\n",
      "Best model:  ARIMA(1,0,1)(0,0,0)[0] intercept\n",
      "Total fit time: 8.430 seconds\n",
      "Performing stepwise search to minimize aic\n"
     ]
    },
    {
     "name": "stderr",
     "output_type": "stream",
     "text": [
      "/Library/Frameworks/Python.framework/Versions/3.12/lib/python3.12/site-packages/statsmodels/tsa/base/tsa_model.py:836: ValueWarning: No supported index is available. Prediction results will be given with an integer index beginning at `start`.\n",
      "  return get_prediction_index(\n",
      "/Library/Frameworks/Python.framework/Versions/3.12/lib/python3.12/site-packages/statsmodels/tsa/base/tsa_model.py:836: FutureWarning: No supported index is available. In the next version, calling this method in a model without a supported index will result in an exception.\n",
      "  return get_prediction_index(\n"
     ]
    },
    {
     "name": "stdout",
     "output_type": "stream",
     "text": [
      " ARIMA(1,0,1)(0,0,0)[0] intercept   : AIC=-196.516, Time=0.98 sec\n",
      " ARIMA(0,0,0)(0,0,0)[0] intercept   : AIC=348.502, Time=0.61 sec\n",
      " ARIMA(1,0,0)(0,0,0)[0] intercept   : AIC=-173.917, Time=0.62 sec\n",
      " ARIMA(0,0,1)(0,0,0)[0] intercept   : AIC=101.831, Time=0.92 sec\n",
      " ARIMA(0,0,0)(0,0,0)[0]             : AIC=357.456, Time=0.27 sec\n",
      " ARIMA(2,0,1)(0,0,0)[0] intercept   : AIC=-190.254, Time=0.87 sec\n",
      " ARIMA(1,0,2)(0,0,0)[0] intercept   : AIC=-193.261, Time=1.07 sec\n",
      " ARIMA(0,0,2)(0,0,0)[0] intercept   : AIC=-11.875, Time=1.06 sec\n",
      " ARIMA(2,0,0)(0,0,0)[0] intercept   : AIC=-187.379, Time=0.86 sec\n",
      " ARIMA(2,0,2)(0,0,0)[0] intercept   : AIC=-189.791, Time=1.12 sec\n",
      " ARIMA(1,0,1)(0,0,0)[0]             : AIC=-182.495, Time=1.02 sec\n",
      "\n",
      "Best model:  ARIMA(1,0,1)(0,0,0)[0] intercept\n",
      "Total fit time: 9.460 seconds\n",
      "Performing stepwise search to minimize aic\n"
     ]
    },
    {
     "name": "stderr",
     "output_type": "stream",
     "text": [
      "/Library/Frameworks/Python.framework/Versions/3.12/lib/python3.12/site-packages/statsmodels/tsa/base/tsa_model.py:836: ValueWarning: No supported index is available. Prediction results will be given with an integer index beginning at `start`.\n",
      "  return get_prediction_index(\n",
      "/Library/Frameworks/Python.framework/Versions/3.12/lib/python3.12/site-packages/statsmodels/tsa/base/tsa_model.py:836: FutureWarning: No supported index is available. In the next version, calling this method in a model without a supported index will result in an exception.\n",
      "  return get_prediction_index(\n"
     ]
    },
    {
     "name": "stdout",
     "output_type": "stream",
     "text": [
      " ARIMA(1,0,1)(0,0,0)[0] intercept   : AIC=10.713, Time=0.76 sec\n",
      " ARIMA(0,0,0)(0,0,0)[0] intercept   : AIC=255.859, Time=0.56 sec\n",
      " ARIMA(1,0,0)(0,0,0)[0] intercept   : AIC=13.355, Time=0.62 sec\n",
      " ARIMA(0,0,1)(0,0,0)[0] intercept   : AIC=136.106, Time=0.85 sec\n",
      " ARIMA(0,0,0)(0,0,0)[0]             : AIC=342.125, Time=0.27 sec\n",
      " ARIMA(2,0,1)(0,0,0)[0] intercept   : AIC=11.031, Time=0.77 sec\n",
      " ARIMA(1,0,2)(0,0,0)[0] intercept   : AIC=12.826, Time=1.01 sec\n",
      " ARIMA(0,0,2)(0,0,0)[0] intercept   : AIC=98.962, Time=0.92 sec\n",
      " ARIMA(2,0,0)(0,0,0)[0] intercept   : AIC=12.364, Time=0.72 sec\n",
      " ARIMA(2,0,2)(0,0,0)[0] intercept   : AIC=10.526, Time=0.93 sec\n",
      " ARIMA(3,0,2)(0,0,0)[0] intercept   : AIC=6.693, Time=1.32 sec\n",
      " ARIMA(3,0,1)(0,0,0)[0] intercept   : AIC=13.268, Time=1.04 sec\n",
      " ARIMA(4,0,2)(0,0,0)[0] intercept   : AIC=10.724, Time=1.41 sec\n",
      " ARIMA(3,0,3)(0,0,0)[0] intercept   : AIC=8.850, Time=1.52 sec\n",
      " ARIMA(2,0,3)(0,0,0)[0] intercept   : AIC=11.130, Time=1.34 sec\n",
      " ARIMA(4,0,1)(0,0,0)[0] intercept   : AIC=13.935, Time=1.32 sec\n",
      " ARIMA(4,0,3)(0,0,0)[0] intercept   : AIC=13.686, Time=1.82 sec\n",
      " ARIMA(3,0,2)(0,0,0)[0]             : AIC=48.961, Time=1.03 sec\n",
      "\n",
      "Best model:  ARIMA(3,0,2)(0,0,0)[0] intercept\n",
      "Total fit time: 18.287 seconds\n",
      "Performing stepwise search to minimize aic\n"
     ]
    },
    {
     "name": "stderr",
     "output_type": "stream",
     "text": [
      "/Library/Frameworks/Python.framework/Versions/3.12/lib/python3.12/site-packages/statsmodels/tsa/base/tsa_model.py:836: ValueWarning: No supported index is available. Prediction results will be given with an integer index beginning at `start`.\n",
      "  return get_prediction_index(\n",
      "/Library/Frameworks/Python.framework/Versions/3.12/lib/python3.12/site-packages/statsmodels/tsa/base/tsa_model.py:836: FutureWarning: No supported index is available. In the next version, calling this method in a model without a supported index will result in an exception.\n",
      "  return get_prediction_index(\n"
     ]
    },
    {
     "name": "stdout",
     "output_type": "stream",
     "text": [
      " ARIMA(1,0,1)(0,0,0)[0] intercept   : AIC=97.209, Time=0.87 sec\n",
      " ARIMA(0,0,0)(0,0,0)[0] intercept   : AIC=570.982, Time=0.56 sec\n",
      " ARIMA(1,0,0)(0,0,0)[0] intercept   : AIC=99.509, Time=0.60 sec\n",
      " ARIMA(0,0,1)(0,0,0)[0] intercept   : AIC=365.387, Time=0.83 sec\n",
      " ARIMA(0,0,0)(0,0,0)[0]             : AIC=619.450, Time=0.28 sec\n",
      " ARIMA(2,0,1)(0,0,0)[0] intercept   : AIC=98.563, Time=0.86 sec\n",
      " ARIMA(1,0,2)(0,0,0)[0] intercept   : AIC=96.596, Time=1.13 sec\n",
      " ARIMA(0,0,2)(0,0,0)[0] intercept   : AIC=284.202, Time=1.00 sec\n",
      " ARIMA(2,0,2)(0,0,0)[0] intercept   : AIC=88.773, Time=1.17 sec\n",
      " ARIMA(3,0,2)(0,0,0)[0] intercept   : AIC=169.295, Time=1.16 sec\n",
      " ARIMA(2,0,3)(0,0,0)[0] intercept   : AIC=96.794, Time=1.45 sec\n",
      " ARIMA(1,0,3)(0,0,0)[0] intercept   : AIC=92.377, Time=1.53 sec\n",
      " ARIMA(3,0,1)(0,0,0)[0] intercept   : AIC=90.225, Time=1.12 sec\n",
      " ARIMA(3,0,3)(0,0,0)[0] intercept   : AIC=107.632, Time=1.39 sec\n",
      " ARIMA(2,0,2)(0,0,0)[0]             : AIC=93.625, Time=1.15 sec\n",
      "\n",
      "Best model:  ARIMA(2,0,2)(0,0,0)[0] intercept\n",
      "Total fit time: 15.134 seconds\n",
      "Performing stepwise search to minimize aic\n"
     ]
    },
    {
     "name": "stderr",
     "output_type": "stream",
     "text": [
      "/Library/Frameworks/Python.framework/Versions/3.12/lib/python3.12/site-packages/statsmodels/tsa/base/tsa_model.py:836: ValueWarning: No supported index is available. Prediction results will be given with an integer index beginning at `start`.\n",
      "  return get_prediction_index(\n",
      "/Library/Frameworks/Python.framework/Versions/3.12/lib/python3.12/site-packages/statsmodels/tsa/base/tsa_model.py:836: FutureWarning: No supported index is available. In the next version, calling this method in a model without a supported index will result in an exception.\n",
      "  return get_prediction_index(\n"
     ]
    },
    {
     "name": "stdout",
     "output_type": "stream",
     "text": [
      " ARIMA(1,1,1)(0,0,0)[0] intercept   : AIC=-95.424, Time=0.93 sec\n",
      " ARIMA(0,1,0)(0,0,0)[0] intercept   : AIC=-89.850, Time=0.15 sec\n",
      " ARIMA(1,1,0)(0,0,0)[0] intercept   : AIC=-97.062, Time=0.66 sec\n",
      " ARIMA(0,1,1)(0,0,0)[0] intercept   : AIC=-96.563, Time=0.86 sec\n",
      " ARIMA(0,1,0)(0,0,0)[0]             : AIC=-91.844, Time=0.27 sec\n",
      " ARIMA(2,1,0)(0,0,0)[0] intercept   : AIC=-95.360, Time=0.84 sec\n",
      " ARIMA(2,1,1)(0,0,0)[0] intercept   : AIC=-92.970, Time=0.96 sec\n",
      " ARIMA(1,1,0)(0,0,0)[0]             : AIC=-99.293, Time=0.63 sec\n",
      " ARIMA(2,1,0)(0,0,0)[0]             : AIC=-97.504, Time=0.96 sec\n",
      " ARIMA(1,1,1)(0,0,0)[0]             : AIC=-97.489, Time=0.82 sec\n",
      " ARIMA(0,1,1)(0,0,0)[0]             : AIC=-98.653, Time=0.92 sec\n",
      " ARIMA(2,1,1)(0,0,0)[0]             : AIC=-95.298, Time=0.90 sec\n",
      "\n",
      "Best model:  ARIMA(1,1,0)(0,0,0)[0]          \n",
      "Total fit time: 8.958 seconds\n",
      "Performing stepwise search to minimize aic\n"
     ]
    },
    {
     "name": "stderr",
     "output_type": "stream",
     "text": [
      "/Library/Frameworks/Python.framework/Versions/3.12/lib/python3.12/site-packages/statsmodels/tsa/base/tsa_model.py:836: ValueWarning: No supported index is available. Prediction results will be given with an integer index beginning at `start`.\n",
      "  return get_prediction_index(\n",
      "/Library/Frameworks/Python.framework/Versions/3.12/lib/python3.12/site-packages/statsmodels/tsa/base/tsa_model.py:836: FutureWarning: No supported index is available. In the next version, calling this method in a model without a supported index will result in an exception.\n",
      "  return get_prediction_index(\n"
     ]
    },
    {
     "name": "stdout",
     "output_type": "stream",
     "text": [
      " ARIMA(1,1,1)(0,0,0)[0] intercept   : AIC=39.771, Time=0.97 sec\n",
      " ARIMA(0,1,0)(0,0,0)[0] intercept   : AIC=42.822, Time=0.14 sec\n",
      " ARIMA(1,1,0)(0,0,0)[0] intercept   : AIC=37.772, Time=0.75 sec\n",
      " ARIMA(0,1,1)(0,0,0)[0] intercept   : AIC=37.762, Time=0.90 sec\n",
      " ARIMA(0,1,0)(0,0,0)[0]             : AIC=40.879, Time=0.50 sec\n",
      " ARIMA(0,1,2)(0,0,0)[0] intercept   : AIC=39.691, Time=1.11 sec\n",
      " ARIMA(1,1,2)(0,0,0)[0] intercept   : AIC=41.759, Time=1.17 sec\n",
      " ARIMA(0,1,1)(0,0,0)[0]             : AIC=35.804, Time=0.90 sec\n",
      " ARIMA(1,1,1)(0,0,0)[0]             : AIC=37.759, Time=0.96 sec\n",
      " ARIMA(0,1,2)(0,0,0)[0]             : AIC=37.753, Time=1.09 sec\n",
      " ARIMA(1,1,0)(0,0,0)[0]             : AIC=35.789, Time=0.66 sec\n",
      " ARIMA(2,1,0)(0,0,0)[0]             : AIC=37.695, Time=0.95 sec\n",
      " ARIMA(2,1,1)(0,0,0)[0]             : AIC=39.649, Time=1.01 sec\n",
      "\n",
      "Best model:  ARIMA(1,1,0)(0,0,0)[0]          \n",
      "Total fit time: 11.166 seconds\n",
      "Performing stepwise search to minimize aic\n"
     ]
    },
    {
     "name": "stderr",
     "output_type": "stream",
     "text": [
      "/Library/Frameworks/Python.framework/Versions/3.12/lib/python3.12/site-packages/statsmodels/tsa/base/tsa_model.py:836: ValueWarning: No supported index is available. Prediction results will be given with an integer index beginning at `start`.\n",
      "  return get_prediction_index(\n",
      "/Library/Frameworks/Python.framework/Versions/3.12/lib/python3.12/site-packages/statsmodels/tsa/base/tsa_model.py:836: FutureWarning: No supported index is available. In the next version, calling this method in a model without a supported index will result in an exception.\n",
      "  return get_prediction_index(\n"
     ]
    },
    {
     "name": "stdout",
     "output_type": "stream",
     "text": [
      " ARIMA(1,0,1)(0,0,0)[0] intercept   : AIC=37.423, Time=0.77 sec\n",
      " ARIMA(0,0,0)(0,0,0)[0] intercept   : AIC=680.780, Time=0.59 sec\n",
      " ARIMA(1,0,0)(0,0,0)[0] intercept   : AIC=39.955, Time=0.57 sec\n",
      " ARIMA(0,0,1)(0,0,0)[0] intercept   : AIC=426.523, Time=0.85 sec\n",
      " ARIMA(0,0,0)(0,0,0)[0]             : AIC=690.457, Time=0.29 sec\n",
      " ARIMA(2,0,1)(0,0,0)[0] intercept   : AIC=42.046, Time=0.94 sec\n",
      " ARIMA(1,0,2)(0,0,0)[0] intercept   : AIC=40.430, Time=0.99 sec\n",
      " ARIMA(0,0,2)(0,0,0)[0] intercept   : AIC=275.140, Time=1.16 sec\n",
      " ARIMA(2,0,0)(0,0,0)[0] intercept   : AIC=38.536, Time=0.81 sec\n",
      " ARIMA(2,0,2)(0,0,0)[0] intercept   : AIC=42.629, Time=1.23 sec\n",
      " ARIMA(1,0,1)(0,0,0)[0]             : AIC=38.051, Time=0.85 sec\n",
      "\n",
      "Best model:  ARIMA(1,0,1)(0,0,0)[0] intercept\n",
      "Total fit time: 9.071 seconds\n",
      "Performing stepwise search to minimize aic\n"
     ]
    },
    {
     "name": "stderr",
     "output_type": "stream",
     "text": [
      "/Library/Frameworks/Python.framework/Versions/3.12/lib/python3.12/site-packages/statsmodels/tsa/base/tsa_model.py:836: ValueWarning: No supported index is available. Prediction results will be given with an integer index beginning at `start`.\n",
      "  return get_prediction_index(\n",
      "/Library/Frameworks/Python.framework/Versions/3.12/lib/python3.12/site-packages/statsmodels/tsa/base/tsa_model.py:836: FutureWarning: No supported index is available. In the next version, calling this method in a model without a supported index will result in an exception.\n",
      "  return get_prediction_index(\n"
     ]
    },
    {
     "name": "stdout",
     "output_type": "stream",
     "text": [
      " ARIMA(1,0,1)(0,0,0)[0] intercept   : AIC=-48.936, Time=0.81 sec\n",
      " ARIMA(0,0,0)(0,0,0)[0] intercept   : AIC=485.793, Time=0.59 sec\n",
      " ARIMA(1,0,0)(0,0,0)[0] intercept   : AIC=-61.297, Time=0.56 sec\n",
      " ARIMA(0,0,1)(0,0,0)[0] intercept   : AIC=274.243, Time=0.84 sec\n",
      " ARIMA(0,0,0)(0,0,0)[0]             : AIC=494.795, Time=0.43 sec\n",
      " ARIMA(2,0,0)(0,0,0)[0] intercept   : AIC=-58.878, Time=0.80 sec\n",
      " ARIMA(2,0,1)(0,0,0)[0] intercept   : AIC=inf, Time=0.80 sec\n",
      " ARIMA(1,0,0)(0,0,0)[0]             : AIC=-58.023, Time=0.57 sec\n",
      "\n",
      "Best model:  ARIMA(1,0,0)(0,0,0)[0] intercept\n",
      "Total fit time: 5.422 seconds\n",
      "Performing stepwise search to minimize aic\n"
     ]
    },
    {
     "name": "stderr",
     "output_type": "stream",
     "text": [
      "/Library/Frameworks/Python.framework/Versions/3.12/lib/python3.12/site-packages/statsmodels/tsa/base/tsa_model.py:836: ValueWarning: No supported index is available. Prediction results will be given with an integer index beginning at `start`.\n",
      "  return get_prediction_index(\n",
      "/Library/Frameworks/Python.framework/Versions/3.12/lib/python3.12/site-packages/statsmodels/tsa/base/tsa_model.py:836: FutureWarning: No supported index is available. In the next version, calling this method in a model without a supported index will result in an exception.\n",
      "  return get_prediction_index(\n"
     ]
    },
    {
     "name": "stdout",
     "output_type": "stream",
     "text": [
      " ARIMA(1,0,1)(0,0,0)[0] intercept   : AIC=24.779, Time=0.79 sec\n",
      " ARIMA(0,0,0)(0,0,0)[0] intercept   : AIC=600.557, Time=0.62 sec\n",
      " ARIMA(1,0,0)(0,0,0)[0] intercept   : AIC=40.494, Time=0.62 sec\n",
      " ARIMA(0,0,1)(0,0,0)[0] intercept   : AIC=300.827, Time=0.81 sec\n",
      " ARIMA(0,0,0)(0,0,0)[0]             : AIC=684.704, Time=0.26 sec\n",
      " ARIMA(2,0,1)(0,0,0)[0] intercept   : AIC=34.948, Time=0.92 sec\n",
      " ARIMA(1,0,2)(0,0,0)[0] intercept   : AIC=30.246, Time=1.01 sec\n",
      " ARIMA(0,0,2)(0,0,0)[0] intercept   : AIC=177.485, Time=0.96 sec\n",
      " ARIMA(2,0,0)(0,0,0)[0] intercept   : AIC=36.429, Time=0.83 sec\n",
      " ARIMA(2,0,2)(0,0,0)[0] intercept   : AIC=18.718, Time=1.12 sec\n",
      " ARIMA(3,0,2)(0,0,0)[0] intercept   : AIC=34.329, Time=1.06 sec\n",
      " ARIMA(2,0,3)(0,0,0)[0] intercept   : AIC=35.689, Time=1.29 sec\n",
      " ARIMA(1,0,3)(0,0,0)[0] intercept   : AIC=30.896, Time=1.34 sec\n",
      " ARIMA(3,0,1)(0,0,0)[0] intercept   : AIC=36.057, Time=1.23 sec\n",
      " ARIMA(3,0,3)(0,0,0)[0] intercept   : AIC=32.304, Time=1.34 sec\n",
      " ARIMA(2,0,2)(0,0,0)[0]             : AIC=22.973, Time=1.12 sec\n",
      "\n",
      "Best model:  ARIMA(2,0,2)(0,0,0)[0] intercept\n",
      "Total fit time: 15.361 seconds\n",
      "Performing stepwise search to minimize aic\n"
     ]
    },
    {
     "name": "stderr",
     "output_type": "stream",
     "text": [
      "/Library/Frameworks/Python.framework/Versions/3.12/lib/python3.12/site-packages/statsmodels/tsa/base/tsa_model.py:836: ValueWarning: No supported index is available. Prediction results will be given with an integer index beginning at `start`.\n",
      "  return get_prediction_index(\n",
      "/Library/Frameworks/Python.framework/Versions/3.12/lib/python3.12/site-packages/statsmodels/tsa/base/tsa_model.py:836: FutureWarning: No supported index is available. In the next version, calling this method in a model without a supported index will result in an exception.\n",
      "  return get_prediction_index(\n"
     ]
    },
    {
     "name": "stdout",
     "output_type": "stream",
     "text": [
      " ARIMA(1,0,1)(0,0,0)[0] intercept   : AIC=-215.591, Time=0.85 sec\n",
      " ARIMA(0,0,0)(0,0,0)[0] intercept   : AIC=151.400, Time=0.55 sec\n",
      " ARIMA(1,0,0)(0,0,0)[0] intercept   : AIC=-212.078, Time=0.52 sec\n",
      " ARIMA(0,0,1)(0,0,0)[0] intercept   : AIC=2.529, Time=0.71 sec\n",
      " ARIMA(0,0,0)(0,0,0)[0]             : AIC=245.608, Time=0.28 sec\n",
      " ARIMA(2,0,1)(0,0,0)[0] intercept   : AIC=-192.062, Time=0.76 sec\n",
      " ARIMA(1,0,2)(0,0,0)[0] intercept   : AIC=-189.232, Time=1.03 sec\n",
      " ARIMA(0,0,2)(0,0,0)[0] intercept   : AIC=-71.136, Time=1.01 sec\n",
      " ARIMA(2,0,0)(0,0,0)[0] intercept   : AIC=-221.356, Time=0.79 sec\n",
      " ARIMA(3,0,0)(0,0,0)[0] intercept   : AIC=-198.139, Time=1.05 sec\n",
      " ARIMA(3,0,1)(0,0,0)[0] intercept   : AIC=-208.228, Time=1.04 sec\n",
      " ARIMA(2,0,0)(0,0,0)[0]             : AIC=-249.544, Time=0.70 sec\n",
      " ARIMA(1,0,0)(0,0,0)[0]             : AIC=-248.659, Time=0.55 sec\n",
      " ARIMA(3,0,0)(0,0,0)[0]             : AIC=-242.228, Time=0.95 sec\n",
      " ARIMA(2,0,1)(0,0,0)[0]             : AIC=-237.684, Time=0.81 sec\n",
      " ARIMA(1,0,1)(0,0,0)[0]             : AIC=-239.966, Time=0.76 sec\n",
      " ARIMA(3,0,1)(0,0,0)[0]             : AIC=-247.501, Time=1.03 sec\n",
      "\n",
      "Best model:  ARIMA(2,0,0)(0,0,0)[0]          \n",
      "Total fit time: 13.437 seconds\n",
      "Performing stepwise search to minimize aic\n"
     ]
    },
    {
     "name": "stderr",
     "output_type": "stream",
     "text": [
      "/Library/Frameworks/Python.framework/Versions/3.12/lib/python3.12/site-packages/statsmodels/tsa/base/tsa_model.py:836: ValueWarning: No supported index is available. Prediction results will be given with an integer index beginning at `start`.\n",
      "  return get_prediction_index(\n",
      "/Library/Frameworks/Python.framework/Versions/3.12/lib/python3.12/site-packages/statsmodels/tsa/base/tsa_model.py:836: FutureWarning: No supported index is available. In the next version, calling this method in a model without a supported index will result in an exception.\n",
      "  return get_prediction_index(\n"
     ]
    },
    {
     "name": "stdout",
     "output_type": "stream",
     "text": [
      " ARIMA(1,0,1)(0,0,0)[0] intercept   : AIC=7.554, Time=0.82 sec\n",
      " ARIMA(0,0,0)(0,0,0)[0] intercept   : AIC=469.952, Time=0.60 sec\n",
      " ARIMA(1,0,0)(0,0,0)[0] intercept   : AIC=9.333, Time=0.59 sec\n",
      " ARIMA(0,0,1)(0,0,0)[0] intercept   : AIC=231.419, Time=0.79 sec\n",
      " ARIMA(0,0,0)(0,0,0)[0]             : AIC=470.995, Time=0.29 sec\n",
      " ARIMA(2,0,1)(0,0,0)[0] intercept   : AIC=7.203, Time=0.89 sec\n",
      " ARIMA(2,0,0)(0,0,0)[0] intercept   : AIC=5.085, Time=0.88 sec\n",
      " ARIMA(3,0,0)(0,0,0)[0] intercept   : AIC=1.520, Time=1.02 sec\n",
      " ARIMA(4,0,0)(0,0,0)[0] intercept   : AIC=-1.149, Time=1.40 sec\n",
      " ARIMA(5,0,0)(0,0,0)[0] intercept   : AIC=3.973, Time=2.26 sec\n",
      " ARIMA(4,0,1)(0,0,0)[0] intercept   : AIC=-1.597, Time=1.43 sec\n",
      " ARIMA(3,0,1)(0,0,0)[0] intercept   : AIC=2.886, Time=1.18 sec\n",
      " ARIMA(5,0,1)(0,0,0)[0] intercept   : AIC=0.501, Time=2.18 sec\n",
      " ARIMA(4,0,2)(0,0,0)[0] intercept   : AIC=3.246, Time=1.48 sec\n",
      " ARIMA(3,0,2)(0,0,0)[0] intercept   : AIC=-0.173, Time=1.18 sec\n",
      " ARIMA(5,0,2)(0,0,0)[0] intercept   : AIC=2.439, Time=2.14 sec\n",
      " ARIMA(4,0,1)(0,0,0)[0]             : AIC=3.644, Time=1.35 sec\n",
      "\n",
      "Best model:  ARIMA(4,0,1)(0,0,0)[0] intercept\n",
      "Total fit time: 20.531 seconds\n"
     ]
    },
    {
     "name": "stderr",
     "output_type": "stream",
     "text": [
      "/Library/Frameworks/Python.framework/Versions/3.12/lib/python3.12/site-packages/statsmodels/tsa/base/tsa_model.py:836: ValueWarning: No supported index is available. Prediction results will be given with an integer index beginning at `start`.\n",
      "  return get_prediction_index(\n",
      "/Library/Frameworks/Python.framework/Versions/3.12/lib/python3.12/site-packages/statsmodels/tsa/base/tsa_model.py:836: FutureWarning: No supported index is available. In the next version, calling this method in a model without a supported index will result in an exception.\n",
      "  return get_prediction_index(\n"
     ]
    }
   ],
   "source": [
    "# loop through each subject, create an optimized model, and capture the predictions and AIC\n",
    "for i in range(1, len(y_all_data[\"Subject\"].unique())+1):\n",
    "    # get all entries for given subject\n",
    "    y_all_data_i = y_all_data[y_all_data[\"Subject\"] == i]\n",
    "    x_all_data_i = x_all_data[x_all_data[\"Subject\"] == i]\n",
    "    # last 50 observations as forecasting, rest is training\n",
    "    y_i_train = y_all_data_i[:(np.shape(y_all_data_i)[0]-50)]\n",
    "    y_i_test = y_all_data_i[(np.shape(y_all_data_i)[0]-50):]\n",
    "    x_i_train = x_all_data_i[:(np.shape(x_all_data_i)[0]-50)]\n",
    "    x_i_test = x_all_data_i[(np.shape(x_all_data_i)[0]-50):]\n",
    "    # record original state\n",
    "    testing[str(i)] = y_i_test[0].values\n",
    "    # testing arimax on all features, only on current subject\n",
    "    arima_model = arimamodel(y_i_train[0], x_i_train.loc[:, x_i_train.columns != \"Subject\"])\n",
    "    # record predicted state\n",
    "    pred_i = arima_model.predict(len(y_i_test), x_i_test.loc[:, x_i_test.columns != \"Subject\"])\n",
    "    pred_i = pred_i.reset_index(drop=True)\n",
    "    predictions[str(i)] = pred_i\n",
    "    # record AIC\n",
    "    aic.at[i,\"aic\"] = arima_model.aic()"
   ]
  },
  {
   "cell_type": "markdown",
   "id": "c2903fde-c7a1-4bd2-bfd4-3010d2b6b036",
   "metadata": {},
   "source": [
    "### Results: Visualizations"
   ]
  },
  {
   "cell_type": "code",
   "execution_count": 12,
   "id": "9d2e6784-36ac-464b-8b95-9c997474c605",
   "metadata": {},
   "outputs": [
    {
     "data": {
      "image/png": "[encoded data removed]",
      "text/plain": [
       "<Figure size 640x480 with 1 Axes>"
      ]
     },
     "metadata": {},
     "output_type": "display_data"
    }
   ],
   "source": [
    "# view plot of an individual subject's results\n",
    "s = 1\n",
    "plt.plot(testing.index, testing[str(s)].astype('int'), label=\"true states\")\n",
    "plt.plot(testing.index, predictions[str(s)], label=\"predicted values\")\n",
    "plt.plot(testing.index, round(predictions[str(s)]).astype('int'), label=\"predicted states\")\n",
    "plt.legend()\n",
    "plt.savefig(\"arima_50_\" +str(s)+\".pdf\", format=\"pdf\")"
   ]
  },
  {
   "cell_type": "code",
   "execution_count": 13,
   "id": "d62cafd4-095f-4b56-889f-ec4f93ff28ce",
   "metadata": {},
   "outputs": [
    {
     "data": {
      "image/png": "[encoded data removed]",
      "text/plain": [
       "<Figure size 640x480 with 30 Axes>"
      ]
     },
     "metadata": {},
     "output_type": "display_data"
    }
   ],
   "source": [
    "# view plots of results for all subjects\n",
    "fig, axs = plt.subplots(6, 5, sharex=True, sharey=True)\n",
    "\n",
    "# initialize subject 1\n",
    "subject = 1\n",
    "# plot each set of results\n",
    "for row in range(0,6):\n",
    "    for col in range(0,5):\n",
    "        axs[row, col].plot(testing.index, testing[str(subject)].astype('int'), label=\"true states\")\n",
    "        axs[row, col].plot(testing.index, predictions[str(subject)], label=\"predicted values\")\n",
    "        axs[row, col].plot(testing.index, round(predictions[str(subject)]).astype('int'), label=\"predicted states\")\n",
    "        subject = subject + 1\n",
    "\n",
    "# hide x labels and tick labels for top plots and y ticks for right plots.\n",
    "for ax in axs.flat:\n",
    "    ax.label_outer()\n",
    "\n",
    "fig.savefig(\"arima_50.pdf\", format=\"pdf\", bbox_inches=\"tight\")"
   ]
  },
  {
   "cell_type": "markdown",
   "id": "9b0c912f-8e5a-466a-9c08-c11607f30a45",
   "metadata": {},
   "source": [
    "### Results: Accuracy"
   ]
  },
  {
   "cell_type": "code",
   "execution_count": 14,
   "id": "b471cf8d-d00f-4f06-800c-23465e0b17fd",
   "metadata": {
    "tags": []
   },
   "outputs": [
    {
     "name": "stderr",
     "output_type": "stream",
     "text": [
      "<>:9: SyntaxWarning: invalid escape sequence '\\d'\n",
      "<>:9: SyntaxWarning: invalid escape sequence '\\d'\n",
      "/var/folders/6g/lht9tm8x1bz3sdrs0xk_d2m00000gn/T/ipykernel_38350/707666640.py:9: SyntaxWarning: invalid escape sequence '\\d'\n",
      "  acc_i = float(re.findall(\"accuracy.*[01].\\d\\d\",rep_i)[0][-4:])\n",
      "/Library/Frameworks/Python.framework/Versions/3.12/lib/python3.12/site-packages/sklearn/metrics/_classification.py:1469: UndefinedMetricWarning: Recall and F-score are ill-defined and being set to 0.0 in labels with no true samples. Use `zero_division` parameter to control this behavior.\n",
      "  _warn_prf(average, modifier, msg_start, len(result))\n",
      "/Library/Frameworks/Python.framework/Versions/3.12/lib/python3.12/site-packages/sklearn/metrics/_classification.py:1469: UndefinedMetricWarning: Recall and F-score are ill-defined and being set to 0.0 in labels with no true samples. Use `zero_division` parameter to control this behavior.\n",
      "  _warn_prf(average, modifier, msg_start, len(result))\n",
      "/Library/Frameworks/Python.framework/Versions/3.12/lib/python3.12/site-packages/sklearn/metrics/_classification.py:1469: UndefinedMetricWarning: Recall and F-score are ill-defined and being set to 0.0 in labels with no true samples. Use `zero_division` parameter to control this behavior.\n",
      "  _warn_prf(average, modifier, msg_start, len(result))\n",
      "/Library/Frameworks/Python.framework/Versions/3.12/lib/python3.12/site-packages/sklearn/metrics/_classification.py:1469: UndefinedMetricWarning: Precision and F-score are ill-defined and being set to 0.0 in labels with no predicted samples. Use `zero_division` parameter to control this behavior.\n",
      "  _warn_prf(average, modifier, msg_start, len(result))\n",
      "/Library/Frameworks/Python.framework/Versions/3.12/lib/python3.12/site-packages/sklearn/metrics/_classification.py:1469: UndefinedMetricWarning: Recall and F-score are ill-defined and being set to 0.0 in labels with no true samples. Use `zero_division` parameter to control this behavior.\n",
      "  _warn_prf(average, modifier, msg_start, len(result))\n",
      "/Library/Frameworks/Python.framework/Versions/3.12/lib/python3.12/site-packages/sklearn/metrics/_classification.py:1469: UndefinedMetricWarning: Precision and F-score are ill-defined and being set to 0.0 in labels with no predicted samples. Use `zero_division` parameter to control this behavior.\n",
      "  _warn_prf(average, modifier, msg_start, len(result))\n",
      "/Library/Frameworks/Python.framework/Versions/3.12/lib/python3.12/site-packages/sklearn/metrics/_classification.py:1469: UndefinedMetricWarning: Recall and F-score are ill-defined and being set to 0.0 in labels with no true samples. Use `zero_division` parameter to control this behavior.\n",
      "  _warn_prf(average, modifier, msg_start, len(result))\n",
      "/Library/Frameworks/Python.framework/Versions/3.12/lib/python3.12/site-packages/sklearn/metrics/_classification.py:1469: UndefinedMetricWarning: Precision and F-score are ill-defined and being set to 0.0 in labels with no predicted samples. Use `zero_division` parameter to control this behavior.\n",
      "  _warn_prf(average, modifier, msg_start, len(result))\n",
      "/Library/Frameworks/Python.framework/Versions/3.12/lib/python3.12/site-packages/sklearn/metrics/_classification.py:1469: UndefinedMetricWarning: Recall and F-score are ill-defined and being set to 0.0 in labels with no true samples. Use `zero_division` parameter to control this behavior.\n",
      "  _warn_prf(average, modifier, msg_start, len(result))\n",
      "/Library/Frameworks/Python.framework/Versions/3.12/lib/python3.12/site-packages/sklearn/metrics/_classification.py:1469: UndefinedMetricWarning: Precision and F-score are ill-defined and being set to 0.0 in labels with no predicted samples. Use `zero_division` parameter to control this behavior.\n",
      "  _warn_prf(average, modifier, msg_start, len(result))\n",
      "/Library/Frameworks/Python.framework/Versions/3.12/lib/python3.12/site-packages/sklearn/metrics/_classification.py:1469: UndefinedMetricWarning: Precision and F-score are ill-defined and being set to 0.0 in labels with no predicted samples. Use `zero_division` parameter to control this behavior.\n",
      "  _warn_prf(average, modifier, msg_start, len(result))\n",
      "/Library/Frameworks/Python.framework/Versions/3.12/lib/python3.12/site-packages/sklearn/metrics/_classification.py:1469: UndefinedMetricWarning: Precision and F-score are ill-defined and being set to 0.0 in labels with no predicted samples. Use `zero_division` parameter to control this behavior.\n",
      "  _warn_prf(average, modifier, msg_start, len(result))\n",
      "/Library/Frameworks/Python.framework/Versions/3.12/lib/python3.12/site-packages/sklearn/metrics/_classification.py:1469: UndefinedMetricWarning: Precision and F-score are ill-defined and being set to 0.0 in labels with no predicted samples. Use `zero_division` parameter to control this behavior.\n",
      "  _warn_prf(average, modifier, msg_start, len(result))\n",
      "/Library/Frameworks/Python.framework/Versions/3.12/lib/python3.12/site-packages/sklearn/metrics/_classification.py:1469: UndefinedMetricWarning: Recall and F-score are ill-defined and being set to 0.0 in labels with no true samples. Use `zero_division` parameter to control this behavior.\n",
      "  _warn_prf(average, modifier, msg_start, len(result))\n",
      "/Library/Frameworks/Python.framework/Versions/3.12/lib/python3.12/site-packages/sklearn/metrics/_classification.py:1469: UndefinedMetricWarning: Precision and F-score are ill-defined and being set to 0.0 in labels with no predicted samples. Use `zero_division` parameter to control this behavior.\n",
      "  _warn_prf(average, modifier, msg_start, len(result))\n",
      "/Library/Frameworks/Python.framework/Versions/3.12/lib/python3.12/site-packages/sklearn/metrics/_classification.py:1469: UndefinedMetricWarning: Recall and F-score are ill-defined and being set to 0.0 in labels with no true samples. Use `zero_division` parameter to control this behavior.\n",
      "  _warn_prf(average, modifier, msg_start, len(result))\n",
      "/Library/Frameworks/Python.framework/Versions/3.12/lib/python3.12/site-packages/sklearn/metrics/_classification.py:1469: UndefinedMetricWarning: Precision and F-score are ill-defined and being set to 0.0 in labels with no predicted samples. Use `zero_division` parameter to control this behavior.\n",
      "  _warn_prf(average, modifier, msg_start, len(result))\n",
      "/Library/Frameworks/Python.framework/Versions/3.12/lib/python3.12/site-packages/sklearn/metrics/_classification.py:1469: UndefinedMetricWarning: Recall and F-score are ill-defined and being set to 0.0 in labels with no true samples. Use `zero_division` parameter to control this behavior.\n",
      "  _warn_prf(average, modifier, msg_start, len(result))\n",
      "/Library/Frameworks/Python.framework/Versions/3.12/lib/python3.12/site-packages/sklearn/metrics/_classification.py:1469: UndefinedMetricWarning: Precision and F-score are ill-defined and being set to 0.0 in labels with no predicted samples. Use `zero_division` parameter to control this behavior.\n",
      "  _warn_prf(average, modifier, msg_start, len(result))\n",
      "/Library/Frameworks/Python.framework/Versions/3.12/lib/python3.12/site-packages/sklearn/metrics/_classification.py:1469: UndefinedMetricWarning: Recall and F-score are ill-defined and being set to 0.0 in labels with no true samples. Use `zero_division` parameter to control this behavior.\n",
      "  _warn_prf(average, modifier, msg_start, len(result))\n",
      "/Library/Frameworks/Python.framework/Versions/3.12/lib/python3.12/site-packages/sklearn/metrics/_classification.py:1469: UndefinedMetricWarning: Precision and F-score are ill-defined and being set to 0.0 in labels with no predicted samples. Use `zero_division` parameter to control this behavior.\n",
      "  _warn_prf(average, modifier, msg_start, len(result))\n",
      "/Library/Frameworks/Python.framework/Versions/3.12/lib/python3.12/site-packages/sklearn/metrics/_classification.py:1469: UndefinedMetricWarning: Recall and F-score are ill-defined and being set to 0.0 in labels with no true samples. Use `zero_division` parameter to control this behavior.\n",
      "  _warn_prf(average, modifier, msg_start, len(result))\n",
      "/Library/Frameworks/Python.framework/Versions/3.12/lib/python3.12/site-packages/sklearn/metrics/_classification.py:1469: UndefinedMetricWarning: Precision and F-score are ill-defined and being set to 0.0 in labels with no predicted samples. Use `zero_division` parameter to control this behavior.\n",
      "  _warn_prf(average, modifier, msg_start, len(result))\n",
      "/Library/Frameworks/Python.framework/Versions/3.12/lib/python3.12/site-packages/sklearn/metrics/_classification.py:1469: UndefinedMetricWarning: Recall and F-score are ill-defined and being set to 0.0 in labels with no true samples. Use `zero_division` parameter to control this behavior.\n",
      "  _warn_prf(average, modifier, msg_start, len(result))\n",
      "/Library/Frameworks/Python.framework/Versions/3.12/lib/python3.12/site-packages/sklearn/metrics/_classification.py:1469: UndefinedMetricWarning: Precision and F-score are ill-defined and being set to 0.0 in labels with no predicted samples. Use `zero_division` parameter to control this behavior.\n",
      "  _warn_prf(average, modifier, msg_start, len(result))\n",
      "/Library/Frameworks/Python.framework/Versions/3.12/lib/python3.12/site-packages/sklearn/metrics/_classification.py:1469: UndefinedMetricWarning: Recall and F-score are ill-defined and being set to 0.0 in labels with no true samples. Use `zero_division` parameter to control this behavior.\n",
      "  _warn_prf(average, modifier, msg_start, len(result))\n",
      "/Library/Frameworks/Python.framework/Versions/3.12/lib/python3.12/site-packages/sklearn/metrics/_classification.py:1469: UndefinedMetricWarning: Precision and F-score are ill-defined and being set to 0.0 in labels with no predicted samples. Use `zero_division` parameter to control this behavior.\n",
      "  _warn_prf(average, modifier, msg_start, len(result))\n",
      "/Library/Frameworks/Python.framework/Versions/3.12/lib/python3.12/site-packages/sklearn/metrics/_classification.py:1469: UndefinedMetricWarning: Recall and F-score are ill-defined and being set to 0.0 in labels with no true samples. Use `zero_division` parameter to control this behavior.\n",
      "  _warn_prf(average, modifier, msg_start, len(result))\n",
      "/Library/Frameworks/Python.framework/Versions/3.12/lib/python3.12/site-packages/sklearn/metrics/_classification.py:1469: UndefinedMetricWarning: Precision and F-score are ill-defined and being set to 0.0 in labels with no predicted samples. Use `zero_division` parameter to control this behavior.\n",
      "  _warn_prf(average, modifier, msg_start, len(result))\n",
      "/Library/Frameworks/Python.framework/Versions/3.12/lib/python3.12/site-packages/sklearn/metrics/_classification.py:1469: UndefinedMetricWarning: Recall and F-score are ill-defined and being set to 0.0 in labels with no true samples. Use `zero_division` parameter to control this behavior.\n",
      "  _warn_prf(average, modifier, msg_start, len(result))\n",
      "/Library/Frameworks/Python.framework/Versions/3.12/lib/python3.12/site-packages/sklearn/metrics/_classification.py:1469: UndefinedMetricWarning: Precision and F-score are ill-defined and being set to 0.0 in labels with no predicted samples. Use `zero_division` parameter to control this behavior.\n",
      "  _warn_prf(average, modifier, msg_start, len(result))\n",
      "/Library/Frameworks/Python.framework/Versions/3.12/lib/python3.12/site-packages/sklearn/metrics/_classification.py:1469: UndefinedMetricWarning: Precision and F-score are ill-defined and being set to 0.0 in labels with no predicted samples. Use `zero_division` parameter to control this behavior.\n",
      "  _warn_prf(average, modifier, msg_start, len(result))\n",
      "/Library/Frameworks/Python.framework/Versions/3.12/lib/python3.12/site-packages/sklearn/metrics/_classification.py:1469: UndefinedMetricWarning: Precision and F-score are ill-defined and being set to 0.0 in labels with no predicted samples. Use `zero_division` parameter to control this behavior.\n",
      "  _warn_prf(average, modifier, msg_start, len(result))\n",
      "/Library/Frameworks/Python.framework/Versions/3.12/lib/python3.12/site-packages/sklearn/metrics/_classification.py:1469: UndefinedMetricWarning: Precision and F-score are ill-defined and being set to 0.0 in labels with no predicted samples. Use `zero_division` parameter to control this behavior.\n",
      "  _warn_prf(average, modifier, msg_start, len(result))\n",
      "/Library/Frameworks/Python.framework/Versions/3.12/lib/python3.12/site-packages/sklearn/metrics/_classification.py:1469: UndefinedMetricWarning: Precision and F-score are ill-defined and being set to 0.0 in labels with no predicted samples. Use `zero_division` parameter to control this behavior.\n",
      "  _warn_prf(average, modifier, msg_start, len(result))\n",
      "/Library/Frameworks/Python.framework/Versions/3.12/lib/python3.12/site-packages/sklearn/metrics/_classification.py:1469: UndefinedMetricWarning: Precision and F-score are ill-defined and being set to 0.0 in labels with no predicted samples. Use `zero_division` parameter to control this behavior.\n",
      "  _warn_prf(average, modifier, msg_start, len(result))\n",
      "/Library/Frameworks/Python.framework/Versions/3.12/lib/python3.12/site-packages/sklearn/metrics/_classification.py:1469: UndefinedMetricWarning: Precision and F-score are ill-defined and being set to 0.0 in labels with no predicted samples. Use `zero_division` parameter to control this behavior.\n",
      "  _warn_prf(average, modifier, msg_start, len(result))\n",
      "/Library/Frameworks/Python.framework/Versions/3.12/lib/python3.12/site-packages/sklearn/metrics/_classification.py:1469: UndefinedMetricWarning: Recall and F-score are ill-defined and being set to 0.0 in labels with no true samples. Use `zero_division` parameter to control this behavior.\n",
      "  _warn_prf(average, modifier, msg_start, len(result))\n",
      "/Library/Frameworks/Python.framework/Versions/3.12/lib/python3.12/site-packages/sklearn/metrics/_classification.py:1469: UndefinedMetricWarning: Precision and F-score are ill-defined and being set to 0.0 in labels with no predicted samples. Use `zero_division` parameter to control this behavior.\n",
      "  _warn_prf(average, modifier, msg_start, len(result))\n",
      "/Library/Frameworks/Python.framework/Versions/3.12/lib/python3.12/site-packages/sklearn/metrics/_classification.py:1469: UndefinedMetricWarning: Recall and F-score are ill-defined and being set to 0.0 in labels with no true samples. Use `zero_division` parameter to control this behavior.\n",
      "  _warn_prf(average, modifier, msg_start, len(result))\n",
      "/Library/Frameworks/Python.framework/Versions/3.12/lib/python3.12/site-packages/sklearn/metrics/_classification.py:1469: UndefinedMetricWarning: Precision and F-score are ill-defined and being set to 0.0 in labels with no predicted samples. Use `zero_division` parameter to control this behavior.\n",
      "  _warn_prf(average, modifier, msg_start, len(result))\n",
      "/Library/Frameworks/Python.framework/Versions/3.12/lib/python3.12/site-packages/sklearn/metrics/_classification.py:1469: UndefinedMetricWarning: Recall and F-score are ill-defined and being set to 0.0 in labels with no true samples. Use `zero_division` parameter to control this behavior.\n",
      "  _warn_prf(average, modifier, msg_start, len(result))\n",
      "/Library/Frameworks/Python.framework/Versions/3.12/lib/python3.12/site-packages/sklearn/metrics/_classification.py:1469: UndefinedMetricWarning: Precision and F-score are ill-defined and being set to 0.0 in labels with no predicted samples. Use `zero_division` parameter to control this behavior.\n",
      "  _warn_prf(average, modifier, msg_start, len(result))\n",
      "/Library/Frameworks/Python.framework/Versions/3.12/lib/python3.12/site-packages/sklearn/metrics/_classification.py:1469: UndefinedMetricWarning: Recall and F-score are ill-defined and being set to 0.0 in labels with no true samples. Use `zero_division` parameter to control this behavior.\n",
      "  _warn_prf(average, modifier, msg_start, len(result))\n",
      "/Library/Frameworks/Python.framework/Versions/3.12/lib/python3.12/site-packages/sklearn/metrics/_classification.py:1469: UndefinedMetricWarning: Precision and F-score are ill-defined and being set to 0.0 in labels with no predicted samples. Use `zero_division` parameter to control this behavior.\n",
      "  _warn_prf(average, modifier, msg_start, len(result))\n",
      "/Library/Frameworks/Python.framework/Versions/3.12/lib/python3.12/site-packages/sklearn/metrics/_classification.py:1469: UndefinedMetricWarning: Recall and F-score are ill-defined and being set to 0.0 in labels with no true samples. Use `zero_division` parameter to control this behavior.\n",
      "  _warn_prf(average, modifier, msg_start, len(result))\n",
      "/Library/Frameworks/Python.framework/Versions/3.12/lib/python3.12/site-packages/sklearn/metrics/_classification.py:1469: UndefinedMetricWarning: Precision and F-score are ill-defined and being set to 0.0 in labels with no predicted samples. Use `zero_division` parameter to control this behavior.\n",
      "  _warn_prf(average, modifier, msg_start, len(result))\n",
      "/Library/Frameworks/Python.framework/Versions/3.12/lib/python3.12/site-packages/sklearn/metrics/_classification.py:1469: UndefinedMetricWarning: Recall and F-score are ill-defined and being set to 0.0 in labels with no true samples. Use `zero_division` parameter to control this behavior.\n",
      "  _warn_prf(average, modifier, msg_start, len(result))\n",
      "/Library/Frameworks/Python.framework/Versions/3.12/lib/python3.12/site-packages/sklearn/metrics/_classification.py:1469: UndefinedMetricWarning: Precision and F-score are ill-defined and being set to 0.0 in labels with no predicted samples. Use `zero_division` parameter to control this behavior.\n",
      "  _warn_prf(average, modifier, msg_start, len(result))\n",
      "/Library/Frameworks/Python.framework/Versions/3.12/lib/python3.12/site-packages/sklearn/metrics/_classification.py:1469: UndefinedMetricWarning: Recall and F-score are ill-defined and being set to 0.0 in labels with no true samples. Use `zero_division` parameter to control this behavior.\n",
      "  _warn_prf(average, modifier, msg_start, len(result))\n",
      "/Library/Frameworks/Python.framework/Versions/3.12/lib/python3.12/site-packages/sklearn/metrics/_classification.py:1469: UndefinedMetricWarning: Precision and F-score are ill-defined and being set to 0.0 in labels with no predicted samples. Use `zero_division` parameter to control this behavior.\n",
      "  _warn_prf(average, modifier, msg_start, len(result))\n",
      "/Library/Frameworks/Python.framework/Versions/3.12/lib/python3.12/site-packages/sklearn/metrics/_classification.py:1469: UndefinedMetricWarning: Recall and F-score are ill-defined and being set to 0.0 in labels with no true samples. Use `zero_division` parameter to control this behavior.\n",
      "  _warn_prf(average, modifier, msg_start, len(result))\n",
      "/Library/Frameworks/Python.framework/Versions/3.12/lib/python3.12/site-packages/sklearn/metrics/_classification.py:1469: UndefinedMetricWarning: Precision and F-score are ill-defined and being set to 0.0 in labels with no predicted samples. Use `zero_division` parameter to control this behavior.\n",
      "  _warn_prf(average, modifier, msg_start, len(result))\n",
      "/Library/Frameworks/Python.framework/Versions/3.12/lib/python3.12/site-packages/sklearn/metrics/_classification.py:1469: UndefinedMetricWarning: Recall and F-score are ill-defined and being set to 0.0 in labels with no true samples. Use `zero_division` parameter to control this behavior.\n",
      "  _warn_prf(average, modifier, msg_start, len(result))\n",
      "/Library/Frameworks/Python.framework/Versions/3.12/lib/python3.12/site-packages/sklearn/metrics/_classification.py:1469: UndefinedMetricWarning: Precision and F-score are ill-defined and being set to 0.0 in labels with no predicted samples. Use `zero_division` parameter to control this behavior.\n",
      "  _warn_prf(average, modifier, msg_start, len(result))\n",
      "/Library/Frameworks/Python.framework/Versions/3.12/lib/python3.12/site-packages/sklearn/metrics/_classification.py:1469: UndefinedMetricWarning: Recall and F-score are ill-defined and being set to 0.0 in labels with no true samples. Use `zero_division` parameter to control this behavior.\n",
      "  _warn_prf(average, modifier, msg_start, len(result))\n",
      "/Library/Frameworks/Python.framework/Versions/3.12/lib/python3.12/site-packages/sklearn/metrics/_classification.py:1469: UndefinedMetricWarning: Precision and F-score are ill-defined and being set to 0.0 in labels with no predicted samples. Use `zero_division` parameter to control this behavior.\n",
      "  _warn_prf(average, modifier, msg_start, len(result))\n",
      "/Library/Frameworks/Python.framework/Versions/3.12/lib/python3.12/site-packages/sklearn/metrics/_classification.py:1469: UndefinedMetricWarning: Recall and F-score are ill-defined and being set to 0.0 in labels with no true samples. Use `zero_division` parameter to control this behavior.\n",
      "  _warn_prf(average, modifier, msg_start, len(result))\n",
      "/Library/Frameworks/Python.framework/Versions/3.12/lib/python3.12/site-packages/sklearn/metrics/_classification.py:1469: UndefinedMetricWarning: Precision and F-score are ill-defined and being set to 0.0 in labels with no predicted samples. Use `zero_division` parameter to control this behavior.\n",
      "  _warn_prf(average, modifier, msg_start, len(result))\n",
      "/Library/Frameworks/Python.framework/Versions/3.12/lib/python3.12/site-packages/sklearn/metrics/_classification.py:1469: UndefinedMetricWarning: Recall and F-score are ill-defined and being set to 0.0 in labels with no true samples. Use `zero_division` parameter to control this behavior.\n",
      "  _warn_prf(average, modifier, msg_start, len(result))\n",
      "/Library/Frameworks/Python.framework/Versions/3.12/lib/python3.12/site-packages/sklearn/metrics/_classification.py:1469: UndefinedMetricWarning: Precision and F-score are ill-defined and being set to 0.0 in labels with no predicted samples. Use `zero_division` parameter to control this behavior.\n",
      "  _warn_prf(average, modifier, msg_start, len(result))\n",
      "/Library/Frameworks/Python.framework/Versions/3.12/lib/python3.12/site-packages/sklearn/metrics/_classification.py:1469: UndefinedMetricWarning: Precision and F-score are ill-defined and being set to 0.0 in labels with no predicted samples. Use `zero_division` parameter to control this behavior.\n",
      "  _warn_prf(average, modifier, msg_start, len(result))\n",
      "/Library/Frameworks/Python.framework/Versions/3.12/lib/python3.12/site-packages/sklearn/metrics/_classification.py:1469: UndefinedMetricWarning: Precision and F-score are ill-defined and being set to 0.0 in labels with no predicted samples. Use `zero_division` parameter to control this behavior.\n",
      "  _warn_prf(average, modifier, msg_start, len(result))\n",
      "/Library/Frameworks/Python.framework/Versions/3.12/lib/python3.12/site-packages/sklearn/metrics/_classification.py:1469: UndefinedMetricWarning: Recall and F-score are ill-defined and being set to 0.0 in labels with no true samples. Use `zero_division` parameter to control this behavior.\n",
      "  _warn_prf(average, modifier, msg_start, len(result))\n",
      "/Library/Frameworks/Python.framework/Versions/3.12/lib/python3.12/site-packages/sklearn/metrics/_classification.py:1469: UndefinedMetricWarning: Recall and F-score are ill-defined and being set to 0.0 in labels with no true samples. Use `zero_division` parameter to control this behavior.\n",
      "  _warn_prf(average, modifier, msg_start, len(result))\n",
      "/Library/Frameworks/Python.framework/Versions/3.12/lib/python3.12/site-packages/sklearn/metrics/_classification.py:1469: UndefinedMetricWarning: Recall and F-score are ill-defined and being set to 0.0 in labels with no true samples. Use `zero_division` parameter to control this behavior.\n",
      "  _warn_prf(average, modifier, msg_start, len(result))\n",
      "/Library/Frameworks/Python.framework/Versions/3.12/lib/python3.12/site-packages/sklearn/metrics/_classification.py:1469: UndefinedMetricWarning: Recall and F-score are ill-defined and being set to 0.0 in labels with no true samples. Use `zero_division` parameter to control this behavior.\n",
      "  _warn_prf(average, modifier, msg_start, len(result))\n",
      "/Library/Frameworks/Python.framework/Versions/3.12/lib/python3.12/site-packages/sklearn/metrics/_classification.py:1469: UndefinedMetricWarning: Recall and F-score are ill-defined and being set to 0.0 in labels with no true samples. Use `zero_division` parameter to control this behavior.\n",
      "  _warn_prf(average, modifier, msg_start, len(result))\n",
      "/Library/Frameworks/Python.framework/Versions/3.12/lib/python3.12/site-packages/sklearn/metrics/_classification.py:1469: UndefinedMetricWarning: Recall and F-score are ill-defined and being set to 0.0 in labels with no true samples. Use `zero_division` parameter to control this behavior.\n",
      "  _warn_prf(average, modifier, msg_start, len(result))\n",
      "/Library/Frameworks/Python.framework/Versions/3.12/lib/python3.12/site-packages/sklearn/metrics/_classification.py:1469: UndefinedMetricWarning: Precision and F-score are ill-defined and being set to 0.0 in labels with no predicted samples. Use `zero_division` parameter to control this behavior.\n",
      "  _warn_prf(average, modifier, msg_start, len(result))\n",
      "/Library/Frameworks/Python.framework/Versions/3.12/lib/python3.12/site-packages/sklearn/metrics/_classification.py:1469: UndefinedMetricWarning: Precision and F-score are ill-defined and being set to 0.0 in labels with no predicted samples. Use `zero_division` parameter to control this behavior.\n",
      "  _warn_prf(average, modifier, msg_start, len(result))\n",
      "/Library/Frameworks/Python.framework/Versions/3.12/lib/python3.12/site-packages/sklearn/metrics/_classification.py:1469: UndefinedMetricWarning: Precision and F-score are ill-defined and being set to 0.0 in labels with no predicted samples. Use `zero_division` parameter to control this behavior.\n",
      "  _warn_prf(average, modifier, msg_start, len(result))\n",
      "/Library/Frameworks/Python.framework/Versions/3.12/lib/python3.12/site-packages/sklearn/metrics/_classification.py:1469: UndefinedMetricWarning: Recall and F-score are ill-defined and being set to 0.0 in labels with no true samples. Use `zero_division` parameter to control this behavior.\n",
      "  _warn_prf(average, modifier, msg_start, len(result))\n",
      "/Library/Frameworks/Python.framework/Versions/3.12/lib/python3.12/site-packages/sklearn/metrics/_classification.py:1469: UndefinedMetricWarning: Recall and F-score are ill-defined and being set to 0.0 in labels with no true samples. Use `zero_division` parameter to control this behavior.\n",
      "  _warn_prf(average, modifier, msg_start, len(result))\n",
      "/Library/Frameworks/Python.framework/Versions/3.12/lib/python3.12/site-packages/sklearn/metrics/_classification.py:1469: UndefinedMetricWarning: Recall and F-score are ill-defined and being set to 0.0 in labels with no true samples. Use `zero_division` parameter to control this behavior.\n",
      "  _warn_prf(average, modifier, msg_start, len(result))\n",
      "/Library/Frameworks/Python.framework/Versions/3.12/lib/python3.12/site-packages/sklearn/metrics/_classification.py:1469: UndefinedMetricWarning: Precision and F-score are ill-defined and being set to 0.0 in labels with no predicted samples. Use `zero_division` parameter to control this behavior.\n",
      "  _warn_prf(average, modifier, msg_start, len(result))\n",
      "/Library/Frameworks/Python.framework/Versions/3.12/lib/python3.12/site-packages/sklearn/metrics/_classification.py:1469: UndefinedMetricWarning: Recall and F-score are ill-defined and being set to 0.0 in labels with no true samples. Use `zero_division` parameter to control this behavior.\n",
      "  _warn_prf(average, modifier, msg_start, len(result))\n",
      "/Library/Frameworks/Python.framework/Versions/3.12/lib/python3.12/site-packages/sklearn/metrics/_classification.py:1469: UndefinedMetricWarning: Precision and F-score are ill-defined and being set to 0.0 in labels with no predicted samples. Use `zero_division` parameter to control this behavior.\n",
      "  _warn_prf(average, modifier, msg_start, len(result))\n",
      "/Library/Frameworks/Python.framework/Versions/3.12/lib/python3.12/site-packages/sklearn/metrics/_classification.py:1469: UndefinedMetricWarning: Recall and F-score are ill-defined and being set to 0.0 in labels with no true samples. Use `zero_division` parameter to control this behavior.\n",
      "  _warn_prf(average, modifier, msg_start, len(result))\n",
      "/Library/Frameworks/Python.framework/Versions/3.12/lib/python3.12/site-packages/sklearn/metrics/_classification.py:1469: UndefinedMetricWarning: Precision and F-score are ill-defined and being set to 0.0 in labels with no predicted samples. Use `zero_division` parameter to control this behavior.\n",
      "  _warn_prf(average, modifier, msg_start, len(result))\n",
      "/Library/Frameworks/Python.framework/Versions/3.12/lib/python3.12/site-packages/sklearn/metrics/_classification.py:1469: UndefinedMetricWarning: Recall and F-score are ill-defined and being set to 0.0 in labels with no true samples. Use `zero_division` parameter to control this behavior.\n",
      "  _warn_prf(average, modifier, msg_start, len(result))\n",
      "/Library/Frameworks/Python.framework/Versions/3.12/lib/python3.12/site-packages/sklearn/metrics/_classification.py:1469: UndefinedMetricWarning: Recall and F-score are ill-defined and being set to 0.0 in labels with no true samples. Use `zero_division` parameter to control this behavior.\n",
      "  _warn_prf(average, modifier, msg_start, len(result))\n",
      "/Library/Frameworks/Python.framework/Versions/3.12/lib/python3.12/site-packages/sklearn/metrics/_classification.py:1469: UndefinedMetricWarning: Recall and F-score are ill-defined and being set to 0.0 in labels with no true samples. Use `zero_division` parameter to control this behavior.\n",
      "  _warn_prf(average, modifier, msg_start, len(result))\n",
      "/Library/Frameworks/Python.framework/Versions/3.12/lib/python3.12/site-packages/sklearn/metrics/_classification.py:1469: UndefinedMetricWarning: Recall and F-score are ill-defined and being set to 0.0 in labels with no true samples. Use `zero_division` parameter to control this behavior.\n",
      "  _warn_prf(average, modifier, msg_start, len(result))\n",
      "/Library/Frameworks/Python.framework/Versions/3.12/lib/python3.12/site-packages/sklearn/metrics/_classification.py:1469: UndefinedMetricWarning: Precision and F-score are ill-defined and being set to 0.0 in labels with no predicted samples. Use `zero_division` parameter to control this behavior.\n",
      "  _warn_prf(average, modifier, msg_start, len(result))\n",
      "/Library/Frameworks/Python.framework/Versions/3.12/lib/python3.12/site-packages/sklearn/metrics/_classification.py:1469: UndefinedMetricWarning: Precision and F-score are ill-defined and being set to 0.0 in labels with no predicted samples. Use `zero_division` parameter to control this behavior.\n",
      "  _warn_prf(average, modifier, msg_start, len(result))\n",
      "/Library/Frameworks/Python.framework/Versions/3.12/lib/python3.12/site-packages/sklearn/metrics/_classification.py:1469: UndefinedMetricWarning: Precision and F-score are ill-defined and being set to 0.0 in labels with no predicted samples. Use `zero_division` parameter to control this behavior.\n",
      "  _warn_prf(average, modifier, msg_start, len(result))\n",
      "/Library/Frameworks/Python.framework/Versions/3.12/lib/python3.12/site-packages/sklearn/metrics/_classification.py:1469: UndefinedMetricWarning: Recall and F-score are ill-defined and being set to 0.0 in labels with no true samples. Use `zero_division` parameter to control this behavior.\n",
      "  _warn_prf(average, modifier, msg_start, len(result))\n",
      "/Library/Frameworks/Python.framework/Versions/3.12/lib/python3.12/site-packages/sklearn/metrics/_classification.py:1469: UndefinedMetricWarning: Recall and F-score are ill-defined and being set to 0.0 in labels with no true samples. Use `zero_division` parameter to control this behavior.\n",
      "  _warn_prf(average, modifier, msg_start, len(result))\n",
      "/Library/Frameworks/Python.framework/Versions/3.12/lib/python3.12/site-packages/sklearn/metrics/_classification.py:1469: UndefinedMetricWarning: Recall and F-score are ill-defined and being set to 0.0 in labels with no true samples. Use `zero_division` parameter to control this behavior.\n",
      "  _warn_prf(average, modifier, msg_start, len(result))\n"
     ]
    }
   ],
   "source": [
    "# Accuracy\n",
    "# create empty dataframe to store accuracy\n",
    "accuracy = pd.DataFrame()\n",
    "\n",
    "# get accuracy using the classification report from sklearn\n",
    "for i in range(1,31):\n",
    "    rep_i = classification_report(testing[str(i)].astype('string'), \n",
    "                          round(predictions[str(i)]).astype('int').astype('str'))\n",
    "    acc_i = float(re.findall(\"accuracy.*[01].\\d\\d\",rep_i)[0][-4:])\n",
    "    accuracy.at[i,\"accuracy\"] = acc_i"
   ]
  },
  {
   "cell_type": "code",
   "execution_count": 15,
   "id": "993c7701-3487-4df1-996f-2d1be4097e4f",
   "metadata": {
    "tags": []
   },
   "outputs": [
    {
     "data": {
      "text/plain": [
       "accuracy    0.467333\n",
       "dtype: float64"
      ]
     },
     "execution_count": 15,
     "metadata": {},
     "output_type": "execute_result"
    }
   ],
   "source": [
    "accuracy.mean()"
   ]
  },
  {
   "cell_type": "code",
   "execution_count": 16,
   "id": "dda25ade-4e25-4415-b53c-88025e1927a4",
   "metadata": {},
   "outputs": [
    {
     "data": {
      "text/html": [
       "<div>\n",
       "<style scoped>\n",
       "    .dataframe tbody tr th:only-of-type {\n",
       "        vertical-align: middle;\n",
       "    }\n",
       "\n",
       "    .dataframe tbody tr th {\n",
       "        vertical-align: top;\n",
       "    }\n",
       "\n",
       "    .dataframe thead th {\n",
       "        text-align: right;\n",
       "    }\n",
       "</style>\n",
       "<table border=\"1\" class=\"dataframe\">\n",
       "  <thead>\n",
       "    <tr style=\"text-align: right;\">\n",
       "      <th></th>\n",
       "      <th>accuracy</th>\n",
       "    </tr>\n",
       "  </thead>\n",
       "  <tbody>\n",
       "    <tr>\n",
       "      <th>count</th>\n",
       "      <td>30.000000</td>\n",
       "    </tr>\n",
       "    <tr>\n",
       "      <th>mean</th>\n",
       "      <td>0.467333</td>\n",
       "    </tr>\n",
       "    <tr>\n",
       "      <th>std</th>\n",
       "      <td>0.209201</td>\n",
       "    </tr>\n",
       "    <tr>\n",
       "      <th>min</th>\n",
       "      <td>0.040000</td>\n",
       "    </tr>\n",
       "    <tr>\n",
       "      <th>25%</th>\n",
       "      <td>0.400000</td>\n",
       "    </tr>\n",
       "    <tr>\n",
       "      <th>50%</th>\n",
       "      <td>0.510000</td>\n",
       "    </tr>\n",
       "    <tr>\n",
       "      <th>75%</th>\n",
       "      <td>0.575000</td>\n",
       "    </tr>\n",
       "    <tr>\n",
       "      <th>max</th>\n",
       "      <td>0.900000</td>\n",
       "    </tr>\n",
       "  </tbody>\n",
       "</table>\n",
       "</div>"
      ],
      "text/plain": [
       "        accuracy\n",
       "count  30.000000\n",
       "mean    0.467333\n",
       "std     0.209201\n",
       "min     0.040000\n",
       "25%     0.400000\n",
       "50%     0.510000\n",
       "75%     0.575000\n",
       "max     0.900000"
      ]
     },
     "execution_count": 16,
     "metadata": {},
     "output_type": "execute_result"
    }
   ],
   "source": [
    "accuracy.describe()"
   ]
  },
  {
   "cell_type": "markdown",
   "id": "11d0ee35-9b7b-4777-90ed-e8f7f206bddf",
   "metadata": {},
   "source": [
    "### Results: AIC"
   ]
  },
  {
   "cell_type": "code",
   "execution_count": 17,
   "id": "6d01a2f0-e817-46ad-8e8e-a4962498e1b7",
   "metadata": {},
   "outputs": [
    {
     "data": {
      "text/plain": [
       "aic   -10.248452\n",
       "dtype: float64"
      ]
     },
     "execution_count": 17,
     "metadata": {},
     "output_type": "execute_result"
    }
   ],
   "source": [
    "aic.mean()"
   ]
  },
  {
   "cell_type": "code",
   "execution_count": 18,
   "id": "3b8cae60-5b00-4565-b9b1-8b440ebebbc2",
   "metadata": {},
   "outputs": [
    {
     "data": {
      "text/html": [
       "<div>\n",
       "<style scoped>\n",
       "    .dataframe tbody tr th:only-of-type {\n",
       "        vertical-align: middle;\n",
       "    }\n",
       "\n",
       "    .dataframe tbody tr th {\n",
       "        vertical-align: top;\n",
       "    }\n",
       "\n",
       "    .dataframe thead th {\n",
       "        text-align: right;\n",
       "    }\n",
       "</style>\n",
       "<table border=\"1\" class=\"dataframe\">\n",
       "  <thead>\n",
       "    <tr style=\"text-align: right;\">\n",
       "      <th></th>\n",
       "      <th>aic</th>\n",
       "    </tr>\n",
       "  </thead>\n",
       "  <tbody>\n",
       "    <tr>\n",
       "      <th>count</th>\n",
       "      <td>30.000000</td>\n",
       "    </tr>\n",
       "    <tr>\n",
       "      <th>mean</th>\n",
       "      <td>-10.248452</td>\n",
       "    </tr>\n",
       "    <tr>\n",
       "      <th>std</th>\n",
       "      <td>85.137414</td>\n",
       "    </tr>\n",
       "    <tr>\n",
       "      <th>min</th>\n",
       "      <td>-249.543903</td>\n",
       "    </tr>\n",
       "    <tr>\n",
       "      <th>25%</th>\n",
       "      <td>-28.991129</td>\n",
       "    </tr>\n",
       "    <tr>\n",
       "      <th>50%</th>\n",
       "      <td>3.084768</td>\n",
       "    </tr>\n",
       "    <tr>\n",
       "      <th>75%</th>\n",
       "      <td>37.014588</td>\n",
       "    </tr>\n",
       "    <tr>\n",
       "      <th>max</th>\n",
       "      <td>153.394096</td>\n",
       "    </tr>\n",
       "  </tbody>\n",
       "</table>\n",
       "</div>"
      ],
      "text/plain": [
       "              aic\n",
       "count   30.000000\n",
       "mean   -10.248452\n",
       "std     85.137414\n",
       "min   -249.543903\n",
       "25%    -28.991129\n",
       "50%      3.084768\n",
       "75%     37.014588\n",
       "max    153.394096"
      ]
     },
     "execution_count": 18,
     "metadata": {},
     "output_type": "execute_result"
    }
   ],
   "source": [
    "aic.describe()"
   ]
  },
  {
   "cell_type": "code",
   "execution_count": null,
   "id": "fd78e810-f622-44e7-90b9-7e5678026737",
   "metadata": {},
   "outputs": [],
   "source": []
  }
 ],
 "metadata": {
  "kernelspec": {
   "display_name": "Python 3 (ipykernel)",
   "language": "python",
   "name": "python3"
  },
  "language_info": {
   "codemirror_mode": {
    "name": "ipython",
    "version": 3
   },
   "file_extension": ".py",
   "mimetype": "text/x-python",
   "name": "python",
   "nbconvert_exporter": "python",
   "pygments_lexer": "ipython3",
   "version": "3.12.0"
  }
 },
 "nbformat": 4,
 "nbformat_minor": 5
}
