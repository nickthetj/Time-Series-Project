{
 "cells": [
  {
   "cell_type": "markdown",
   "id": "d7613042-8637-448a-b09d-c03a35601d79",
   "metadata": {},
   "source": [
    "# Arima: Forecasting the Next 25 States"
   ]
  },
  {
   "cell_type": "markdown",
   "id": "97ce01e0-df29-45e0-89eb-e624921b0c26",
   "metadata": {},
   "source": [
    "### Import Packages"
   ]
  },
  {
   "cell_type": "code",
   "execution_count": 1,
   "id": "db24c77f-bd40-4379-94c8-530aa4101968",
   "metadata": {},
   "outputs": [],
   "source": [
    "import re\n",
    "import pandas as pd\n",
    "import pmdarima as pmd\n",
    "import matplotlib\n",
    "import matplotlib.pyplot as plt\n",
    "import numpy as np\n",
    "import math\n",
    "from sklearn.metrics import classification_report"
   ]
  },
  {
   "cell_type": "markdown",
   "id": "b8b70e2e-208d-4427-bcbe-682c8883045c",
   "metadata": {},
   "source": [
    "### Prepare Data"
   ]
  },
  {
   "cell_type": "code",
   "execution_count": 2,
   "id": "f4554e7c-efad-4fa2-a77b-ee4e088386e5",
   "metadata": {
    "tags": []
   },
   "outputs": [],
   "source": [
    "# file names\n",
    "## training\n",
    "### subjects 1-30\n",
    "train_subject_f = \"UCI_HAR_Dataset/train/subject_train.txt\"\n",
    "### features\n",
    "x_train_f = \"UCI_HAR_Dataset/train/X_train.txt\"\n",
    "### classification \n",
    "y_train_f = \"UCI_HAR_Dataset/train/y_train.txt\"\n",
    "\n",
    "## testing\n",
    "### subjects 1-30\n",
    "test_subject_f = \"UCI_HAR_Dataset/test/subject_test.txt\"\n",
    "### features\n",
    "x_test_f = \"UCI_HAR_Dataset/test/X_test.txt\"\n",
    "### classification \n",
    "y_test_f = \"UCI_HAR_Dataset/test/y_test.txt\""
   ]
  },
  {
   "cell_type": "code",
   "execution_count": 3,
   "id": "324d0b13-e350-4c9b-aa09-5fc7e3bcdc4f",
   "metadata": {
    "tags": []
   },
   "outputs": [],
   "source": [
    "# training data frames\n",
    "train_subject_df = pd.read_csv(train_subject_f, sep=' ', header=None)\n",
    "x_train_df = pd.read_fwf(x_train_f, header=None)\n",
    "y_train_df = pd.read_csv(y_train_f, sep=' ', header=None)\n",
    "\n",
    "# testing dataframes\n",
    "test_subject_df = pd.read_csv(test_subject_f, sep=' ', header=None)\n",
    "x_test_df = pd.read_fwf(x_test_f, header=None)\n",
    "y_test_df = pd.read_csv(y_test_f, sep=' ', header=None)"
   ]
  },
  {
   "cell_type": "code",
   "execution_count": 4,
   "id": "bd485030-713b-41cd-ac13-4489f893394d",
   "metadata": {
    "tags": []
   },
   "outputs": [],
   "source": [
    "# combine subject information with training/testing data frames\n",
    "x_train_df.insert(0, \"Subject\", train_subject_df)\n",
    "y_train_df.insert(0, \"Subject\", train_subject_df)\n",
    "x_test_df.insert(0, \"Subject\", test_subject_df)\n",
    "y_test_df.insert(0, \"Subject\", test_subject_df)"
   ]
  },
  {
   "cell_type": "code",
   "execution_count": 5,
   "id": "29d22eba-f202-436a-be98-de4e6a6344c8",
   "metadata": {},
   "outputs": [],
   "source": [
    "# get list of features\n",
    "# read the file \n",
    "features_file = open(\"UCI_HAR_Dataset/features.txt\", \"r\") \n",
    "features_txt = features_file.read() \n",
    "  \n",
    "# create list - one entry for each new line in file \n",
    "features_list = features_txt.split(\"\\n\") \n",
    "features_file.close() \n",
    "\n",
    "# remove last entry ' '\n",
    "features_list.pop();"
   ]
  },
  {
   "cell_type": "code",
   "execution_count": 6,
   "id": "0c924c08-4a9b-41fc-91f5-39e2046c4a89",
   "metadata": {
    "tags": []
   },
   "outputs": [
    {
     "name": "stderr",
     "output_type": "stream",
     "text": [
      "<>:2: SyntaxWarning: invalid escape sequence '\\s'\n",
      "<>:2: SyntaxWarning: invalid escape sequence '\\s'\n",
      "/var/folders/6g/lht9tm8x1bz3sdrs0xk_d2m00000gn/T/ipykernel_29457/3421664769.py:2: SyntaxWarning: invalid escape sequence '\\s'\n",
      "  features_fixed = [re.split(\"\\s\", elem, 1)[1] for elem in features_list]\n"
     ]
    }
   ],
   "source": [
    "# clean the strings, add in first column (subject)\n",
    "features_fixed = [re.split(\"\\s\", elem, 1)[1] for elem in features_list]\n",
    "features_fixed.insert(0, \"Subject\")"
   ]
  },
  {
   "cell_type": "code",
   "execution_count": 7,
   "id": "40d808ba-1535-4a55-b849-0b72aec127e8",
   "metadata": {
    "tags": []
   },
   "outputs": [],
   "source": [
    "# remove fourier transform columns, and keep only mean measurements + subject column\n",
    "indices = [((elem[0] != 'f') and (('mean' in elem) or ('ubject' in elem))) \n",
    "           for elem in features_fixed]\n",
    "x_train_df = x_train_df[x_train_df.columns[indices]]\n",
    "x_test_df = x_test_df[x_test_df.columns[indices]]"
   ]
  },
  {
   "cell_type": "code",
   "execution_count": 8,
   "id": "08f36369-733e-4c18-b133-85122b566b3b",
   "metadata": {},
   "outputs": [],
   "source": [
    "# combine testing and training data frames into one\n",
    "y_all_data = pd.concat([y_train_df, y_test_df], axis=0)\n",
    "x_all_data = pd.concat([x_train_df, x_test_df], axis=0)"
   ]
  },
  {
   "cell_type": "markdown",
   "id": "83f24e9c-d213-4721-9e6a-7f580304fd92",
   "metadata": {},
   "source": [
    "### Building an Optimized Arima Model Per Subject"
   ]
  },
  {
   "cell_type": "code",
   "execution_count": 9,
   "id": "0aa60e8d-6846-4bd0-85ea-b6c4e81a885d",
   "metadata": {},
   "outputs": [],
   "source": [
    "# function to build arima model with optimized p,d,q parameters\n",
    "def arimamodel(timeseries_array, exog_vars):\n",
    "    autoarima_model = pmd.auto_arima(timeseries_array,\n",
    "                                     exog_vars,\n",
    "                                     start_p=1, \n",
    "                                     start_q=1,\n",
    "                                     test=\"adf\",\n",
    "                                     trace=True)\n",
    "    return autoarima_model"
   ]
  },
  {
   "cell_type": "code",
   "execution_count": 10,
   "id": "68564341-d71a-4592-83f7-132a4a97a954",
   "metadata": {},
   "outputs": [],
   "source": [
    "# empty dataframe for predictions, original results, and AIC\n",
    "predictions = pd.DataFrame()\n",
    "testing = pd.DataFrame()\n",
    "aic = pd.DataFrame()"
   ]
  },
  {
   "cell_type": "code",
   "execution_count": 11,
   "id": "17c8a517-69f6-43d3-8850-fd7a853fcb1d",
   "metadata": {},
   "outputs": [
    {
     "name": "stdout",
     "output_type": "stream",
     "text": [
      "Performing stepwise search to minimize aic\n",
      " ARIMA(1,0,1)(0,0,0)[0] intercept   : AIC=60.067, Time=0.96 sec\n",
      " ARIMA(0,0,0)(0,0,0)[0] intercept   : AIC=726.609, Time=0.62 sec\n",
      " ARIMA(1,0,0)(0,0,0)[0] intercept   : AIC=66.207, Time=0.57 sec\n",
      " ARIMA(0,0,1)(0,0,0)[0] intercept   : AIC=433.725, Time=0.76 sec\n",
      " ARIMA(0,0,0)(0,0,0)[0]             : AIC=756.290, Time=0.28 sec\n",
      " ARIMA(2,0,1)(0,0,0)[0] intercept   : AIC=63.098, Time=0.90 sec\n",
      " ARIMA(1,0,2)(0,0,0)[0] intercept   : AIC=62.236, Time=1.16 sec\n",
      " ARIMA(0,0,2)(0,0,0)[0] intercept   : AIC=292.208, Time=0.97 sec\n",
      " ARIMA(2,0,0)(0,0,0)[0] intercept   : AIC=61.389, Time=0.78 sec\n",
      " ARIMA(2,0,2)(0,0,0)[0] intercept   : AIC=62.563, Time=1.10 sec\n",
      " ARIMA(1,0,1)(0,0,0)[0]             : AIC=68.684, Time=0.75 sec\n",
      "\n",
      "Best model:  ARIMA(1,0,1)(0,0,0)[0] intercept\n",
      "Total fit time: 8.892 seconds\n",
      "Performing stepwise search to minimize aic\n",
      " ARIMA(1,1,1)(0,0,0)[0] intercept   : AIC=89.130, Time=0.80 sec\n",
      " ARIMA(0,1,0)(0,0,0)[0] intercept   : AIC=87.308, Time=0.31 sec\n",
      " ARIMA(1,1,0)(0,0,0)[0] intercept   : AIC=87.125, Time=0.61 sec\n",
      " ARIMA(0,1,1)(0,0,0)[0] intercept   : AIC=87.172, Time=0.85 sec\n",
      " ARIMA(0,1,0)(0,0,0)[0]             : AIC=85.349, Time=0.26 sec\n",
      "\n",
      "Best model:  ARIMA(0,1,0)(0,0,0)[0]          \n",
      "Total fit time: 2.844 seconds\n",
      "Performing stepwise search to minimize aic\n",
      " ARIMA(1,0,1)(0,0,0)[0] intercept   : AIC=72.743, Time=0.83 sec\n",
      " ARIMA(0,0,0)(0,0,0)[0] intercept   : AIC=732.080, Time=0.59 sec\n",
      " ARIMA(1,0,0)(0,0,0)[0] intercept   : AIC=73.986, Time=0.63 sec\n",
      " ARIMA(0,0,1)(0,0,0)[0] intercept   : AIC=480.655, Time=0.81 sec\n",
      " ARIMA(0,0,0)(0,0,0)[0]             : AIC=746.499, Time=0.31 sec\n",
      " ARIMA(2,0,1)(0,0,0)[0] intercept   : AIC=82.541, Time=0.88 sec\n",
      " ARIMA(1,0,2)(0,0,0)[0] intercept   : AIC=75.685, Time=1.09 sec\n",
      " ARIMA(0,0,2)(0,0,0)[0] intercept   : AIC=338.174, Time=1.03 sec\n",
      " ARIMA(2,0,0)(0,0,0)[0] intercept   : AIC=70.984, Time=0.86 sec\n",
      " ARIMA(3,0,0)(0,0,0)[0] intercept   : AIC=79.521, Time=1.00 sec\n",
      " ARIMA(3,0,1)(0,0,0)[0] intercept   : AIC=74.951, Time=1.12 sec\n",
      " ARIMA(2,0,0)(0,0,0)[0]             : AIC=inf, Time=0.73 sec\n",
      "\n",
      "Best model:  ARIMA(2,0,0)(0,0,0)[0] intercept\n",
      "Total fit time: 9.897 seconds\n",
      "Performing stepwise search to minimize aic\n"
     ]
    },
    {
     "name": "stderr",
     "output_type": "stream",
     "text": [
      "/Library/Frameworks/Python.framework/Versions/3.12/lib/python3.12/site-packages/statsmodels/tsa/base/tsa_model.py:836: ValueWarning: No supported index is available. Prediction results will be given with an integer index beginning at `start`.\n",
      "  return get_prediction_index(\n",
      "/Library/Frameworks/Python.framework/Versions/3.12/lib/python3.12/site-packages/statsmodels/tsa/base/tsa_model.py:836: FutureWarning: No supported index is available. In the next version, calling this method in a model without a supported index will result in an exception.\n",
      "  return get_prediction_index(\n"
     ]
    },
    {
     "name": "stdout",
     "output_type": "stream",
     "text": [
      " ARIMA(1,1,1)(0,0,0)[0] intercept   : AIC=66.193, Time=0.92 sec\n",
      " ARIMA(0,1,0)(0,0,0)[0] intercept   : AIC=64.611, Time=0.17 sec\n",
      " ARIMA(1,1,0)(0,0,0)[0] intercept   : AIC=65.202, Time=0.58 sec\n",
      " ARIMA(0,1,1)(0,0,0)[0] intercept   : AIC=65.427, Time=0.80 sec\n",
      " ARIMA(0,1,0)(0,0,0)[0]             : AIC=62.633, Time=0.24 sec\n",
      "\n",
      "Best model:  ARIMA(0,1,0)(0,0,0)[0]          \n",
      "Total fit time: 2.755 seconds\n",
      "Performing stepwise search to minimize aic\n"
     ]
    },
    {
     "name": "stderr",
     "output_type": "stream",
     "text": [
      "/Library/Frameworks/Python.framework/Versions/3.12/lib/python3.12/site-packages/statsmodels/tsa/base/tsa_model.py:836: ValueWarning: No supported index is available. Prediction results will be given with an integer index beginning at `start`.\n",
      "  return get_prediction_index(\n",
      "/Library/Frameworks/Python.framework/Versions/3.12/lib/python3.12/site-packages/statsmodels/tsa/base/tsa_model.py:836: FutureWarning: No supported index is available. In the next version, calling this method in a model without a supported index will result in an exception.\n",
      "  return get_prediction_index(\n"
     ]
    },
    {
     "name": "stdout",
     "output_type": "stream",
     "text": [
      " ARIMA(1,0,1)(0,0,0)[0] intercept   : AIC=94.333, Time=0.85 sec\n",
      " ARIMA(0,0,0)(0,0,0)[0] intercept   : AIC=499.900, Time=0.56 sec\n",
      " ARIMA(1,0,0)(0,0,0)[0] intercept   : AIC=95.336, Time=0.55 sec\n",
      " ARIMA(0,0,1)(0,0,0)[0] intercept   : AIC=335.557, Time=0.77 sec\n",
      " ARIMA(0,0,0)(0,0,0)[0]             : AIC=507.313, Time=0.23 sec\n",
      " ARIMA(2,0,1)(0,0,0)[0] intercept   : AIC=95.673, Time=0.75 sec\n",
      " ARIMA(1,0,2)(0,0,0)[0] intercept   : AIC=98.902, Time=1.03 sec\n",
      " ARIMA(0,0,2)(0,0,0)[0] intercept   : AIC=268.861, Time=0.99 sec\n",
      " ARIMA(2,0,0)(0,0,0)[0] intercept   : AIC=86.149, Time=0.80 sec\n",
      " ARIMA(3,0,0)(0,0,0)[0] intercept   : AIC=103.633, Time=0.95 sec\n",
      " ARIMA(3,0,1)(0,0,0)[0] intercept   : AIC=97.354, Time=1.04 sec\n",
      " ARIMA(2,0,0)(0,0,0)[0]             : AIC=inf, Time=0.77 sec\n",
      "\n",
      "Best model:  ARIMA(2,0,0)(0,0,0)[0] intercept\n",
      "Total fit time: 9.317 seconds\n",
      "Performing stepwise search to minimize aic\n"
     ]
    },
    {
     "name": "stderr",
     "output_type": "stream",
     "text": [
      "/Library/Frameworks/Python.framework/Versions/3.12/lib/python3.12/site-packages/statsmodels/tsa/base/tsa_model.py:836: ValueWarning: No supported index is available. Prediction results will be given with an integer index beginning at `start`.\n",
      "  return get_prediction_index(\n",
      "/Library/Frameworks/Python.framework/Versions/3.12/lib/python3.12/site-packages/statsmodels/tsa/base/tsa_model.py:836: FutureWarning: No supported index is available. In the next version, calling this method in a model without a supported index will result in an exception.\n",
      "  return get_prediction_index(\n"
     ]
    },
    {
     "name": "stdout",
     "output_type": "stream",
     "text": [
      " ARIMA(1,1,1)(0,0,0)[0] intercept   : AIC=38.388, Time=0.96 sec\n",
      " ARIMA(0,1,0)(0,0,0)[0] intercept   : AIC=38.348, Time=0.40 sec\n",
      " ARIMA(1,1,0)(0,0,0)[0] intercept   : AIC=37.765, Time=0.67 sec\n",
      " ARIMA(0,1,1)(0,0,0)[0] intercept   : AIC=38.194, Time=0.82 sec\n",
      " ARIMA(0,1,0)(0,0,0)[0]             : AIC=36.505, Time=0.26 sec\n",
      "\n",
      "Best model:  ARIMA(0,1,0)(0,0,0)[0]          \n",
      "Total fit time: 3.143 seconds\n",
      "Performing stepwise search to minimize aic\n"
     ]
    },
    {
     "name": "stderr",
     "output_type": "stream",
     "text": [
      "/Library/Frameworks/Python.framework/Versions/3.12/lib/python3.12/site-packages/statsmodels/tsa/base/tsa_model.py:836: ValueWarning: No supported index is available. Prediction results will be given with an integer index beginning at `start`.\n",
      "  return get_prediction_index(\n",
      "/Library/Frameworks/Python.framework/Versions/3.12/lib/python3.12/site-packages/statsmodels/tsa/base/tsa_model.py:836: FutureWarning: No supported index is available. In the next version, calling this method in a model without a supported index will result in an exception.\n",
      "  return get_prediction_index(\n"
     ]
    },
    {
     "name": "stdout",
     "output_type": "stream",
     "text": [
      " ARIMA(1,0,1)(0,0,0)[0] intercept   : AIC=-47.160, Time=0.77 sec\n",
      " ARIMA(0,0,0)(0,0,0)[0] intercept   : AIC=575.662, Time=0.53 sec\n",
      " ARIMA(1,0,0)(0,0,0)[0] intercept   : AIC=-48.477, Time=0.56 sec\n",
      " ARIMA(0,0,1)(0,0,0)[0] intercept   : AIC=370.293, Time=0.75 sec\n",
      " ARIMA(0,0,0)(0,0,0)[0]             : AIC=574.003, Time=0.26 sec\n",
      " ARIMA(2,0,0)(0,0,0)[0] intercept   : AIC=-48.382, Time=0.81 sec\n",
      " ARIMA(2,0,1)(0,0,0)[0] intercept   : AIC=-45.165, Time=0.82 sec\n",
      " ARIMA(1,0,0)(0,0,0)[0]             : AIC=inf, Time=0.48 sec\n",
      "\n",
      "Best model:  ARIMA(1,0,0)(0,0,0)[0] intercept\n",
      "Total fit time: 4.990 seconds\n",
      "Performing stepwise search to minimize aic\n"
     ]
    },
    {
     "name": "stderr",
     "output_type": "stream",
     "text": [
      "/Library/Frameworks/Python.framework/Versions/3.12/lib/python3.12/site-packages/statsmodels/tsa/base/tsa_model.py:836: ValueWarning: No supported index is available. Prediction results will be given with an integer index beginning at `start`.\n",
      "  return get_prediction_index(\n",
      "/Library/Frameworks/Python.framework/Versions/3.12/lib/python3.12/site-packages/statsmodels/tsa/base/tsa_model.py:836: FutureWarning: No supported index is available. In the next version, calling this method in a model without a supported index will result in an exception.\n",
      "  return get_prediction_index(\n"
     ]
    },
    {
     "name": "stdout",
     "output_type": "stream",
     "text": [
      " ARIMA(1,1,1)(0,0,0)[0] intercept   : AIC=72.985, Time=0.81 sec\n",
      " ARIMA(0,1,0)(0,0,0)[0] intercept   : AIC=75.158, Time=0.27 sec\n",
      " ARIMA(1,1,0)(0,0,0)[0] intercept   : AIC=72.162, Time=0.55 sec\n",
      " ARIMA(0,1,1)(0,0,0)[0] intercept   : AIC=71.668, Time=0.81 sec\n",
      " ARIMA(0,1,0)(0,0,0)[0]             : AIC=73.264, Time=0.27 sec\n",
      " ARIMA(0,1,2)(0,0,0)[0] intercept   : AIC=73.356, Time=1.05 sec\n",
      " ARIMA(1,1,2)(0,0,0)[0] intercept   : AIC=75.344, Time=1.07 sec\n",
      " ARIMA(0,1,1)(0,0,0)[0]             : AIC=69.729, Time=0.70 sec\n",
      " ARIMA(1,1,1)(0,0,0)[0]             : AIC=71.021, Time=0.84 sec\n",
      " ARIMA(0,1,2)(0,0,0)[0]             : AIC=71.428, Time=0.93 sec\n",
      " ARIMA(1,1,0)(0,0,0)[0]             : AIC=70.227, Time=0.52 sec\n",
      " ARIMA(1,1,2)(0,0,0)[0]             : AIC=73.415, Time=1.01 sec\n",
      "\n",
      "Best model:  ARIMA(0,1,1)(0,0,0)[0]          \n",
      "Total fit time: 8.858 seconds\n",
      "Performing stepwise search to minimize aic\n"
     ]
    },
    {
     "name": "stderr",
     "output_type": "stream",
     "text": [
      "/Library/Frameworks/Python.framework/Versions/3.12/lib/python3.12/site-packages/statsmodels/tsa/base/tsa_model.py:836: ValueWarning: No supported index is available. Prediction results will be given with an integer index beginning at `start`.\n",
      "  return get_prediction_index(\n",
      "/Library/Frameworks/Python.framework/Versions/3.12/lib/python3.12/site-packages/statsmodels/tsa/base/tsa_model.py:836: FutureWarning: No supported index is available. In the next version, calling this method in a model without a supported index will result in an exception.\n",
      "  return get_prediction_index(\n"
     ]
    },
    {
     "name": "stdout",
     "output_type": "stream",
     "text": [
      " ARIMA(1,0,1)(0,0,0)[0] intercept   : AIC=101.546, Time=0.73 sec\n",
      " ARIMA(0,0,0)(0,0,0)[0] intercept   : AIC=504.661, Time=0.51 sec\n",
      " ARIMA(1,0,0)(0,0,0)[0] intercept   : AIC=105.778, Time=0.55 sec\n",
      " ARIMA(0,0,1)(0,0,0)[0] intercept   : AIC=333.984, Time=0.79 sec\n",
      " ARIMA(0,0,0)(0,0,0)[0]             : AIC=519.800, Time=0.27 sec\n",
      " ARIMA(2,0,1)(0,0,0)[0] intercept   : AIC=108.577, Time=0.80 sec\n",
      " ARIMA(1,0,2)(0,0,0)[0] intercept   : AIC=107.757, Time=1.04 sec\n",
      " ARIMA(0,0,2)(0,0,0)[0] intercept   : AIC=260.935, Time=0.96 sec\n",
      " ARIMA(2,0,0)(0,0,0)[0] intercept   : AIC=105.969, Time=0.80 sec\n",
      " ARIMA(2,0,2)(0,0,0)[0] intercept   : AIC=115.772, Time=1.02 sec\n",
      " ARIMA(1,0,1)(0,0,0)[0]             : AIC=104.458, Time=0.76 sec\n",
      "\n",
      "Best model:  ARIMA(1,0,1)(0,0,0)[0] intercept\n",
      "Total fit time: 8.269 seconds\n",
      "Performing stepwise search to minimize aic\n"
     ]
    },
    {
     "name": "stderr",
     "output_type": "stream",
     "text": [
      "/Library/Frameworks/Python.framework/Versions/3.12/lib/python3.12/site-packages/statsmodels/tsa/base/tsa_model.py:836: ValueWarning: No supported index is available. Prediction results will be given with an integer index beginning at `start`.\n",
      "  return get_prediction_index(\n",
      "/Library/Frameworks/Python.framework/Versions/3.12/lib/python3.12/site-packages/statsmodels/tsa/base/tsa_model.py:836: FutureWarning: No supported index is available. In the next version, calling this method in a model without a supported index will result in an exception.\n",
      "  return get_prediction_index(\n"
     ]
    },
    {
     "name": "stdout",
     "output_type": "stream",
     "text": [
      " ARIMA(1,1,1)(0,0,0)[0] intercept   : AIC=82.576, Time=0.83 sec\n",
      " ARIMA(0,1,0)(0,0,0)[0] intercept   : AIC=79.681, Time=0.15 sec\n",
      " ARIMA(1,1,0)(0,0,0)[0] intercept   : AIC=81.680, Time=0.20 sec\n",
      " ARIMA(0,1,1)(0,0,0)[0] intercept   : AIC=81.680, Time=0.27 sec\n",
      " ARIMA(0,1,0)(0,0,0)[0]             : AIC=77.697, Time=0.26 sec\n",
      "\n",
      "Best model:  ARIMA(0,1,0)(0,0,0)[0]          \n",
      "Total fit time: 1.721 seconds\n",
      "Performing stepwise search to minimize aic\n"
     ]
    },
    {
     "name": "stderr",
     "output_type": "stream",
     "text": [
      "/Library/Frameworks/Python.framework/Versions/3.12/lib/python3.12/site-packages/statsmodels/tsa/base/tsa_model.py:836: ValueWarning: No supported index is available. Prediction results will be given with an integer index beginning at `start`.\n",
      "  return get_prediction_index(\n",
      "/Library/Frameworks/Python.framework/Versions/3.12/lib/python3.12/site-packages/statsmodels/tsa/base/tsa_model.py:836: FutureWarning: No supported index is available. In the next version, calling this method in a model without a supported index will result in an exception.\n",
      "  return get_prediction_index(\n"
     ]
    },
    {
     "name": "stdout",
     "output_type": "stream",
     "text": [
      " ARIMA(1,0,1)(0,0,0)[0] intercept   : AIC=105.067, Time=0.87 sec\n",
      " ARIMA(0,0,0)(0,0,0)[0] intercept   : AIC=535.262, Time=0.55 sec\n",
      " ARIMA(1,0,0)(0,0,0)[0] intercept   : AIC=107.455, Time=0.58 sec\n",
      " ARIMA(0,0,1)(0,0,0)[0] intercept   : AIC=366.017, Time=0.73 sec\n",
      " ARIMA(0,0,0)(0,0,0)[0]             : AIC=643.771, Time=0.26 sec\n",
      " ARIMA(2,0,1)(0,0,0)[0] intercept   : AIC=108.841, Time=0.87 sec\n",
      " ARIMA(1,0,2)(0,0,0)[0] intercept   : AIC=108.487, Time=1.03 sec\n",
      " ARIMA(0,0,2)(0,0,0)[0] intercept   : AIC=287.106, Time=1.00 sec\n",
      " ARIMA(2,0,0)(0,0,0)[0] intercept   : AIC=106.640, Time=0.72 sec\n",
      " ARIMA(2,0,2)(0,0,0)[0] intercept   : AIC=107.963, Time=1.05 sec\n",
      " ARIMA(1,0,1)(0,0,0)[0]             : AIC=103.420, Time=0.81 sec\n",
      " ARIMA(0,0,1)(0,0,0)[0]             : AIC=411.369, Time=0.68 sec\n",
      " ARIMA(1,0,0)(0,0,0)[0]             : AIC=104.146, Time=0.62 sec\n",
      " ARIMA(2,0,1)(0,0,0)[0]             : AIC=110.345, Time=0.81 sec\n",
      " ARIMA(1,0,2)(0,0,0)[0]             : AIC=102.460, Time=0.92 sec\n",
      " ARIMA(0,0,2)(0,0,0)[0]             : AIC=296.198, Time=0.93 sec\n",
      " ARIMA(2,0,2)(0,0,0)[0]             : AIC=106.859, Time=1.02 sec\n",
      " ARIMA(1,0,3)(0,0,0)[0]             : AIC=104.320, Time=1.26 sec\n",
      " ARIMA(0,0,3)(0,0,0)[0]             : AIC=224.625, Time=1.15 sec\n",
      " ARIMA(2,0,3)(0,0,0)[0]             : AIC=108.058, Time=1.28 sec\n",
      "\n",
      "Best model:  ARIMA(1,0,2)(0,0,0)[0]          \n",
      "Total fit time: 17.180 seconds\n",
      "Performing stepwise search to minimize aic\n"
     ]
    },
    {
     "name": "stderr",
     "output_type": "stream",
     "text": [
      "/Library/Frameworks/Python.framework/Versions/3.12/lib/python3.12/site-packages/statsmodels/tsa/base/tsa_model.py:836: ValueWarning: No supported index is available. Prediction results will be given with an integer index beginning at `start`.\n",
      "  return get_prediction_index(\n",
      "/Library/Frameworks/Python.framework/Versions/3.12/lib/python3.12/site-packages/statsmodels/tsa/base/tsa_model.py:836: FutureWarning: No supported index is available. In the next version, calling this method in a model without a supported index will result in an exception.\n",
      "  return get_prediction_index(\n"
     ]
    },
    {
     "name": "stdout",
     "output_type": "stream",
     "text": [
      " ARIMA(1,1,1)(0,0,0)[0] intercept   : AIC=-61.202, Time=0.88 sec\n",
      " ARIMA(0,1,0)(0,0,0)[0] intercept   : AIC=-60.093, Time=0.12 sec\n",
      " ARIMA(1,1,0)(0,0,0)[0] intercept   : AIC=-62.778, Time=0.62 sec\n",
      " ARIMA(0,1,1)(0,0,0)[0] intercept   : AIC=-62.300, Time=0.84 sec\n",
      " ARIMA(0,1,0)(0,0,0)[0]             : AIC=-62.078, Time=0.29 sec\n",
      " ARIMA(2,1,0)(0,0,0)[0] intercept   : AIC=-61.598, Time=0.84 sec\n",
      " ARIMA(2,1,1)(0,0,0)[0] intercept   : AIC=-59.600, Time=0.90 sec\n",
      " ARIMA(1,1,0)(0,0,0)[0]             : AIC=-64.761, Time=0.58 sec\n",
      " ARIMA(2,1,0)(0,0,0)[0]             : AIC=-63.585, Time=0.86 sec\n",
      " ARIMA(1,1,1)(0,0,0)[0]             : AIC=-63.205, Time=0.85 sec\n",
      " ARIMA(0,1,1)(0,0,0)[0]             : AIC=-64.286, Time=0.89 sec\n",
      " ARIMA(2,1,1)(0,0,0)[0]             : AIC=-61.584, Time=0.86 sec\n",
      "\n",
      "Best model:  ARIMA(1,1,0)(0,0,0)[0]          \n",
      "Total fit time: 8.570 seconds\n",
      "Performing stepwise search to minimize aic\n"
     ]
    },
    {
     "name": "stderr",
     "output_type": "stream",
     "text": [
      "/Library/Frameworks/Python.framework/Versions/3.12/lib/python3.12/site-packages/statsmodels/tsa/base/tsa_model.py:836: ValueWarning: No supported index is available. Prediction results will be given with an integer index beginning at `start`.\n",
      "  return get_prediction_index(\n",
      "/Library/Frameworks/Python.framework/Versions/3.12/lib/python3.12/site-packages/statsmodels/tsa/base/tsa_model.py:836: FutureWarning: No supported index is available. In the next version, calling this method in a model without a supported index will result in an exception.\n",
      "  return get_prediction_index(\n"
     ]
    },
    {
     "name": "stdout",
     "output_type": "stream",
     "text": [
      " ARIMA(1,0,1)(0,0,0)[0] intercept   : AIC=48.473, Time=0.80 sec\n",
      " ARIMA(0,0,0)(0,0,0)[0] intercept   : AIC=700.507, Time=0.56 sec\n",
      " ARIMA(1,0,0)(0,0,0)[0] intercept   : AIC=49.980, Time=0.58 sec\n",
      " ARIMA(0,0,1)(0,0,0)[0] intercept   : AIC=427.474, Time=0.79 sec\n",
      " ARIMA(0,0,0)(0,0,0)[0]             : AIC=715.742, Time=0.19 sec\n",
      " ARIMA(2,0,1)(0,0,0)[0] intercept   : AIC=51.336, Time=0.82 sec\n",
      " ARIMA(1,0,2)(0,0,0)[0] intercept   : AIC=52.453, Time=1.09 sec\n",
      " ARIMA(0,0,2)(0,0,0)[0] intercept   : AIC=300.050, Time=0.97 sec\n",
      " ARIMA(2,0,0)(0,0,0)[0] intercept   : AIC=48.302, Time=0.79 sec\n",
      " ARIMA(3,0,0)(0,0,0)[0] intercept   : AIC=50.215, Time=1.00 sec\n",
      " ARIMA(3,0,1)(0,0,0)[0] intercept   : AIC=51.312, Time=1.22 sec\n",
      " ARIMA(2,0,0)(0,0,0)[0]             : AIC=inf, Time=0.76 sec\n",
      "\n",
      "Best model:  ARIMA(2,0,0)(0,0,0)[0] intercept\n",
      "Total fit time: 9.634 seconds\n",
      "Performing stepwise search to minimize aic\n"
     ]
    },
    {
     "name": "stderr",
     "output_type": "stream",
     "text": [
      "/Library/Frameworks/Python.framework/Versions/3.12/lib/python3.12/site-packages/statsmodels/tsa/base/tsa_model.py:836: ValueWarning: No supported index is available. Prediction results will be given with an integer index beginning at `start`.\n",
      "  return get_prediction_index(\n",
      "/Library/Frameworks/Python.framework/Versions/3.12/lib/python3.12/site-packages/statsmodels/tsa/base/tsa_model.py:836: FutureWarning: No supported index is available. In the next version, calling this method in a model without a supported index will result in an exception.\n",
      "  return get_prediction_index(\n"
     ]
    },
    {
     "name": "stdout",
     "output_type": "stream",
     "text": [
      " ARIMA(1,1,1)(0,0,0)[0] intercept   : AIC=62.081, Time=0.88 sec\n",
      " ARIMA(0,1,0)(0,0,0)[0] intercept   : AIC=62.080, Time=0.35 sec\n",
      " ARIMA(1,1,0)(0,0,0)[0] intercept   : AIC=60.576, Time=0.72 sec\n",
      " ARIMA(0,1,1)(0,0,0)[0] intercept   : AIC=60.244, Time=0.84 sec\n",
      " ARIMA(0,1,0)(0,0,0)[0]             : AIC=60.126, Time=0.27 sec\n",
      "\n",
      "Best model:  ARIMA(0,1,0)(0,0,0)[0]          \n",
      "Total fit time: 3.076 seconds\n",
      "Performing stepwise search to minimize aic\n"
     ]
    },
    {
     "name": "stderr",
     "output_type": "stream",
     "text": [
      "/Library/Frameworks/Python.framework/Versions/3.12/lib/python3.12/site-packages/statsmodels/tsa/base/tsa_model.py:836: ValueWarning: No supported index is available. Prediction results will be given with an integer index beginning at `start`.\n",
      "  return get_prediction_index(\n",
      "/Library/Frameworks/Python.framework/Versions/3.12/lib/python3.12/site-packages/statsmodels/tsa/base/tsa_model.py:836: FutureWarning: No supported index is available. In the next version, calling this method in a model without a supported index will result in an exception.\n",
      "  return get_prediction_index(\n"
     ]
    },
    {
     "name": "stdout",
     "output_type": "stream",
     "text": [
      " ARIMA(1,1,1)(0,0,0)[0] intercept   : AIC=94.976, Time=0.81 sec\n",
      " ARIMA(0,1,0)(0,0,0)[0] intercept   : AIC=92.590, Time=0.17 sec\n",
      " ARIMA(1,1,0)(0,0,0)[0] intercept   : AIC=93.061, Time=0.62 sec\n",
      " ARIMA(0,1,1)(0,0,0)[0] intercept   : AIC=93.002, Time=0.81 sec\n",
      " ARIMA(0,1,0)(0,0,0)[0]             : AIC=90.594, Time=0.34 sec\n",
      "\n",
      "Best model:  ARIMA(0,1,0)(0,0,0)[0]          \n",
      "Total fit time: 2.782 seconds\n",
      "Performing stepwise search to minimize aic\n"
     ]
    },
    {
     "name": "stderr",
     "output_type": "stream",
     "text": [
      "/Library/Frameworks/Python.framework/Versions/3.12/lib/python3.12/site-packages/statsmodels/tsa/base/tsa_model.py:836: ValueWarning: No supported index is available. Prediction results will be given with an integer index beginning at `start`.\n",
      "  return get_prediction_index(\n",
      "/Library/Frameworks/Python.framework/Versions/3.12/lib/python3.12/site-packages/statsmodels/tsa/base/tsa_model.py:836: FutureWarning: No supported index is available. In the next version, calling this method in a model without a supported index will result in an exception.\n",
      "  return get_prediction_index(\n"
     ]
    },
    {
     "name": "stdout",
     "output_type": "stream",
     "text": [
      " ARIMA(1,0,1)(0,0,0)[0] intercept   : AIC=52.055, Time=0.91 sec\n",
      " ARIMA(0,0,0)(0,0,0)[0] intercept   : AIC=645.174, Time=0.62 sec\n",
      " ARIMA(1,0,0)(0,0,0)[0] intercept   : AIC=51.841, Time=0.60 sec\n",
      " ARIMA(0,0,1)(0,0,0)[0] intercept   : AIC=454.346, Time=0.89 sec\n",
      " ARIMA(0,0,0)(0,0,0)[0]             : AIC=651.317, Time=0.27 sec\n",
      " ARIMA(2,0,0)(0,0,0)[0] intercept   : AIC=53.477, Time=0.90 sec\n",
      " ARIMA(2,0,1)(0,0,0)[0] intercept   : AIC=56.330, Time=0.82 sec\n",
      " ARIMA(1,0,0)(0,0,0)[0]             : AIC=47.612, Time=0.59 sec\n",
      " ARIMA(2,0,0)(0,0,0)[0]             : AIC=38.038, Time=0.79 sec\n",
      " ARIMA(3,0,0)(0,0,0)[0]             : AIC=inf, Time=1.11 sec\n",
      " ARIMA(2,0,1)(0,0,0)[0]             : AIC=47.306, Time=0.87 sec\n",
      " ARIMA(1,0,1)(0,0,0)[0]             : AIC=40.753, Time=0.86 sec\n",
      " ARIMA(3,0,1)(0,0,0)[0]             : AIC=43.242, Time=1.10 sec\n",
      "\n",
      "Best model:  ARIMA(2,0,0)(0,0,0)[0]          \n",
      "Total fit time: 10.377 seconds\n",
      "Performing stepwise search to minimize aic\n"
     ]
    },
    {
     "name": "stderr",
     "output_type": "stream",
     "text": [
      "/Library/Frameworks/Python.framework/Versions/3.12/lib/python3.12/site-packages/statsmodels/tsa/base/tsa_model.py:836: ValueWarning: No supported index is available. Prediction results will be given with an integer index beginning at `start`.\n",
      "  return get_prediction_index(\n",
      "/Library/Frameworks/Python.framework/Versions/3.12/lib/python3.12/site-packages/statsmodels/tsa/base/tsa_model.py:836: FutureWarning: No supported index is available. In the next version, calling this method in a model without a supported index will result in an exception.\n",
      "  return get_prediction_index(\n"
     ]
    },
    {
     "name": "stdout",
     "output_type": "stream",
     "text": [
      " ARIMA(1,0,1)(0,0,0)[0] intercept   : AIC=-23.433, Time=0.92 sec\n",
      " ARIMA(0,0,0)(0,0,0)[0] intercept   : AIC=601.321, Time=0.61 sec\n",
      " ARIMA(1,0,0)(0,0,0)[0] intercept   : AIC=-14.502, Time=0.59 sec\n",
      " ARIMA(0,0,1)(0,0,0)[0] intercept   : AIC=396.456, Time=0.94 sec\n",
      " ARIMA(0,0,0)(0,0,0)[0]             : AIC=599.445, Time=0.19 sec\n",
      " ARIMA(2,0,1)(0,0,0)[0] intercept   : AIC=-16.909, Time=0.90 sec\n",
      " ARIMA(1,0,2)(0,0,0)[0] intercept   : AIC=-25.964, Time=1.12 sec\n",
      " ARIMA(0,0,2)(0,0,0)[0] intercept   : AIC=288.110, Time=1.07 sec\n",
      " ARIMA(2,0,2)(0,0,0)[0] intercept   : AIC=-19.840, Time=1.20 sec\n",
      " ARIMA(1,0,3)(0,0,0)[0] intercept   : AIC=-29.539, Time=1.48 sec\n",
      " ARIMA(0,0,3)(0,0,0)[0] intercept   : AIC=195.222, Time=1.35 sec\n",
      " ARIMA(2,0,3)(0,0,0)[0] intercept   : AIC=-21.034, Time=1.65 sec\n",
      " ARIMA(1,0,4)(0,0,0)[0] intercept   : AIC=-26.630, Time=2.37 sec\n",
      " ARIMA(0,0,4)(0,0,0)[0] intercept   : AIC=139.842, Time=2.01 sec\n",
      " ARIMA(2,0,4)(0,0,0)[0] intercept   : AIC=-28.563, Time=2.08 sec\n",
      " ARIMA(1,0,3)(0,0,0)[0]             : AIC=-21.447, Time=1.51 sec\n",
      "\n",
      "Best model:  ARIMA(1,0,3)(0,0,0)[0] intercept\n",
      "Total fit time: 20.075 seconds\n",
      "Performing stepwise search to minimize aic\n"
     ]
    },
    {
     "name": "stderr",
     "output_type": "stream",
     "text": [
      "/Library/Frameworks/Python.framework/Versions/3.12/lib/python3.12/site-packages/statsmodels/tsa/base/tsa_model.py:836: ValueWarning: No supported index is available. Prediction results will be given with an integer index beginning at `start`.\n",
      "  return get_prediction_index(\n",
      "/Library/Frameworks/Python.framework/Versions/3.12/lib/python3.12/site-packages/statsmodels/tsa/base/tsa_model.py:836: FutureWarning: No supported index is available. In the next version, calling this method in a model without a supported index will result in an exception.\n",
      "  return get_prediction_index(\n"
     ]
    },
    {
     "name": "stdout",
     "output_type": "stream",
     "text": [
      " ARIMA(1,0,1)(0,0,0)[0] intercept   : AIC=5.464, Time=0.90 sec\n",
      " ARIMA(0,0,0)(0,0,0)[0] intercept   : AIC=548.506, Time=0.63 sec\n",
      " ARIMA(1,0,0)(0,0,0)[0] intercept   : AIC=6.559, Time=0.66 sec\n",
      " ARIMA(0,0,1)(0,0,0)[0] intercept   : AIC=309.039, Time=0.85 sec\n",
      " ARIMA(0,0,0)(0,0,0)[0]             : AIC=552.726, Time=0.28 sec\n",
      " ARIMA(2,0,1)(0,0,0)[0] intercept   : AIC=5.619, Time=0.93 sec\n",
      " ARIMA(1,0,2)(0,0,0)[0] intercept   : AIC=10.308, Time=1.14 sec\n",
      " ARIMA(0,0,2)(0,0,0)[0] intercept   : AIC=213.096, Time=1.02 sec\n",
      " ARIMA(2,0,0)(0,0,0)[0] intercept   : AIC=6.925, Time=0.88 sec\n",
      " ARIMA(2,0,2)(0,0,0)[0] intercept   : AIC=8.343, Time=1.13 sec\n",
      " ARIMA(1,0,1)(0,0,0)[0]             : AIC=7.107, Time=0.86 sec\n",
      "\n",
      "Best model:  ARIMA(1,0,1)(0,0,0)[0] intercept\n",
      "Total fit time: 9.366 seconds\n",
      "Performing stepwise search to minimize aic\n"
     ]
    },
    {
     "name": "stderr",
     "output_type": "stream",
     "text": [
      "/Library/Frameworks/Python.framework/Versions/3.12/lib/python3.12/site-packages/statsmodels/tsa/base/tsa_model.py:836: ValueWarning: No supported index is available. Prediction results will be given with an integer index beginning at `start`.\n",
      "  return get_prediction_index(\n",
      "/Library/Frameworks/Python.framework/Versions/3.12/lib/python3.12/site-packages/statsmodels/tsa/base/tsa_model.py:836: FutureWarning: No supported index is available. In the next version, calling this method in a model without a supported index will result in an exception.\n",
      "  return get_prediction_index(\n"
     ]
    },
    {
     "name": "stdout",
     "output_type": "stream",
     "text": [
      " ARIMA(1,0,1)(0,0,0)[0] intercept   : AIC=223.428, Time=0.82 sec\n",
      " ARIMA(0,0,0)(0,0,0)[0] intercept   : AIC=665.841, Time=0.60 sec\n",
      " ARIMA(1,0,0)(0,0,0)[0] intercept   : AIC=220.550, Time=0.62 sec\n",
      " ARIMA(0,0,1)(0,0,0)[0] intercept   : AIC=479.646, Time=0.79 sec\n",
      " ARIMA(0,0,0)(0,0,0)[0]             : AIC=877.223, Time=0.22 sec\n",
      " ARIMA(2,0,0)(0,0,0)[0] intercept   : AIC=237.551, Time=0.85 sec\n",
      " ARIMA(2,0,1)(0,0,0)[0] intercept   : AIC=206.309, Time=0.85 sec\n",
      " ARIMA(3,0,1)(0,0,0)[0] intercept   : AIC=222.605, Time=1.10 sec\n",
      " ARIMA(2,0,2)(0,0,0)[0] intercept   : AIC=228.540, Time=1.06 sec\n",
      " ARIMA(1,0,2)(0,0,0)[0] intercept   : AIC=256.817, Time=1.04 sec\n",
      " ARIMA(3,0,0)(0,0,0)[0] intercept   : AIC=224.937, Time=1.07 sec\n",
      " ARIMA(3,0,2)(0,0,0)[0] intercept   : AIC=242.954, Time=1.19 sec\n",
      " ARIMA(2,0,1)(0,0,0)[0]             : AIC=201.017, Time=0.87 sec\n",
      " ARIMA(1,0,1)(0,0,0)[0]             : AIC=194.868, Time=0.80 sec\n",
      " ARIMA(0,0,1)(0,0,0)[0]             : AIC=738.263, Time=0.78 sec\n",
      " ARIMA(1,0,0)(0,0,0)[0]             : AIC=inf, Time=0.56 sec\n",
      " ARIMA(1,0,2)(0,0,0)[0]             : AIC=200.647, Time=1.09 sec\n",
      " ARIMA(0,0,2)(0,0,0)[0]             : AIC=661.712, Time=1.03 sec\n",
      " ARIMA(2,0,0)(0,0,0)[0]             : AIC=inf, Time=0.82 sec\n",
      " ARIMA(2,0,2)(0,0,0)[0]             : AIC=200.085, Time=1.18 sec\n",
      "\n",
      "Best model:  ARIMA(1,0,1)(0,0,0)[0]          \n",
      "Total fit time: 17.416 seconds\n",
      "Performing stepwise search to minimize aic\n"
     ]
    },
    {
     "name": "stderr",
     "output_type": "stream",
     "text": [
      "/Library/Frameworks/Python.framework/Versions/3.12/lib/python3.12/site-packages/statsmodels/tsa/base/tsa_model.py:836: ValueWarning: No supported index is available. Prediction results will be given with an integer index beginning at `start`.\n",
      "  return get_prediction_index(\n",
      "/Library/Frameworks/Python.framework/Versions/3.12/lib/python3.12/site-packages/statsmodels/tsa/base/tsa_model.py:836: FutureWarning: No supported index is available. In the next version, calling this method in a model without a supported index will result in an exception.\n",
      "  return get_prediction_index(\n"
     ]
    },
    {
     "name": "stdout",
     "output_type": "stream",
     "text": [
      " ARIMA(1,0,1)(0,0,0)[0] intercept   : AIC=17.082, Time=0.83 sec\n",
      " ARIMA(0,0,0)(0,0,0)[0] intercept   : AIC=601.214, Time=0.60 sec\n",
      " ARIMA(1,0,0)(0,0,0)[0] intercept   : AIC=17.393, Time=0.63 sec\n",
      " ARIMA(0,0,1)(0,0,0)[0] intercept   : AIC=342.995, Time=0.78 sec\n",
      " ARIMA(0,0,0)(0,0,0)[0]             : AIC=663.852, Time=0.27 sec\n",
      " ARIMA(2,0,1)(0,0,0)[0] intercept   : AIC=20.143, Time=0.88 sec\n",
      " ARIMA(1,0,2)(0,0,0)[0] intercept   : AIC=21.904, Time=1.10 sec\n",
      " ARIMA(0,0,2)(0,0,0)[0] intercept   : AIC=222.211, Time=1.03 sec\n",
      " ARIMA(2,0,0)(0,0,0)[0] intercept   : AIC=19.641, Time=0.85 sec\n",
      " ARIMA(2,0,2)(0,0,0)[0] intercept   : AIC=41.503, Time=1.08 sec\n",
      " ARIMA(1,0,1)(0,0,0)[0]             : AIC=30.111, Time=0.80 sec\n",
      "\n",
      "Best model:  ARIMA(1,0,1)(0,0,0)[0] intercept\n",
      "Total fit time: 8.897 seconds\n",
      "Performing stepwise search to minimize aic\n"
     ]
    },
    {
     "name": "stderr",
     "output_type": "stream",
     "text": [
      "/Library/Frameworks/Python.framework/Versions/3.12/lib/python3.12/site-packages/statsmodels/tsa/base/tsa_model.py:836: ValueWarning: No supported index is available. Prediction results will be given with an integer index beginning at `start`.\n",
      "  return get_prediction_index(\n",
      "/Library/Frameworks/Python.framework/Versions/3.12/lib/python3.12/site-packages/statsmodels/tsa/base/tsa_model.py:836: FutureWarning: No supported index is available. In the next version, calling this method in a model without a supported index will result in an exception.\n",
      "  return get_prediction_index(\n"
     ]
    },
    {
     "name": "stdout",
     "output_type": "stream",
     "text": [
      " ARIMA(1,0,1)(0,0,0)[0] intercept   : AIC=-159.712, Time=0.94 sec\n",
      " ARIMA(0,0,0)(0,0,0)[0] intercept   : AIC=422.481, Time=0.67 sec\n",
      " ARIMA(1,0,0)(0,0,0)[0] intercept   : AIC=-157.901, Time=0.68 sec\n",
      " ARIMA(0,0,1)(0,0,0)[0] intercept   : AIC=187.217, Time=0.85 sec\n",
      " ARIMA(0,0,0)(0,0,0)[0]             : AIC=426.035, Time=0.33 sec\n",
      " ARIMA(2,0,1)(0,0,0)[0] intercept   : AIC=-157.237, Time=1.01 sec\n",
      " ARIMA(1,0,2)(0,0,0)[0] intercept   : AIC=-157.057, Time=1.19 sec\n",
      " ARIMA(0,0,2)(0,0,0)[0] intercept   : AIC=62.944, Time=1.12 sec\n",
      " ARIMA(2,0,0)(0,0,0)[0] intercept   : AIC=-162.255, Time=0.95 sec\n",
      " ARIMA(3,0,0)(0,0,0)[0] intercept   : AIC=-158.606, Time=1.16 sec\n",
      " ARIMA(3,0,1)(0,0,0)[0] intercept   : AIC=-162.074, Time=1.27 sec\n",
      " ARIMA(2,0,0)(0,0,0)[0]             : AIC=-160.422, Time=0.96 sec\n",
      "\n",
      "Best model:  ARIMA(2,0,0)(0,0,0)[0] intercept\n",
      "Total fit time: 11.164 seconds\n",
      "Performing stepwise search to minimize aic\n"
     ]
    },
    {
     "name": "stderr",
     "output_type": "stream",
     "text": [
      "/Library/Frameworks/Python.framework/Versions/3.12/lib/python3.12/site-packages/statsmodels/tsa/base/tsa_model.py:836: ValueWarning: No supported index is available. Prediction results will be given with an integer index beginning at `start`.\n",
      "  return get_prediction_index(\n",
      "/Library/Frameworks/Python.framework/Versions/3.12/lib/python3.12/site-packages/statsmodels/tsa/base/tsa_model.py:836: FutureWarning: No supported index is available. In the next version, calling this method in a model without a supported index will result in an exception.\n",
      "  return get_prediction_index(\n"
     ]
    },
    {
     "name": "stdout",
     "output_type": "stream",
     "text": [
      " ARIMA(1,0,1)(0,0,0)[0] intercept   : AIC=35.021, Time=0.84 sec\n",
      " ARIMA(0,0,0)(0,0,0)[0] intercept   : AIC=316.694, Time=0.54 sec\n",
      " ARIMA(1,0,0)(0,0,0)[0] intercept   : AIC=35.057, Time=0.59 sec\n",
      " ARIMA(0,0,1)(0,0,0)[0] intercept   : AIC=186.368, Time=0.86 sec\n",
      " ARIMA(0,0,0)(0,0,0)[0]             : AIC=429.142, Time=0.24 sec\n",
      " ARIMA(2,0,1)(0,0,0)[0] intercept   : AIC=33.651, Time=0.78 sec\n",
      " ARIMA(2,0,0)(0,0,0)[0] intercept   : AIC=37.293, Time=0.76 sec\n",
      " ARIMA(3,0,1)(0,0,0)[0] intercept   : AIC=38.204, Time=1.11 sec\n",
      " ARIMA(2,0,2)(0,0,0)[0] intercept   : AIC=34.864, Time=0.98 sec\n",
      " ARIMA(1,0,2)(0,0,0)[0] intercept   : AIC=35.318, Time=1.05 sec\n",
      " ARIMA(3,0,0)(0,0,0)[0] intercept   : AIC=38.601, Time=1.16 sec\n",
      " ARIMA(3,0,2)(0,0,0)[0] intercept   : AIC=36.061, Time=1.09 sec\n",
      " ARIMA(2,0,1)(0,0,0)[0]             : AIC=59.893, Time=0.83 sec\n",
      "\n",
      "Best model:  ARIMA(2,0,1)(0,0,0)[0] intercept\n",
      "Total fit time: 10.866 seconds\n",
      "Performing stepwise search to minimize aic\n"
     ]
    },
    {
     "name": "stderr",
     "output_type": "stream",
     "text": [
      "/Library/Frameworks/Python.framework/Versions/3.12/lib/python3.12/site-packages/statsmodels/tsa/base/tsa_model.py:836: ValueWarning: No supported index is available. Prediction results will be given with an integer index beginning at `start`.\n",
      "  return get_prediction_index(\n",
      "/Library/Frameworks/Python.framework/Versions/3.12/lib/python3.12/site-packages/statsmodels/tsa/base/tsa_model.py:836: FutureWarning: No supported index is available. In the next version, calling this method in a model without a supported index will result in an exception.\n",
      "  return get_prediction_index(\n"
     ]
    },
    {
     "name": "stdout",
     "output_type": "stream",
     "text": [
      " ARIMA(1,0,1)(0,0,0)[0] intercept   : AIC=84.734, Time=0.92 sec\n",
      " ARIMA(0,0,0)(0,0,0)[0] intercept   : AIC=689.418, Time=0.60 sec\n",
      " ARIMA(1,0,0)(0,0,0)[0] intercept   : AIC=95.393, Time=0.58 sec\n",
      " ARIMA(0,0,1)(0,0,0)[0] intercept   : AIC=439.391, Time=0.85 sec\n",
      " ARIMA(0,0,0)(0,0,0)[0]             : AIC=750.770, Time=0.26 sec\n",
      " ARIMA(2,0,1)(0,0,0)[0] intercept   : AIC=92.935, Time=0.89 sec\n",
      " ARIMA(1,0,2)(0,0,0)[0] intercept   : AIC=91.486, Time=1.12 sec\n",
      " ARIMA(0,0,2)(0,0,0)[0] intercept   : AIC=342.986, Time=1.04 sec\n",
      " ARIMA(2,0,0)(0,0,0)[0] intercept   : AIC=88.371, Time=0.84 sec\n",
      " ARIMA(2,0,2)(0,0,0)[0] intercept   : AIC=92.545, Time=1.23 sec\n",
      " ARIMA(1,0,1)(0,0,0)[0]             : AIC=99.115, Time=0.83 sec\n",
      "\n",
      "Best model:  ARIMA(1,0,1)(0,0,0)[0] intercept\n",
      "Total fit time: 9.191 seconds\n",
      "Performing stepwise search to minimize aic\n"
     ]
    },
    {
     "name": "stderr",
     "output_type": "stream",
     "text": [
      "/Library/Frameworks/Python.framework/Versions/3.12/lib/python3.12/site-packages/statsmodels/tsa/base/tsa_model.py:836: ValueWarning: No supported index is available. Prediction results will be given with an integer index beginning at `start`.\n",
      "  return get_prediction_index(\n",
      "/Library/Frameworks/Python.framework/Versions/3.12/lib/python3.12/site-packages/statsmodels/tsa/base/tsa_model.py:836: FutureWarning: No supported index is available. In the next version, calling this method in a model without a supported index will result in an exception.\n",
      "  return get_prediction_index(\n"
     ]
    },
    {
     "name": "stdout",
     "output_type": "stream",
     "text": [
      " ARIMA(1,0,1)(0,0,0)[0] intercept   : AIC=8.736, Time=0.95 sec\n",
      " ARIMA(0,0,0)(0,0,0)[0] intercept   : AIC=684.353, Time=0.60 sec\n",
      " ARIMA(1,0,0)(0,0,0)[0] intercept   : AIC=17.354, Time=0.59 sec\n",
      " ARIMA(0,0,1)(0,0,0)[0] intercept   : AIC=422.030, Time=0.82 sec\n",
      " ARIMA(0,0,0)(0,0,0)[0]             : AIC=691.732, Time=0.29 sec\n",
      " ARIMA(2,0,1)(0,0,0)[0] intercept   : AIC=-5.457, Time=0.94 sec\n",
      " ARIMA(2,0,0)(0,0,0)[0] intercept   : AIC=-2.589, Time=0.84 sec\n",
      " ARIMA(3,0,1)(0,0,0)[0] intercept   : AIC=6.996, Time=1.19 sec\n",
      " ARIMA(2,0,2)(0,0,0)[0] intercept   : AIC=55.356, Time=1.14 sec\n",
      " ARIMA(1,0,2)(0,0,0)[0] intercept   : AIC=106.605, Time=1.07 sec\n",
      " ARIMA(3,0,0)(0,0,0)[0] intercept   : AIC=18.734, Time=1.09 sec\n",
      " ARIMA(3,0,2)(0,0,0)[0] intercept   : AIC=58.324, Time=1.23 sec\n",
      " ARIMA(2,0,1)(0,0,0)[0]             : AIC=-66.111, Time=0.95 sec\n",
      " ARIMA(1,0,1)(0,0,0)[0]             : AIC=-30.018, Time=0.87 sec\n",
      " ARIMA(2,0,0)(0,0,0)[0]             : AIC=inf, Time=0.83 sec\n",
      " ARIMA(3,0,1)(0,0,0)[0]             : AIC=-25.655, Time=1.16 sec\n",
      " ARIMA(2,0,2)(0,0,0)[0]             : AIC=-4.862, Time=1.13 sec\n",
      " ARIMA(1,0,0)(0,0,0)[0]             : AIC=inf, Time=0.63 sec\n",
      " ARIMA(1,0,2)(0,0,0)[0]             : AIC=-11.226, Time=1.18 sec\n",
      " ARIMA(3,0,0)(0,0,0)[0]             : AIC=inf, Time=1.11 sec\n",
      " ARIMA(3,0,2)(0,0,0)[0]             : AIC=-22.614, Time=1.15 sec\n",
      "\n",
      "Best model:  ARIMA(2,0,1)(0,0,0)[0]          \n",
      "Total fit time: 19.865 seconds\n",
      "Performing stepwise search to minimize aic\n"
     ]
    },
    {
     "name": "stderr",
     "output_type": "stream",
     "text": [
      "/Library/Frameworks/Python.framework/Versions/3.12/lib/python3.12/site-packages/statsmodels/tsa/base/tsa_model.py:836: ValueWarning: No supported index is available. Prediction results will be given with an integer index beginning at `start`.\n",
      "  return get_prediction_index(\n",
      "/Library/Frameworks/Python.framework/Versions/3.12/lib/python3.12/site-packages/statsmodels/tsa/base/tsa_model.py:836: FutureWarning: No supported index is available. In the next version, calling this method in a model without a supported index will result in an exception.\n",
      "  return get_prediction_index(\n"
     ]
    },
    {
     "name": "stdout",
     "output_type": "stream",
     "text": [
      " ARIMA(1,0,1)(0,0,0)[0] intercept   : AIC=53.906, Time=0.97 sec\n",
      " ARIMA(0,0,0)(0,0,0)[0] intercept   : AIC=957.620, Time=0.67 sec\n",
      " ARIMA(1,0,0)(0,0,0)[0] intercept   : AIC=64.726, Time=0.67 sec\n",
      " ARIMA(0,0,1)(0,0,0)[0] intercept   : AIC=602.827, Time=0.94 sec\n",
      " ARIMA(0,0,0)(0,0,0)[0]             : AIC=965.682, Time=0.26 sec\n",
      " ARIMA(2,0,1)(0,0,0)[0] intercept   : AIC=62.314, Time=0.99 sec\n",
      " ARIMA(1,0,2)(0,0,0)[0] intercept   : AIC=59.062, Time=1.16 sec\n",
      " ARIMA(0,0,2)(0,0,0)[0] intercept   : AIC=394.857, Time=1.21 sec\n",
      " ARIMA(2,0,0)(0,0,0)[0] intercept   : AIC=55.060, Time=0.95 sec\n",
      " ARIMA(2,0,2)(0,0,0)[0] intercept   : AIC=60.860, Time=1.20 sec\n",
      " ARIMA(1,0,1)(0,0,0)[0]             : AIC=69.666, Time=0.88 sec\n",
      "\n",
      "Best model:  ARIMA(1,0,1)(0,0,0)[0] intercept\n",
      "Total fit time: 9.926 seconds\n",
      "Performing stepwise search to minimize aic\n"
     ]
    },
    {
     "name": "stderr",
     "output_type": "stream",
     "text": [
      "/Library/Frameworks/Python.framework/Versions/3.12/lib/python3.12/site-packages/statsmodels/tsa/base/tsa_model.py:836: ValueWarning: No supported index is available. Prediction results will be given with an integer index beginning at `start`.\n",
      "  return get_prediction_index(\n",
      "/Library/Frameworks/Python.framework/Versions/3.12/lib/python3.12/site-packages/statsmodels/tsa/base/tsa_model.py:836: FutureWarning: No supported index is available. In the next version, calling this method in a model without a supported index will result in an exception.\n",
      "  return get_prediction_index(\n"
     ]
    },
    {
     "name": "stdout",
     "output_type": "stream",
     "text": [
      " ARIMA(1,0,1)(0,0,0)[0] intercept   : AIC=70.279, Time=0.82 sec\n",
      " ARIMA(0,0,0)(0,0,0)[0] intercept   : AIC=751.564, Time=0.65 sec\n",
      " ARIMA(1,0,0)(0,0,0)[0] intercept   : AIC=68.329, Time=0.63 sec\n",
      " ARIMA(0,0,1)(0,0,0)[0] intercept   : AIC=497.922, Time=0.89 sec\n",
      " ARIMA(0,0,0)(0,0,0)[0]             : AIC=769.803, Time=0.26 sec\n",
      " ARIMA(2,0,0)(0,0,0)[0] intercept   : AIC=68.502, Time=0.86 sec\n",
      " ARIMA(2,0,1)(0,0,0)[0] intercept   : AIC=66.864, Time=0.96 sec\n",
      " ARIMA(3,0,1)(0,0,0)[0] intercept   : AIC=66.333, Time=1.18 sec\n",
      " ARIMA(3,0,0)(0,0,0)[0] intercept   : AIC=77.155, Time=1.15 sec\n",
      " ARIMA(4,0,1)(0,0,0)[0] intercept   : AIC=70.967, Time=1.47 sec\n",
      " ARIMA(3,0,2)(0,0,0)[0] intercept   : AIC=64.202, Time=1.24 sec\n",
      " ARIMA(2,0,2)(0,0,0)[0] intercept   : AIC=63.981, Time=1.21 sec\n",
      " ARIMA(1,0,2)(0,0,0)[0] intercept   : AIC=81.471, Time=1.16 sec\n",
      " ARIMA(2,0,3)(0,0,0)[0] intercept   : AIC=78.645, Time=1.42 sec\n",
      " ARIMA(1,0,3)(0,0,0)[0] intercept   : AIC=70.114, Time=1.47 sec\n",
      " ARIMA(3,0,3)(0,0,0)[0] intercept   : AIC=77.703, Time=1.61 sec\n",
      " ARIMA(2,0,2)(0,0,0)[0]             : AIC=54.713, Time=1.23 sec\n",
      " ARIMA(1,0,2)(0,0,0)[0]             : AIC=58.212, Time=1.08 sec\n",
      " ARIMA(2,0,1)(0,0,0)[0]             : AIC=47.808, Time=0.87 sec\n",
      " ARIMA(1,0,1)(0,0,0)[0]             : AIC=52.931, Time=0.90 sec\n",
      " ARIMA(2,0,0)(0,0,0)[0]             : AIC=inf, Time=0.82 sec\n",
      " ARIMA(3,0,1)(0,0,0)[0]             : AIC=50.883, Time=1.18 sec\n",
      " ARIMA(1,0,0)(0,0,0)[0]             : AIC=inf, Time=0.65 sec\n",
      " ARIMA(3,0,0)(0,0,0)[0]             : AIC=inf, Time=1.19 sec\n",
      " ARIMA(3,0,2)(0,0,0)[0]             : AIC=69.045, Time=1.13 sec\n",
      "\n",
      "Best model:  ARIMA(2,0,1)(0,0,0)[0]          \n",
      "Total fit time: 26.094 seconds\n",
      "Performing stepwise search to minimize aic\n"
     ]
    },
    {
     "name": "stderr",
     "output_type": "stream",
     "text": [
      "/Library/Frameworks/Python.framework/Versions/3.12/lib/python3.12/site-packages/statsmodels/tsa/base/tsa_model.py:836: ValueWarning: No supported index is available. Prediction results will be given with an integer index beginning at `start`.\n",
      "  return get_prediction_index(\n",
      "/Library/Frameworks/Python.framework/Versions/3.12/lib/python3.12/site-packages/statsmodels/tsa/base/tsa_model.py:836: FutureWarning: No supported index is available. In the next version, calling this method in a model without a supported index will result in an exception.\n",
      "  return get_prediction_index(\n"
     ]
    },
    {
     "name": "stdout",
     "output_type": "stream",
     "text": [
      " ARIMA(1,1,1)(0,0,0)[0] intercept   : AIC=51.364, Time=0.99 sec\n",
      " ARIMA(0,1,0)(0,0,0)[0] intercept   : AIC=47.439, Time=0.16 sec\n",
      " ARIMA(1,1,0)(0,0,0)[0] intercept   : AIC=49.438, Time=0.40 sec\n",
      " ARIMA(0,1,1)(0,0,0)[0] intercept   : AIC=49.438, Time=0.45 sec\n",
      " ARIMA(0,1,0)(0,0,0)[0]             : AIC=45.478, Time=0.29 sec\n",
      "\n",
      "Best model:  ARIMA(0,1,0)(0,0,0)[0]          \n",
      "Total fit time: 2.298 seconds\n",
      "Performing stepwise search to minimize aic\n"
     ]
    },
    {
     "name": "stderr",
     "output_type": "stream",
     "text": [
      "/Library/Frameworks/Python.framework/Versions/3.12/lib/python3.12/site-packages/statsmodels/tsa/base/tsa_model.py:836: ValueWarning: No supported index is available. Prediction results will be given with an integer index beginning at `start`.\n",
      "  return get_prediction_index(\n",
      "/Library/Frameworks/Python.framework/Versions/3.12/lib/python3.12/site-packages/statsmodels/tsa/base/tsa_model.py:836: FutureWarning: No supported index is available. In the next version, calling this method in a model without a supported index will result in an exception.\n",
      "  return get_prediction_index(\n"
     ]
    },
    {
     "name": "stdout",
     "output_type": "stream",
     "text": [
      " ARIMA(1,0,1)(0,0,0)[0] intercept   : AIC=140.022, Time=0.80 sec\n",
      " ARIMA(0,0,0)(0,0,0)[0] intercept   : AIC=748.049, Time=0.67 sec\n",
      " ARIMA(1,0,0)(0,0,0)[0] intercept   : AIC=162.629, Time=0.60 sec\n",
      " ARIMA(0,0,1)(0,0,0)[0] intercept   : AIC=459.649, Time=0.80 sec\n",
      " ARIMA(0,0,0)(0,0,0)[0]             : AIC=890.253, Time=0.26 sec\n",
      " ARIMA(2,0,1)(0,0,0)[0] intercept   : AIC=158.445, Time=0.90 sec\n",
      " ARIMA(1,0,2)(0,0,0)[0] intercept   : AIC=172.839, Time=1.11 sec\n",
      " ARIMA(0,0,2)(0,0,0)[0] intercept   : AIC=337.877, Time=1.10 sec\n",
      " ARIMA(2,0,0)(0,0,0)[0] intercept   : AIC=163.021, Time=0.85 sec\n",
      " ARIMA(2,0,2)(0,0,0)[0] intercept   : AIC=156.679, Time=1.18 sec\n",
      " ARIMA(1,0,1)(0,0,0)[0]             : AIC=129.709, Time=0.83 sec\n",
      " ARIMA(0,0,1)(0,0,0)[0]             : AIC=629.080, Time=0.78 sec\n",
      " ARIMA(1,0,0)(0,0,0)[0]             : AIC=inf, Time=0.66 sec\n",
      " ARIMA(2,0,1)(0,0,0)[0]             : AIC=127.820, Time=0.86 sec\n",
      " ARIMA(2,0,0)(0,0,0)[0]             : AIC=inf, Time=0.79 sec\n",
      " ARIMA(3,0,1)(0,0,0)[0]             : AIC=121.954, Time=1.13 sec\n",
      " ARIMA(3,0,0)(0,0,0)[0]             : AIC=inf, Time=1.07 sec\n",
      " ARIMA(4,0,1)(0,0,0)[0]             : AIC=137.422, Time=1.57 sec\n",
      " ARIMA(3,0,2)(0,0,0)[0]             : AIC=137.619, Time=1.25 sec\n",
      " ARIMA(2,0,2)(0,0,0)[0]             : AIC=123.252, Time=1.13 sec\n",
      " ARIMA(4,0,0)(0,0,0)[0]             : AIC=inf, Time=1.64 sec\n",
      " ARIMA(4,0,2)(0,0,0)[0]             : AIC=142.571, Time=1.62 sec\n",
      " ARIMA(3,0,1)(0,0,0)[0] intercept   : AIC=148.925, Time=1.27 sec\n",
      "\n",
      "Best model:  ARIMA(3,0,1)(0,0,0)[0]          \n",
      "Total fit time: 22.923 seconds\n",
      "Performing stepwise search to minimize aic\n"
     ]
    },
    {
     "name": "stderr",
     "output_type": "stream",
     "text": [
      "/Library/Frameworks/Python.framework/Versions/3.12/lib/python3.12/site-packages/statsmodels/tsa/base/tsa_model.py:836: ValueWarning: No supported index is available. Prediction results will be given with an integer index beginning at `start`.\n",
      "  return get_prediction_index(\n",
      "/Library/Frameworks/Python.framework/Versions/3.12/lib/python3.12/site-packages/statsmodels/tsa/base/tsa_model.py:836: FutureWarning: No supported index is available. In the next version, calling this method in a model without a supported index will result in an exception.\n",
      "  return get_prediction_index(\n"
     ]
    },
    {
     "name": "stdout",
     "output_type": "stream",
     "text": [
      " ARIMA(1,1,1)(0,0,0)[0] intercept   : AIC=-232.657, Time=0.95 sec\n",
      " ARIMA(0,1,0)(0,0,0)[0] intercept   : AIC=-236.554, Time=0.14 sec\n",
      " ARIMA(1,1,0)(0,0,0)[0] intercept   : AIC=-234.652, Time=0.71 sec\n",
      " ARIMA(0,1,1)(0,0,0)[0] intercept   : AIC=-234.656, Time=0.81 sec\n",
      " ARIMA(0,1,0)(0,0,0)[0]             : AIC=-238.541, Time=0.30 sec\n",
      "\n",
      "Best model:  ARIMA(0,1,0)(0,0,0)[0]          \n",
      "Total fit time: 2.931 seconds\n",
      "Performing stepwise search to minimize aic\n"
     ]
    },
    {
     "name": "stderr",
     "output_type": "stream",
     "text": [
      "/Library/Frameworks/Python.framework/Versions/3.12/lib/python3.12/site-packages/statsmodels/tsa/base/tsa_model.py:836: ValueWarning: No supported index is available. Prediction results will be given with an integer index beginning at `start`.\n",
      "  return get_prediction_index(\n",
      "/Library/Frameworks/Python.framework/Versions/3.12/lib/python3.12/site-packages/statsmodels/tsa/base/tsa_model.py:836: FutureWarning: No supported index is available. In the next version, calling this method in a model without a supported index will result in an exception.\n",
      "  return get_prediction_index(\n"
     ]
    },
    {
     "name": "stdout",
     "output_type": "stream",
     "text": [
      " ARIMA(1,0,1)(0,0,0)[0] intercept   : AIC=3.593, Time=0.85 sec\n",
      " ARIMA(0,0,0)(0,0,0)[0] intercept   : AIC=531.508, Time=0.63 sec\n",
      " ARIMA(1,0,0)(0,0,0)[0] intercept   : AIC=9.797, Time=0.64 sec\n",
      " ARIMA(0,0,1)(0,0,0)[0] intercept   : AIC=279.287, Time=0.92 sec\n",
      " ARIMA(0,0,0)(0,0,0)[0]             : AIC=530.393, Time=0.26 sec\n",
      " ARIMA(2,0,1)(0,0,0)[0] intercept   : AIC=0.372, Time=0.95 sec\n",
      " ARIMA(2,0,0)(0,0,0)[0] intercept   : AIC=1.920, Time=0.85 sec\n",
      " ARIMA(3,0,1)(0,0,0)[0] intercept   : AIC=9.319, Time=1.56 sec\n",
      " ARIMA(2,0,2)(0,0,0)[0] intercept   : AIC=8.172, Time=1.36 sec\n",
      " ARIMA(1,0,2)(0,0,0)[0] intercept   : AIC=4.751, Time=1.18 sec\n",
      " ARIMA(3,0,0)(0,0,0)[0] intercept   : AIC=-2.215, Time=1.11 sec\n",
      " ARIMA(4,0,0)(0,0,0)[0] intercept   : AIC=2.994, Time=1.50 sec\n",
      " ARIMA(4,0,1)(0,0,0)[0] intercept   : AIC=3.955, Time=2.12 sec\n",
      " ARIMA(3,0,0)(0,0,0)[0]             : AIC=21.845, Time=1.19 sec\n",
      "\n",
      "Best model:  ARIMA(3,0,0)(0,0,0)[0] intercept\n",
      "Total fit time: 15.160 seconds\n"
     ]
    },
    {
     "name": "stderr",
     "output_type": "stream",
     "text": [
      "/Library/Frameworks/Python.framework/Versions/3.12/lib/python3.12/site-packages/statsmodels/tsa/base/tsa_model.py:836: ValueWarning: No supported index is available. Prediction results will be given with an integer index beginning at `start`.\n",
      "  return get_prediction_index(\n",
      "/Library/Frameworks/Python.framework/Versions/3.12/lib/python3.12/site-packages/statsmodels/tsa/base/tsa_model.py:836: FutureWarning: No supported index is available. In the next version, calling this method in a model without a supported index will result in an exception.\n",
      "  return get_prediction_index(\n"
     ]
    }
   ],
   "source": [
    "# loop through each subject, create an optimized model, and capture the predictions and AIC\n",
    "for i in range(1, len(y_all_data[\"Subject\"].unique())+1):\n",
    "    # get all entries for given subject\n",
    "    y_all_data_i = y_all_data[y_all_data[\"Subject\"] == i]\n",
    "    x_all_data_i = x_all_data[x_all_data[\"Subject\"] == i]\n",
    "    # last 25 observations as forecasting, rest is training\n",
    "    y_i_train = y_all_data_i[:(np.shape(y_all_data_i)[0]-25)]\n",
    "    y_i_test = y_all_data_i[(np.shape(y_all_data_i)[0]-25):]\n",
    "    x_i_train = x_all_data_i[:(np.shape(x_all_data_i)[0]-25)]\n",
    "    x_i_test = x_all_data_i[(np.shape(x_all_data_i)[0]-25):]\n",
    "    # record original state\n",
    "    testing[str(i)] = y_i_test[0].values\n",
    "    # testing arimax on all features, only on current subject\n",
    "    arima_model = arimamodel(y_i_train[0], x_i_train.loc[:, x_i_train.columns != \"Subject\"])\n",
    "    # record predicted state\n",
    "    pred_i = arima_model.predict(len(y_i_test), x_i_test.loc[:, x_i_test.columns != \"Subject\"])\n",
    "    pred_i = pred_i.reset_index(drop=True)\n",
    "    predictions[str(i)] = pred_i\n",
    "    # record AIC\n",
    "    aic.at[i,\"aic\"] = arima_model.aic()"
   ]
  },
  {
   "cell_type": "markdown",
   "id": "c2903fde-c7a1-4bd2-bfd4-3010d2b6b036",
   "metadata": {},
   "source": [
    "### Results: Visualizations"
   ]
  },
  {
   "cell_type": "code",
   "execution_count": 12,
   "id": "9d2e6784-36ac-464b-8b95-9c997474c605",
   "metadata": {},
   "outputs": [
    {
     "data": {
      "text/plain": [
       "<matplotlib.legend.Legend at 0x169dbf230>"
      ]
     },
     "execution_count": 12,
     "metadata": {},
     "output_type": "execute_result"
    },
    {
     "data": {
      "image/png": "[encoded data removed]",
      "text/plain": [
       "<Figure size 640x480 with 1 Axes>"
      ]
     },
     "metadata": {},
     "output_type": "display_data"
    }
   ],
   "source": [
    "# view plot of an individual subject's results\n",
    "s = 1\n",
    "plt.plot(testing.index, testing[str(s)].astype('int'), label=\"true states\")\n",
    "plt.plot(testing.index, predictions[str(s)], label=\"predicted values\")\n",
    "plt.plot(testing.index, round(predictions[str(s)]).astype('int'), label=\"predicted states\")\n",
    "plt.legend()"
   ]
  },
  {
   "cell_type": "code",
   "execution_count": 13,
   "id": "f5167a56-e81a-45f3-84ab-89eddd9066d4",
   "metadata": {},
   "outputs": [
    {
     "data": {
      "text/plain": [
       "<Figure size 640x480 with 0 Axes>"
      ]
     },
     "metadata": {},
     "output_type": "display_data"
    }
   ],
   "source": [
    "plt.savefig(\"arima_25_\" +str(s)+\".pdf\", format=\"pdf\", bbox_inches=\"tight\")"
   ]
  },
  {
   "cell_type": "code",
   "execution_count": 14,
   "id": "d62cafd4-095f-4b56-889f-ec4f93ff28ce",
   "metadata": {},
   "outputs": [
    {
     "data": {
      "image/png": "[encoded data removed]",
      "text/plain": [
       "<Figure size 640x480 with 30 Axes>"
      ]
     },
     "metadata": {},
     "output_type": "display_data"
    }
   ],
   "source": [
    "# view plots of results for all subjects\n",
    "fig, axs = plt.subplots(6, 5, sharex=True, sharey=True)\n",
    "\n",
    "# initialize subject 1\n",
    "subject = 1\n",
    "# plot each set of results\n",
    "for row in range(0,6):\n",
    "    for col in range(0,5):\n",
    "        axs[row, col].plot(testing.index, testing[str(subject)].astype('int'), label=\"true states\")\n",
    "        axs[row, col].plot(testing.index, predictions[str(subject)], label=\"predicted values\")\n",
    "        axs[row, col].plot(testing.index, round(predictions[str(subject)]).astype('int'), label=\"predicted states\")\n",
    "        subject = subject + 1\n",
    "\n",
    "# hide x labels and tick labels for top plots and y ticks for right plots.\n",
    "for ax in axs.flat:\n",
    "    ax.label_outer()"
   ]
  },
  {
   "cell_type": "code",
   "execution_count": 15,
   "id": "a44041ae-568d-4b6e-a9f8-3cfee4f953bf",
   "metadata": {},
   "outputs": [],
   "source": [
    "fig.savefig(\"arima_25.pdf\", format=\"pdf\", bbox_inches=\"tight\")"
   ]
  },
  {
   "cell_type": "markdown",
   "id": "9b0c912f-8e5a-466a-9c08-c11607f30a45",
   "metadata": {},
   "source": [
    "### Results: Accuracy"
   ]
  },
  {
   "cell_type": "code",
   "execution_count": 16,
   "id": "b471cf8d-d00f-4f06-800c-23465e0b17fd",
   "metadata": {
    "tags": []
   },
   "outputs": [
    {
     "name": "stderr",
     "output_type": "stream",
     "text": [
      "<>:9: SyntaxWarning: invalid escape sequence '\\d'\n",
      "<>:9: SyntaxWarning: invalid escape sequence '\\d'\n",
      "/var/folders/6g/lht9tm8x1bz3sdrs0xk_d2m00000gn/T/ipykernel_29457/707666640.py:9: SyntaxWarning: invalid escape sequence '\\d'\n",
      "  acc_i = float(re.findall(\"accuracy.*[01].\\d\\d\",rep_i)[0][-4:])\n",
      "/Library/Frameworks/Python.framework/Versions/3.12/lib/python3.12/site-packages/sklearn/metrics/_classification.py:1469: UndefinedMetricWarning: Precision and F-score are ill-defined and being set to 0.0 in labels with no predicted samples. Use `zero_division` parameter to control this behavior.\n",
      "  _warn_prf(average, modifier, msg_start, len(result))\n",
      "/Library/Frameworks/Python.framework/Versions/3.12/lib/python3.12/site-packages/sklearn/metrics/_classification.py:1469: UndefinedMetricWarning: Recall and F-score are ill-defined and being set to 0.0 in labels with no true samples. Use `zero_division` parameter to control this behavior.\n",
      "  _warn_prf(average, modifier, msg_start, len(result))\n",
      "/Library/Frameworks/Python.framework/Versions/3.12/lib/python3.12/site-packages/sklearn/metrics/_classification.py:1469: UndefinedMetricWarning: Precision and F-score are ill-defined and being set to 0.0 in labels with no predicted samples. Use `zero_division` parameter to control this behavior.\n",
      "  _warn_prf(average, modifier, msg_start, len(result))\n",
      "/Library/Frameworks/Python.framework/Versions/3.12/lib/python3.12/site-packages/sklearn/metrics/_classification.py:1469: UndefinedMetricWarning: Recall and F-score are ill-defined and being set to 0.0 in labels with no true samples. Use `zero_division` parameter to control this behavior.\n",
      "  _warn_prf(average, modifier, msg_start, len(result))\n",
      "/Library/Frameworks/Python.framework/Versions/3.12/lib/python3.12/site-packages/sklearn/metrics/_classification.py:1469: UndefinedMetricWarning: Precision and F-score are ill-defined and being set to 0.0 in labels with no predicted samples. Use `zero_division` parameter to control this behavior.\n",
      "  _warn_prf(average, modifier, msg_start, len(result))\n",
      "/Library/Frameworks/Python.framework/Versions/3.12/lib/python3.12/site-packages/sklearn/metrics/_classification.py:1469: UndefinedMetricWarning: Recall and F-score are ill-defined and being set to 0.0 in labels with no true samples. Use `zero_division` parameter to control this behavior.\n",
      "  _warn_prf(average, modifier, msg_start, len(result))\n",
      "/Library/Frameworks/Python.framework/Versions/3.12/lib/python3.12/site-packages/sklearn/metrics/_classification.py:1469: UndefinedMetricWarning: Precision and F-score are ill-defined and being set to 0.0 in labels with no predicted samples. Use `zero_division` parameter to control this behavior.\n",
      "  _warn_prf(average, modifier, msg_start, len(result))\n",
      "/Library/Frameworks/Python.framework/Versions/3.12/lib/python3.12/site-packages/sklearn/metrics/_classification.py:1469: UndefinedMetricWarning: Precision and F-score are ill-defined and being set to 0.0 in labels with no predicted samples. Use `zero_division` parameter to control this behavior.\n",
      "  _warn_prf(average, modifier, msg_start, len(result))\n",
      "/Library/Frameworks/Python.framework/Versions/3.12/lib/python3.12/site-packages/sklearn/metrics/_classification.py:1469: UndefinedMetricWarning: Precision and F-score are ill-defined and being set to 0.0 in labels with no predicted samples. Use `zero_division` parameter to control this behavior.\n",
      "  _warn_prf(average, modifier, msg_start, len(result))\n",
      "/Library/Frameworks/Python.framework/Versions/3.12/lib/python3.12/site-packages/sklearn/metrics/_classification.py:1469: UndefinedMetricWarning: Precision and F-score are ill-defined and being set to 0.0 in labels with no predicted samples. Use `zero_division` parameter to control this behavior.\n",
      "  _warn_prf(average, modifier, msg_start, len(result))\n",
      "/Library/Frameworks/Python.framework/Versions/3.12/lib/python3.12/site-packages/sklearn/metrics/_classification.py:1469: UndefinedMetricWarning: Recall and F-score are ill-defined and being set to 0.0 in labels with no true samples. Use `zero_division` parameter to control this behavior.\n",
      "  _warn_prf(average, modifier, msg_start, len(result))\n",
      "/Library/Frameworks/Python.framework/Versions/3.12/lib/python3.12/site-packages/sklearn/metrics/_classification.py:1469: UndefinedMetricWarning: Precision and F-score are ill-defined and being set to 0.0 in labels with no predicted samples. Use `zero_division` parameter to control this behavior.\n",
      "  _warn_prf(average, modifier, msg_start, len(result))\n",
      "/Library/Frameworks/Python.framework/Versions/3.12/lib/python3.12/site-packages/sklearn/metrics/_classification.py:1469: UndefinedMetricWarning: Recall and F-score are ill-defined and being set to 0.0 in labels with no true samples. Use `zero_division` parameter to control this behavior.\n",
      "  _warn_prf(average, modifier, msg_start, len(result))\n",
      "/Library/Frameworks/Python.framework/Versions/3.12/lib/python3.12/site-packages/sklearn/metrics/_classification.py:1469: UndefinedMetricWarning: Precision and F-score are ill-defined and being set to 0.0 in labels with no predicted samples. Use `zero_division` parameter to control this behavior.\n",
      "  _warn_prf(average, modifier, msg_start, len(result))\n",
      "/Library/Frameworks/Python.framework/Versions/3.12/lib/python3.12/site-packages/sklearn/metrics/_classification.py:1469: UndefinedMetricWarning: Recall and F-score are ill-defined and being set to 0.0 in labels with no true samples. Use `zero_division` parameter to control this behavior.\n",
      "  _warn_prf(average, modifier, msg_start, len(result))\n",
      "/Library/Frameworks/Python.framework/Versions/3.12/lib/python3.12/site-packages/sklearn/metrics/_classification.py:1469: UndefinedMetricWarning: Precision and F-score are ill-defined and being set to 0.0 in labels with no predicted samples. Use `zero_division` parameter to control this behavior.\n",
      "  _warn_prf(average, modifier, msg_start, len(result))\n",
      "/Library/Frameworks/Python.framework/Versions/3.12/lib/python3.12/site-packages/sklearn/metrics/_classification.py:1469: UndefinedMetricWarning: Recall and F-score are ill-defined and being set to 0.0 in labels with no true samples. Use `zero_division` parameter to control this behavior.\n",
      "  _warn_prf(average, modifier, msg_start, len(result))\n",
      "/Library/Frameworks/Python.framework/Versions/3.12/lib/python3.12/site-packages/sklearn/metrics/_classification.py:1469: UndefinedMetricWarning: Precision and F-score are ill-defined and being set to 0.0 in labels with no predicted samples. Use `zero_division` parameter to control this behavior.\n",
      "  _warn_prf(average, modifier, msg_start, len(result))\n",
      "/Library/Frameworks/Python.framework/Versions/3.12/lib/python3.12/site-packages/sklearn/metrics/_classification.py:1469: UndefinedMetricWarning: Recall and F-score are ill-defined and being set to 0.0 in labels with no true samples. Use `zero_division` parameter to control this behavior.\n",
      "  _warn_prf(average, modifier, msg_start, len(result))\n",
      "/Library/Frameworks/Python.framework/Versions/3.12/lib/python3.12/site-packages/sklearn/metrics/_classification.py:1469: UndefinedMetricWarning: Precision and F-score are ill-defined and being set to 0.0 in labels with no predicted samples. Use `zero_division` parameter to control this behavior.\n",
      "  _warn_prf(average, modifier, msg_start, len(result))\n",
      "/Library/Frameworks/Python.framework/Versions/3.12/lib/python3.12/site-packages/sklearn/metrics/_classification.py:1469: UndefinedMetricWarning: Recall and F-score are ill-defined and being set to 0.0 in labels with no true samples. Use `zero_division` parameter to control this behavior.\n",
      "  _warn_prf(average, modifier, msg_start, len(result))\n",
      "/Library/Frameworks/Python.framework/Versions/3.12/lib/python3.12/site-packages/sklearn/metrics/_classification.py:1469: UndefinedMetricWarning: Precision and F-score are ill-defined and being set to 0.0 in labels with no predicted samples. Use `zero_division` parameter to control this behavior.\n",
      "  _warn_prf(average, modifier, msg_start, len(result))\n",
      "/Library/Frameworks/Python.framework/Versions/3.12/lib/python3.12/site-packages/sklearn/metrics/_classification.py:1469: UndefinedMetricWarning: Precision and F-score are ill-defined and being set to 0.0 in labels with no predicted samples. Use `zero_division` parameter to control this behavior.\n",
      "  _warn_prf(average, modifier, msg_start, len(result))\n",
      "/Library/Frameworks/Python.framework/Versions/3.12/lib/python3.12/site-packages/sklearn/metrics/_classification.py:1469: UndefinedMetricWarning: Precision and F-score are ill-defined and being set to 0.0 in labels with no predicted samples. Use `zero_division` parameter to control this behavior.\n",
      "  _warn_prf(average, modifier, msg_start, len(result))\n",
      "/Library/Frameworks/Python.framework/Versions/3.12/lib/python3.12/site-packages/sklearn/metrics/_classification.py:1469: UndefinedMetricWarning: Precision and F-score are ill-defined and being set to 0.0 in labels with no predicted samples. Use `zero_division` parameter to control this behavior.\n",
      "  _warn_prf(average, modifier, msg_start, len(result))\n",
      "/Library/Frameworks/Python.framework/Versions/3.12/lib/python3.12/site-packages/sklearn/metrics/_classification.py:1469: UndefinedMetricWarning: Recall and F-score are ill-defined and being set to 0.0 in labels with no true samples. Use `zero_division` parameter to control this behavior.\n",
      "  _warn_prf(average, modifier, msg_start, len(result))\n",
      "/Library/Frameworks/Python.framework/Versions/3.12/lib/python3.12/site-packages/sklearn/metrics/_classification.py:1469: UndefinedMetricWarning: Precision and F-score are ill-defined and being set to 0.0 in labels with no predicted samples. Use `zero_division` parameter to control this behavior.\n",
      "  _warn_prf(average, modifier, msg_start, len(result))\n",
      "/Library/Frameworks/Python.framework/Versions/3.12/lib/python3.12/site-packages/sklearn/metrics/_classification.py:1469: UndefinedMetricWarning: Recall and F-score are ill-defined and being set to 0.0 in labels with no true samples. Use `zero_division` parameter to control this behavior.\n",
      "  _warn_prf(average, modifier, msg_start, len(result))\n",
      "/Library/Frameworks/Python.framework/Versions/3.12/lib/python3.12/site-packages/sklearn/metrics/_classification.py:1469: UndefinedMetricWarning: Precision and F-score are ill-defined and being set to 0.0 in labels with no predicted samples. Use `zero_division` parameter to control this behavior.\n",
      "  _warn_prf(average, modifier, msg_start, len(result))\n",
      "/Library/Frameworks/Python.framework/Versions/3.12/lib/python3.12/site-packages/sklearn/metrics/_classification.py:1469: UndefinedMetricWarning: Recall and F-score are ill-defined and being set to 0.0 in labels with no true samples. Use `zero_division` parameter to control this behavior.\n",
      "  _warn_prf(average, modifier, msg_start, len(result))\n",
      "/Library/Frameworks/Python.framework/Versions/3.12/lib/python3.12/site-packages/sklearn/metrics/_classification.py:1469: UndefinedMetricWarning: Recall and F-score are ill-defined and being set to 0.0 in labels with no true samples. Use `zero_division` parameter to control this behavior.\n",
      "  _warn_prf(average, modifier, msg_start, len(result))\n",
      "/Library/Frameworks/Python.framework/Versions/3.12/lib/python3.12/site-packages/sklearn/metrics/_classification.py:1469: UndefinedMetricWarning: Recall and F-score are ill-defined and being set to 0.0 in labels with no true samples. Use `zero_division` parameter to control this behavior.\n",
      "  _warn_prf(average, modifier, msg_start, len(result))\n",
      "/Library/Frameworks/Python.framework/Versions/3.12/lib/python3.12/site-packages/sklearn/metrics/_classification.py:1469: UndefinedMetricWarning: Recall and F-score are ill-defined and being set to 0.0 in labels with no true samples. Use `zero_division` parameter to control this behavior.\n",
      "  _warn_prf(average, modifier, msg_start, len(result))\n",
      "/Library/Frameworks/Python.framework/Versions/3.12/lib/python3.12/site-packages/sklearn/metrics/_classification.py:1469: UndefinedMetricWarning: Precision and F-score are ill-defined and being set to 0.0 in labels with no predicted samples. Use `zero_division` parameter to control this behavior.\n",
      "  _warn_prf(average, modifier, msg_start, len(result))\n",
      "/Library/Frameworks/Python.framework/Versions/3.12/lib/python3.12/site-packages/sklearn/metrics/_classification.py:1469: UndefinedMetricWarning: Recall and F-score are ill-defined and being set to 0.0 in labels with no true samples. Use `zero_division` parameter to control this behavior.\n",
      "  _warn_prf(average, modifier, msg_start, len(result))\n",
      "/Library/Frameworks/Python.framework/Versions/3.12/lib/python3.12/site-packages/sklearn/metrics/_classification.py:1469: UndefinedMetricWarning: Precision and F-score are ill-defined and being set to 0.0 in labels with no predicted samples. Use `zero_division` parameter to control this behavior.\n",
      "  _warn_prf(average, modifier, msg_start, len(result))\n",
      "/Library/Frameworks/Python.framework/Versions/3.12/lib/python3.12/site-packages/sklearn/metrics/_classification.py:1469: UndefinedMetricWarning: Recall and F-score are ill-defined and being set to 0.0 in labels with no true samples. Use `zero_division` parameter to control this behavior.\n",
      "  _warn_prf(average, modifier, msg_start, len(result))\n",
      "/Library/Frameworks/Python.framework/Versions/3.12/lib/python3.12/site-packages/sklearn/metrics/_classification.py:1469: UndefinedMetricWarning: Precision and F-score are ill-defined and being set to 0.0 in labels with no predicted samples. Use `zero_division` parameter to control this behavior.\n",
      "  _warn_prf(average, modifier, msg_start, len(result))\n",
      "/Library/Frameworks/Python.framework/Versions/3.12/lib/python3.12/site-packages/sklearn/metrics/_classification.py:1469: UndefinedMetricWarning: Recall and F-score are ill-defined and being set to 0.0 in labels with no true samples. Use `zero_division` parameter to control this behavior.\n",
      "  _warn_prf(average, modifier, msg_start, len(result))\n",
      "/Library/Frameworks/Python.framework/Versions/3.12/lib/python3.12/site-packages/sklearn/metrics/_classification.py:1469: UndefinedMetricWarning: Recall and F-score are ill-defined and being set to 0.0 in labels with no true samples. Use `zero_division` parameter to control this behavior.\n",
      "  _warn_prf(average, modifier, msg_start, len(result))\n",
      "/Library/Frameworks/Python.framework/Versions/3.12/lib/python3.12/site-packages/sklearn/metrics/_classification.py:1469: UndefinedMetricWarning: Recall and F-score are ill-defined and being set to 0.0 in labels with no true samples. Use `zero_division` parameter to control this behavior.\n",
      "  _warn_prf(average, modifier, msg_start, len(result))\n",
      "/Library/Frameworks/Python.framework/Versions/3.12/lib/python3.12/site-packages/sklearn/metrics/_classification.py:1469: UndefinedMetricWarning: Recall and F-score are ill-defined and being set to 0.0 in labels with no true samples. Use `zero_division` parameter to control this behavior.\n",
      "  _warn_prf(average, modifier, msg_start, len(result))\n",
      "/Library/Frameworks/Python.framework/Versions/3.12/lib/python3.12/site-packages/sklearn/metrics/_classification.py:1469: UndefinedMetricWarning: Precision and F-score are ill-defined and being set to 0.0 in labels with no predicted samples. Use `zero_division` parameter to control this behavior.\n",
      "  _warn_prf(average, modifier, msg_start, len(result))\n",
      "/Library/Frameworks/Python.framework/Versions/3.12/lib/python3.12/site-packages/sklearn/metrics/_classification.py:1469: UndefinedMetricWarning: Recall and F-score are ill-defined and being set to 0.0 in labels with no true samples. Use `zero_division` parameter to control this behavior.\n",
      "  _warn_prf(average, modifier, msg_start, len(result))\n",
      "/Library/Frameworks/Python.framework/Versions/3.12/lib/python3.12/site-packages/sklearn/metrics/_classification.py:1469: UndefinedMetricWarning: Precision and F-score are ill-defined and being set to 0.0 in labels with no predicted samples. Use `zero_division` parameter to control this behavior.\n",
      "  _warn_prf(average, modifier, msg_start, len(result))\n",
      "/Library/Frameworks/Python.framework/Versions/3.12/lib/python3.12/site-packages/sklearn/metrics/_classification.py:1469: UndefinedMetricWarning: Recall and F-score are ill-defined and being set to 0.0 in labels with no true samples. Use `zero_division` parameter to control this behavior.\n",
      "  _warn_prf(average, modifier, msg_start, len(result))\n",
      "/Library/Frameworks/Python.framework/Versions/3.12/lib/python3.12/site-packages/sklearn/metrics/_classification.py:1469: UndefinedMetricWarning: Precision and F-score are ill-defined and being set to 0.0 in labels with no predicted samples. Use `zero_division` parameter to control this behavior.\n",
      "  _warn_prf(average, modifier, msg_start, len(result))\n",
      "/Library/Frameworks/Python.framework/Versions/3.12/lib/python3.12/site-packages/sklearn/metrics/_classification.py:1469: UndefinedMetricWarning: Recall and F-score are ill-defined and being set to 0.0 in labels with no true samples. Use `zero_division` parameter to control this behavior.\n",
      "  _warn_prf(average, modifier, msg_start, len(result))\n",
      "/Library/Frameworks/Python.framework/Versions/3.12/lib/python3.12/site-packages/sklearn/metrics/_classification.py:1469: UndefinedMetricWarning: Precision and F-score are ill-defined and being set to 0.0 in labels with no predicted samples. Use `zero_division` parameter to control this behavior.\n",
      "  _warn_prf(average, modifier, msg_start, len(result))\n",
      "/Library/Frameworks/Python.framework/Versions/3.12/lib/python3.12/site-packages/sklearn/metrics/_classification.py:1469: UndefinedMetricWarning: Recall and F-score are ill-defined and being set to 0.0 in labels with no true samples. Use `zero_division` parameter to control this behavior.\n",
      "  _warn_prf(average, modifier, msg_start, len(result))\n",
      "/Library/Frameworks/Python.framework/Versions/3.12/lib/python3.12/site-packages/sklearn/metrics/_classification.py:1469: UndefinedMetricWarning: Precision and F-score are ill-defined and being set to 0.0 in labels with no predicted samples. Use `zero_division` parameter to control this behavior.\n",
      "  _warn_prf(average, modifier, msg_start, len(result))\n",
      "/Library/Frameworks/Python.framework/Versions/3.12/lib/python3.12/site-packages/sklearn/metrics/_classification.py:1469: UndefinedMetricWarning: Recall and F-score are ill-defined and being set to 0.0 in labels with no true samples. Use `zero_division` parameter to control this behavior.\n",
      "  _warn_prf(average, modifier, msg_start, len(result))\n",
      "/Library/Frameworks/Python.framework/Versions/3.12/lib/python3.12/site-packages/sklearn/metrics/_classification.py:1469: UndefinedMetricWarning: Precision and F-score are ill-defined and being set to 0.0 in labels with no predicted samples. Use `zero_division` parameter to control this behavior.\n",
      "  _warn_prf(average, modifier, msg_start, len(result))\n",
      "/Library/Frameworks/Python.framework/Versions/3.12/lib/python3.12/site-packages/sklearn/metrics/_classification.py:1469: UndefinedMetricWarning: Recall and F-score are ill-defined and being set to 0.0 in labels with no true samples. Use `zero_division` parameter to control this behavior.\n",
      "  _warn_prf(average, modifier, msg_start, len(result))\n",
      "/Library/Frameworks/Python.framework/Versions/3.12/lib/python3.12/site-packages/sklearn/metrics/_classification.py:1469: UndefinedMetricWarning: Precision and F-score are ill-defined and being set to 0.0 in labels with no predicted samples. Use `zero_division` parameter to control this behavior.\n",
      "  _warn_prf(average, modifier, msg_start, len(result))\n",
      "/Library/Frameworks/Python.framework/Versions/3.12/lib/python3.12/site-packages/sklearn/metrics/_classification.py:1469: UndefinedMetricWarning: Recall and F-score are ill-defined and being set to 0.0 in labels with no true samples. Use `zero_division` parameter to control this behavior.\n",
      "  _warn_prf(average, modifier, msg_start, len(result))\n",
      "/Library/Frameworks/Python.framework/Versions/3.12/lib/python3.12/site-packages/sklearn/metrics/_classification.py:1469: UndefinedMetricWarning: Precision and F-score are ill-defined and being set to 0.0 in labels with no predicted samples. Use `zero_division` parameter to control this behavior.\n",
      "  _warn_prf(average, modifier, msg_start, len(result))\n",
      "/Library/Frameworks/Python.framework/Versions/3.12/lib/python3.12/site-packages/sklearn/metrics/_classification.py:1469: UndefinedMetricWarning: Recall and F-score are ill-defined and being set to 0.0 in labels with no true samples. Use `zero_division` parameter to control this behavior.\n",
      "  _warn_prf(average, modifier, msg_start, len(result))\n",
      "/Library/Frameworks/Python.framework/Versions/3.12/lib/python3.12/site-packages/sklearn/metrics/_classification.py:1469: UndefinedMetricWarning: Precision and F-score are ill-defined and being set to 0.0 in labels with no predicted samples. Use `zero_division` parameter to control this behavior.\n",
      "  _warn_prf(average, modifier, msg_start, len(result))\n",
      "/Library/Frameworks/Python.framework/Versions/3.12/lib/python3.12/site-packages/sklearn/metrics/_classification.py:1469: UndefinedMetricWarning: Recall and F-score are ill-defined and being set to 0.0 in labels with no true samples. Use `zero_division` parameter to control this behavior.\n",
      "  _warn_prf(average, modifier, msg_start, len(result))\n",
      "/Library/Frameworks/Python.framework/Versions/3.12/lib/python3.12/site-packages/sklearn/metrics/_classification.py:1469: UndefinedMetricWarning: Recall and F-score are ill-defined and being set to 0.0 in labels with no true samples. Use `zero_division` parameter to control this behavior.\n",
      "  _warn_prf(average, modifier, msg_start, len(result))\n",
      "/Library/Frameworks/Python.framework/Versions/3.12/lib/python3.12/site-packages/sklearn/metrics/_classification.py:1469: UndefinedMetricWarning: Recall and F-score are ill-defined and being set to 0.0 in labels with no true samples. Use `zero_division` parameter to control this behavior.\n",
      "  _warn_prf(average, modifier, msg_start, len(result))\n",
      "/Library/Frameworks/Python.framework/Versions/3.12/lib/python3.12/site-packages/sklearn/metrics/_classification.py:1469: UndefinedMetricWarning: Recall and F-score are ill-defined and being set to 0.0 in labels with no true samples. Use `zero_division` parameter to control this behavior.\n",
      "  _warn_prf(average, modifier, msg_start, len(result))\n",
      "/Library/Frameworks/Python.framework/Versions/3.12/lib/python3.12/site-packages/sklearn/metrics/_classification.py:1469: UndefinedMetricWarning: Recall and F-score are ill-defined and being set to 0.0 in labels with no true samples. Use `zero_division` parameter to control this behavior.\n",
      "  _warn_prf(average, modifier, msg_start, len(result))\n",
      "/Library/Frameworks/Python.framework/Versions/3.12/lib/python3.12/site-packages/sklearn/metrics/_classification.py:1469: UndefinedMetricWarning: Recall and F-score are ill-defined and being set to 0.0 in labels with no true samples. Use `zero_division` parameter to control this behavior.\n",
      "  _warn_prf(average, modifier, msg_start, len(result))\n",
      "/Library/Frameworks/Python.framework/Versions/3.12/lib/python3.12/site-packages/sklearn/metrics/_classification.py:1469: UndefinedMetricWarning: Recall and F-score are ill-defined and being set to 0.0 in labels with no true samples. Use `zero_division` parameter to control this behavior.\n",
      "  _warn_prf(average, modifier, msg_start, len(result))\n",
      "/Library/Frameworks/Python.framework/Versions/3.12/lib/python3.12/site-packages/sklearn/metrics/_classification.py:1469: UndefinedMetricWarning: Recall and F-score are ill-defined and being set to 0.0 in labels with no true samples. Use `zero_division` parameter to control this behavior.\n",
      "  _warn_prf(average, modifier, msg_start, len(result))\n",
      "/Library/Frameworks/Python.framework/Versions/3.12/lib/python3.12/site-packages/sklearn/metrics/_classification.py:1469: UndefinedMetricWarning: Recall and F-score are ill-defined and being set to 0.0 in labels with no true samples. Use `zero_division` parameter to control this behavior.\n",
      "  _warn_prf(average, modifier, msg_start, len(result))\n",
      "/Library/Frameworks/Python.framework/Versions/3.12/lib/python3.12/site-packages/sklearn/metrics/_classification.py:1469: UndefinedMetricWarning: Recall and F-score are ill-defined and being set to 0.0 in labels with no true samples. Use `zero_division` parameter to control this behavior.\n",
      "  _warn_prf(average, modifier, msg_start, len(result))\n",
      "/Library/Frameworks/Python.framework/Versions/3.12/lib/python3.12/site-packages/sklearn/metrics/_classification.py:1469: UndefinedMetricWarning: Precision and F-score are ill-defined and being set to 0.0 in labels with no predicted samples. Use `zero_division` parameter to control this behavior.\n",
      "  _warn_prf(average, modifier, msg_start, len(result))\n",
      "/Library/Frameworks/Python.framework/Versions/3.12/lib/python3.12/site-packages/sklearn/metrics/_classification.py:1469: UndefinedMetricWarning: Recall and F-score are ill-defined and being set to 0.0 in labels with no true samples. Use `zero_division` parameter to control this behavior.\n",
      "  _warn_prf(average, modifier, msg_start, len(result))\n",
      "/Library/Frameworks/Python.framework/Versions/3.12/lib/python3.12/site-packages/sklearn/metrics/_classification.py:1469: UndefinedMetricWarning: Precision and F-score are ill-defined and being set to 0.0 in labels with no predicted samples. Use `zero_division` parameter to control this behavior.\n",
      "  _warn_prf(average, modifier, msg_start, len(result))\n",
      "/Library/Frameworks/Python.framework/Versions/3.12/lib/python3.12/site-packages/sklearn/metrics/_classification.py:1469: UndefinedMetricWarning: Recall and F-score are ill-defined and being set to 0.0 in labels with no true samples. Use `zero_division` parameter to control this behavior.\n",
      "  _warn_prf(average, modifier, msg_start, len(result))\n",
      "/Library/Frameworks/Python.framework/Versions/3.12/lib/python3.12/site-packages/sklearn/metrics/_classification.py:1469: UndefinedMetricWarning: Precision and F-score are ill-defined and being set to 0.0 in labels with no predicted samples. Use `zero_division` parameter to control this behavior.\n",
      "  _warn_prf(average, modifier, msg_start, len(result))\n",
      "/Library/Frameworks/Python.framework/Versions/3.12/lib/python3.12/site-packages/sklearn/metrics/_classification.py:1469: UndefinedMetricWarning: Recall and F-score are ill-defined and being set to 0.0 in labels with no true samples. Use `zero_division` parameter to control this behavior.\n",
      "  _warn_prf(average, modifier, msg_start, len(result))\n",
      "/Library/Frameworks/Python.framework/Versions/3.12/lib/python3.12/site-packages/sklearn/metrics/_classification.py:1469: UndefinedMetricWarning: Recall and F-score are ill-defined and being set to 0.0 in labels with no true samples. Use `zero_division` parameter to control this behavior.\n",
      "  _warn_prf(average, modifier, msg_start, len(result))\n",
      "/Library/Frameworks/Python.framework/Versions/3.12/lib/python3.12/site-packages/sklearn/metrics/_classification.py:1469: UndefinedMetricWarning: Recall and F-score are ill-defined and being set to 0.0 in labels with no true samples. Use `zero_division` parameter to control this behavior.\n",
      "  _warn_prf(average, modifier, msg_start, len(result))\n",
      "/Library/Frameworks/Python.framework/Versions/3.12/lib/python3.12/site-packages/sklearn/metrics/_classification.py:1469: UndefinedMetricWarning: Recall and F-score are ill-defined and being set to 0.0 in labels with no true samples. Use `zero_division` parameter to control this behavior.\n",
      "  _warn_prf(average, modifier, msg_start, len(result))\n",
      "/Library/Frameworks/Python.framework/Versions/3.12/lib/python3.12/site-packages/sklearn/metrics/_classification.py:1469: UndefinedMetricWarning: Precision and F-score are ill-defined and being set to 0.0 in labels with no predicted samples. Use `zero_division` parameter to control this behavior.\n",
      "  _warn_prf(average, modifier, msg_start, len(result))\n",
      "/Library/Frameworks/Python.framework/Versions/3.12/lib/python3.12/site-packages/sklearn/metrics/_classification.py:1469: UndefinedMetricWarning: Recall and F-score are ill-defined and being set to 0.0 in labels with no true samples. Use `zero_division` parameter to control this behavior.\n",
      "  _warn_prf(average, modifier, msg_start, len(result))\n",
      "/Library/Frameworks/Python.framework/Versions/3.12/lib/python3.12/site-packages/sklearn/metrics/_classification.py:1469: UndefinedMetricWarning: Precision and F-score are ill-defined and being set to 0.0 in labels with no predicted samples. Use `zero_division` parameter to control this behavior.\n",
      "  _warn_prf(average, modifier, msg_start, len(result))\n",
      "/Library/Frameworks/Python.framework/Versions/3.12/lib/python3.12/site-packages/sklearn/metrics/_classification.py:1469: UndefinedMetricWarning: Recall and F-score are ill-defined and being set to 0.0 in labels with no true samples. Use `zero_division` parameter to control this behavior.\n",
      "  _warn_prf(average, modifier, msg_start, len(result))\n",
      "/Library/Frameworks/Python.framework/Versions/3.12/lib/python3.12/site-packages/sklearn/metrics/_classification.py:1469: UndefinedMetricWarning: Precision and F-score are ill-defined and being set to 0.0 in labels with no predicted samples. Use `zero_division` parameter to control this behavior.\n",
      "  _warn_prf(average, modifier, msg_start, len(result))\n",
      "/Library/Frameworks/Python.framework/Versions/3.12/lib/python3.12/site-packages/sklearn/metrics/_classification.py:1469: UndefinedMetricWarning: Recall and F-score are ill-defined and being set to 0.0 in labels with no true samples. Use `zero_division` parameter to control this behavior.\n",
      "  _warn_prf(average, modifier, msg_start, len(result))\n",
      "/Library/Frameworks/Python.framework/Versions/3.12/lib/python3.12/site-packages/sklearn/metrics/_classification.py:1469: UndefinedMetricWarning: Precision and F-score are ill-defined and being set to 0.0 in labels with no predicted samples. Use `zero_division` parameter to control this behavior.\n",
      "  _warn_prf(average, modifier, msg_start, len(result))\n",
      "/Library/Frameworks/Python.framework/Versions/3.12/lib/python3.12/site-packages/sklearn/metrics/_classification.py:1469: UndefinedMetricWarning: Precision and F-score are ill-defined and being set to 0.0 in labels with no predicted samples. Use `zero_division` parameter to control this behavior.\n",
      "  _warn_prf(average, modifier, msg_start, len(result))\n",
      "/Library/Frameworks/Python.framework/Versions/3.12/lib/python3.12/site-packages/sklearn/metrics/_classification.py:1469: UndefinedMetricWarning: Precision and F-score are ill-defined and being set to 0.0 in labels with no predicted samples. Use `zero_division` parameter to control this behavior.\n",
      "  _warn_prf(average, modifier, msg_start, len(result))\n"
     ]
    }
   ],
   "source": [
    "# Accuracy\n",
    "# create empty dataframe to store accuracy\n",
    "accuracy = pd.DataFrame()\n",
    "\n",
    "# get accuracy using the classification report from sklearn\n",
    "for i in range(1,31):\n",
    "    rep_i = classification_report(testing[str(i)].astype('string'), \n",
    "                          round(predictions[str(i)]).astype('int').astype('str'))\n",
    "    acc_i = float(re.findall(\"accuracy.*[01].\\d\\d\",rep_i)[0][-4:])\n",
    "    accuracy.at[i,\"accuracy\"] = acc_i"
   ]
  },
  {
   "cell_type": "code",
   "execution_count": 17,
   "id": "993c7701-3487-4df1-996f-2d1be4097e4f",
   "metadata": {
    "tags": []
   },
   "outputs": [
    {
     "data": {
      "text/plain": [
       "accuracy    0.430667\n",
       "dtype: float64"
      ]
     },
     "execution_count": 17,
     "metadata": {},
     "output_type": "execute_result"
    }
   ],
   "source": [
    "accuracy.mean()"
   ]
  },
  {
   "cell_type": "code",
   "execution_count": 18,
   "id": "dda25ade-4e25-4415-b53c-88025e1927a4",
   "metadata": {},
   "outputs": [
    {
     "data": {
      "text/html": [
       "<div>\n",
       "<style scoped>\n",
       "    .dataframe tbody tr th:only-of-type {\n",
       "        vertical-align: middle;\n",
       "    }\n",
       "\n",
       "    .dataframe tbody tr th {\n",
       "        vertical-align: top;\n",
       "    }\n",
       "\n",
       "    .dataframe thead th {\n",
       "        text-align: right;\n",
       "    }\n",
       "</style>\n",
       "<table border=\"1\" class=\"dataframe\">\n",
       "  <thead>\n",
       "    <tr style=\"text-align: right;\">\n",
       "      <th></th>\n",
       "      <th>accuracy</th>\n",
       "    </tr>\n",
       "  </thead>\n",
       "  <tbody>\n",
       "    <tr>\n",
       "      <th>count</th>\n",
       "      <td>30.000000</td>\n",
       "    </tr>\n",
       "    <tr>\n",
       "      <th>mean</th>\n",
       "      <td>0.430667</td>\n",
       "    </tr>\n",
       "    <tr>\n",
       "      <th>std</th>\n",
       "      <td>0.348662</td>\n",
       "    </tr>\n",
       "    <tr>\n",
       "      <th>min</th>\n",
       "      <td>0.000000</td>\n",
       "    </tr>\n",
       "    <tr>\n",
       "      <th>25%</th>\n",
       "      <td>0.090000</td>\n",
       "    </tr>\n",
       "    <tr>\n",
       "      <th>50%</th>\n",
       "      <td>0.460000</td>\n",
       "    </tr>\n",
       "    <tr>\n",
       "      <th>75%</th>\n",
       "      <td>0.710000</td>\n",
       "    </tr>\n",
       "    <tr>\n",
       "      <th>max</th>\n",
       "      <td>1.000000</td>\n",
       "    </tr>\n",
       "  </tbody>\n",
       "</table>\n",
       "</div>"
      ],
      "text/plain": [
       "        accuracy\n",
       "count  30.000000\n",
       "mean    0.430667\n",
       "std     0.348662\n",
       "min     0.000000\n",
       "25%     0.090000\n",
       "50%     0.460000\n",
       "75%     0.710000\n",
       "max     1.000000"
      ]
     },
     "execution_count": 18,
     "metadata": {},
     "output_type": "execute_result"
    }
   ],
   "source": [
    "accuracy.describe()"
   ]
  },
  {
   "cell_type": "markdown",
   "id": "11d0ee35-9b7b-4777-90ed-e8f7f206bddf",
   "metadata": {},
   "source": [
    "### Results: AIC"
   ]
  },
  {
   "cell_type": "code",
   "execution_count": 19,
   "id": "6d01a2f0-e817-46ad-8e8e-a4962498e1b7",
   "metadata": {},
   "outputs": [
    {
     "data": {
      "text/plain": [
       "aic    32.774165\n",
       "dtype: float64"
      ]
     },
     "execution_count": 19,
     "metadata": {},
     "output_type": "execute_result"
    }
   ],
   "source": [
    "aic.mean()"
   ]
  },
  {
   "cell_type": "code",
   "execution_count": 20,
   "id": "3b8cae60-5b00-4565-b9b1-8b440ebebbc2",
   "metadata": {},
   "outputs": [
    {
     "data": {
      "text/html": [
       "<div>\n",
       "<style scoped>\n",
       "    .dataframe tbody tr th:only-of-type {\n",
       "        vertical-align: middle;\n",
       "    }\n",
       "\n",
       "    .dataframe tbody tr th {\n",
       "        vertical-align: top;\n",
       "    }\n",
       "\n",
       "    .dataframe thead th {\n",
       "        text-align: right;\n",
       "    }\n",
       "</style>\n",
       "<table border=\"1\" class=\"dataframe\">\n",
       "  <thead>\n",
       "    <tr style=\"text-align: right;\">\n",
       "      <th></th>\n",
       "      <th>aic</th>\n",
       "    </tr>\n",
       "  </thead>\n",
       "  <tbody>\n",
       "    <tr>\n",
       "      <th>count</th>\n",
       "      <td>30.000000</td>\n",
       "    </tr>\n",
       "    <tr>\n",
       "      <th>mean</th>\n",
       "      <td>32.774165</td>\n",
       "    </tr>\n",
       "    <tr>\n",
       "      <th>std</th>\n",
       "      <td>84.579168</td>\n",
       "    </tr>\n",
       "    <tr>\n",
       "      <th>min</th>\n",
       "      <td>-238.540767</td>\n",
       "    </tr>\n",
       "    <tr>\n",
       "      <th>25%</th>\n",
       "      <td>8.368422</td>\n",
       "    </tr>\n",
       "    <tr>\n",
       "      <th>50%</th>\n",
       "      <td>51.103905</td>\n",
       "    </tr>\n",
       "    <tr>\n",
       "      <th>75%</th>\n",
       "      <td>82.974953</td>\n",
       "    </tr>\n",
       "    <tr>\n",
       "      <th>max</th>\n",
       "      <td>194.868137</td>\n",
       "    </tr>\n",
       "  </tbody>\n",
       "</table>\n",
       "</div>"
      ],
      "text/plain": [
       "              aic\n",
       "count   30.000000\n",
       "mean    32.774165\n",
       "std     84.579168\n",
       "min   -238.540767\n",
       "25%      8.368422\n",
       "50%     51.103905\n",
       "75%     82.974953\n",
       "max    194.868137"
      ]
     },
     "execution_count": 20,
     "metadata": {},
     "output_type": "execute_result"
    }
   ],
   "source": [
    "aic.describe()"
   ]
  },
  {
   "cell_type": "code",
   "execution_count": null,
   "id": "fd78e810-f622-44e7-90b9-7e5678026737",
   "metadata": {},
   "outputs": [],
   "source": []
  }
 ],
 "metadata": {
  "kernelspec": {
   "display_name": "Python 3 (ipykernel)",
   "language": "python",
   "name": "python3"
  },
  "language_info": {
   "codemirror_mode": {
    "name": "ipython",
    "version": 3
   },
   "file_extension": ".py",
   "mimetype": "text/x-python",
   "name": "python",
   "nbconvert_exporter": "python",
   "pygments_lexer": "ipython3",
   "version": "3.12.0"
  }
 },
 "nbformat": 4,
 "nbformat_minor": 5
}
